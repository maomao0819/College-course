{
 "cells": [
  {
   "cell_type": "markdown",
   "metadata": {},
   "source": [
    "### import module"
   ]
  },
  {
   "cell_type": "code",
   "execution_count": 1,
   "metadata": {},
   "outputs": [],
   "source": [
    "import numpy as np\n",
    "import pandas as pd\n",
    "import matplotlib\n",
    "import matplotlib.pyplot as plt\n",
    "import sklearn"
   ]
  },
  {
   "cell_type": "markdown",
   "metadata": {},
   "source": [
    "# Data Input"
   ]
  },
  {
   "cell_type": "markdown",
   "metadata": {},
   "source": [
    "## read csv"
   ]
  },
  {
   "cell_type": "code",
   "execution_count": 2,
   "metadata": {},
   "outputs": [],
   "source": [
    "dataset = pd.read_csv('student-mat.csv', sep=';')"
   ]
  },
  {
   "cell_type": "code",
   "execution_count": 3,
   "metadata": {},
   "outputs": [
    {
     "name": "stdout",
     "output_type": "stream",
     "text": [
      "    school sex  age address famsize Pstatus  Medu  Fedu      Mjob      Fjob  \\\n",
      "0       GP   F   18       U     GT3       A     4     4   at_home   teacher   \n",
      "1       GP   F   17       U     GT3       T     1     1   at_home     other   \n",
      "2       GP   F   15       U     LE3       T     1     1   at_home     other   \n",
      "3       GP   F   15       U     GT3       T     4     2    health  services   \n",
      "4       GP   F   16       U     GT3       T     3     3     other     other   \n",
      "..     ...  ..  ...     ...     ...     ...   ...   ...       ...       ...   \n",
      "390     MS   M   20       U     LE3       A     2     2  services  services   \n",
      "391     MS   M   17       U     LE3       T     3     1  services  services   \n",
      "392     MS   M   21       R     GT3       T     1     1     other     other   \n",
      "393     MS   M   18       R     LE3       T     3     2  services     other   \n",
      "394     MS   M   19       U     LE3       T     1     1     other   at_home   \n",
      "\n",
      "     ... famrel freetime  goout  Dalc  Walc health absences  G1  G2  G3  \n",
      "0    ...      4        3      4     1     1      3        6   5   6   6  \n",
      "1    ...      5        3      3     1     1      3        4   5   5   6  \n",
      "2    ...      4        3      2     2     3      3       10   7   8  10  \n",
      "3    ...      3        2      2     1     1      5        2  15  14  15  \n",
      "4    ...      4        3      2     1     2      5        4   6  10  10  \n",
      "..   ...    ...      ...    ...   ...   ...    ...      ...  ..  ..  ..  \n",
      "390  ...      5        5      4     4     5      4       11   9   9   9  \n",
      "391  ...      2        4      5     3     4      2        3  14  16  16  \n",
      "392  ...      5        5      3     3     3      3        3  10   8   7  \n",
      "393  ...      4        4      1     3     4      5        0  11  12  10  \n",
      "394  ...      3        2      3     3     3      5        5   8   9   9  \n",
      "\n",
      "[395 rows x 33 columns]\n"
     ]
    }
   ],
   "source": [
    "print(dataset)"
   ]
  },
  {
   "cell_type": "markdown",
   "metadata": {},
   "source": [
    "# Data Preprocessing"
   ]
  },
  {
   "cell_type": "code",
   "execution_count": 4,
   "metadata": {},
   "outputs": [],
   "source": [
    "from sklearn.utils import shuffle\n",
    "from sklearn import preprocessing"
   ]
  },
  {
   "cell_type": "markdown",
   "metadata": {},
   "source": [
    "## Shuffle the data"
   ]
  },
  {
   "cell_type": "code",
   "execution_count": 5,
   "metadata": {},
   "outputs": [],
   "source": [
    "dataset_shuffle = shuffle(dataset)"
   ]
  },
  {
   "cell_type": "markdown",
   "metadata": {},
   "source": [
    "## Transform data format and shape so your model can process them"
   ]
  },
  {
   "cell_type": "markdown",
   "metadata": {},
   "source": [
    "### modify categorical features"
   ]
  },
  {
   "cell_type": "code",
   "execution_count": 6,
   "metadata": {},
   "outputs": [
    {
     "name": "stdout",
     "output_type": "stream",
     "text": [
      "     internet  nursery  activities  schoolsup  famsup  paid  sex  romantic  \\\n",
      "43          1        1           0          1       1     0    1         0   \n",
      "79          1        1           0          0       1     0    0         0   \n",
      "18          1        1           1          0       1     0    1         0   \n",
      "64          1        1           1          1       0     0    0         1   \n",
      "289         1        1           1          0       1     1    1         0   \n",
      "..        ...      ...         ...        ...     ...   ...  ...       ...   \n",
      "337         1        1           0          0       1     1    0         1   \n",
      "344         1        1           0          0       1     0    0         0   \n",
      "320         1        1           0          0       1     1    0         1   \n",
      "349         1        0           0          0       1     0    1         0   \n",
      "23          1        1           1          0       1     0    1         0   \n",
      "\n",
      "     higher  Mjob  Fjob  famsize  Pstatus  reason  address  guardian  school  \n",
      "43        1     3     3        0        1       0        1         0       0  \n",
      "79        1     0     2        0        1       0        1         1       0  \n",
      "18        1     3     3        0        1       0        1         1       0  \n",
      "64        1     3     3        1        1       3        1         0       0  \n",
      "289       1     4     4        1        0       3        1         1       0  \n",
      "..      ...   ...   ...      ...      ...     ...      ...       ...     ...  \n",
      "337       1     2     2        0        1       1        1         1       0  \n",
      "344       1     0     2        0        1       0        1         1       0  \n",
      "320       1     3     3        0        0       0        1         1       0  \n",
      "349       1     2     2        0        1       0        0         1       1  \n",
      "23        1     2     2        1        1       3        1         1       0  \n",
      "\n",
      "[395 rows x 17 columns]\n"
     ]
    },
    {
     "name": "stderr",
     "output_type": "stream",
     "text": [
      "D:\\programming\\Anaconda3\\lib\\site-packages\\sklearn\\preprocessing\\_encoders.py:415: FutureWarning: The handling of integer data will change in version 0.22. Currently, the categories are determined based on the range [0, max(values)], while in the future they will be determined based on the unique values.\n",
      "If you want the future behaviour and silence this warning, you can specify \"categories='auto'\".\n",
      "In case you used a LabelEncoder before this OneHotEncoder to convert the categories to integers, then you can now use the OneHotEncoder directly.\n",
      "  warnings.warn(msg, FutureWarning)\n"
     ]
    }
   ],
   "source": [
    "numeric_variables_cols = dataset_shuffle._get_numeric_data().columns\n",
    "categorical_variables_cols_set = set(dataset_shuffle.columns) - set(numeric_variables_cols)\n",
    "categorical_variables_cols = dataset_shuffle[list(categorical_variables_cols_set)]\n",
    "# LabelEncoder\n",
    "le = preprocessing.LabelEncoder()\n",
    "dataset_shuffle[list(categorical_variables_cols_set)] = np.array(categorical_variables_cols.apply(le.fit_transform))\n",
    "# OneHotEncoder\n",
    "ohe = preprocessing.OneHotEncoder()\n",
    "b = ohe.fit_transform(dataset_shuffle[list(categorical_variables_cols_set)]).toarray()\n",
    "dataset_shuffle[list(categorical_variables_cols_set)] = pd.get_dummies(dataset_shuffle[list(categorical_variables_cols_set)])\n",
    "print(pd.get_dummies(dataset_shuffle[list(categorical_variables_cols_set)]))"
   ]
  },
  {
   "cell_type": "code",
   "execution_count": 7,
   "metadata": {},
   "outputs": [],
   "source": [
    "x = np.array(dataset_shuffle.drop(dataset_shuffle.columns[-1], axis=1))"
   ]
  },
  {
   "cell_type": "markdown",
   "metadata": {},
   "source": [
    "## Transform label format so you can do the required two tasks described below Data section."
   ]
  },
  {
   "cell_type": "code",
   "execution_count": 8,
   "metadata": {},
   "outputs": [],
   "source": [
    "y = np.array(dataset_shuffle[dataset_shuffle.columns[-1]])\n",
    "\n",
    "y_binary = y.copy()\n",
    "y_binary[y_binary < 10] = 0\n",
    "y_binary[y_binary >= 10] = 1\n",
    "\n",
    "y_5_level = y.copy().astype(str)\n",
    "y_5_level[y < 10] = 'F'\n",
    "y_5_level[y == 10] = 'D'\n",
    "y_5_level[y == 11] = 'D'\n",
    "y_5_level[y == 12] = 'C'\n",
    "y_5_level[y == 13] = 'C'\n",
    "y_5_level[y == 14] = 'B'\n",
    "y_5_level[y == 15] = 'B'\n",
    "y_5_level[y > 15] = 'A'"
   ]
  },
  {
   "cell_type": "markdown",
   "metadata": {},
   "source": [
    "# Model Construction"
   ]
  },
  {
   "cell_type": "code",
   "execution_count": 9,
   "metadata": {},
   "outputs": [],
   "source": [
    "from sklearn.tree import DecisionTreeClassifier\n",
    "from sklearn.neighbors import KNeighborsClassifier\n",
    "from sklearn.ensemble import RandomForestClassifier\n",
    "from sklearn.feature_selection import SelectFromModel"
   ]
  },
  {
   "cell_type": "markdown",
   "metadata": {},
   "source": [
    "## Decision Tree"
   ]
  },
  {
   "cell_type": "markdown",
   "metadata": {},
   "source": [
    "### tree algorithm: CART"
   ]
  },
  {
   "cell_type": "code",
   "execution_count": 10,
   "metadata": {},
   "outputs": [],
   "source": [
    "# CART\n",
    "DecisionTree_HV_binary = DecisionTreeClassifier()\n",
    "DecisionTree_HV_5_level = DecisionTreeClassifier()\n",
    "DecisionTree_K_binary = DecisionTreeClassifier()\n",
    "DecisionTree_K_5_level = DecisionTreeClassifier()"
   ]
  },
  {
   "cell_type": "markdown",
   "metadata": {},
   "source": [
    "## Random Forest"
   ]
  },
  {
   "cell_type": "markdown",
   "metadata": {},
   "source": [
    "### Randomly select features"
   ]
  },
  {
   "cell_type": "code",
   "execution_count": 11,
   "metadata": {},
   "outputs": [],
   "source": [
    "sel = SelectFromModel(RandomForestClassifier(n_estimators = 100))\n",
    "selected_feat = sel.fit(x, y)\n",
    "X = x[:, sel.get_support()]\n",
    "RandomForest_HV_binary = RandomForestClassifier(n_estimators=3)\n",
    "RandomForest_HV_5_level = RandomForestClassifier(n_estimators=3)\n",
    "RandomForest_K_binary = RandomForestClassifier(n_estimators=3)\n",
    "RandomForest_K_5_level = RandomForestClassifier(n_estimators=3)"
   ]
  },
  {
   "cell_type": "markdown",
   "metadata": {},
   "source": [
    "### try at least 3 different numbers of trees and compare the result at \"Comparison & Conclusion\"."
   ]
  },
  {
   "cell_type": "markdown",
   "metadata": {},
   "source": [
    "## KNN"
   ]
  },
  {
   "cell_type": "code",
   "execution_count": 12,
   "metadata": {},
   "outputs": [],
   "source": [
    "KNN_HV_binary = KNeighborsClassifier(n_neighbors=3)\n",
    "KNN_HV_5_level = KNeighborsClassifier(n_neighbors=3)\n",
    "KNN_K_binary = KNeighborsClassifier(n_neighbors=3)\n",
    "KNN_K_5_level = KNeighborsClassifier(n_neighbors=3)"
   ]
  },
  {
   "cell_type": "markdown",
   "metadata": {},
   "source": [
    "### 在\"Comparison & Conclusion\"的最後有說明為何不對every feature做normalization，因為會降低accuracy"
   ]
  },
  {
   "cell_type": "markdown",
   "metadata": {},
   "source": [
    "### try at least 3 different K values and compare their results at \"Comparison & Conclusion\"."
   ]
  },
  {
   "cell_type": "markdown",
   "metadata": {},
   "source": [
    "# Validation"
   ]
  },
  {
   "cell_type": "markdown",
   "metadata": {},
   "source": [
    "## Holdout validation "
   ]
  },
  {
   "cell_type": "code",
   "execution_count": 13,
   "metadata": {},
   "outputs": [],
   "source": [
    "from sklearn.model_selection import train_test_split"
   ]
  },
  {
   "cell_type": "code",
   "execution_count": 14,
   "metadata": {},
   "outputs": [],
   "source": [
    "# binary\n",
    "x_train_binary_HV, x_test_binary_HV, y_train_binary_HV, y_test_binary_HV = train_test_split(x, y_binary, test_size=0.3, random_state=0)\n",
    "# 5_level\n",
    "x_train_5_level_HV, x_test_5_level_HV, y_train_5_level_HV, y_test_5_level_HV = train_test_split(x, y_5_level, test_size=0.3, random_state=0)"
   ]
  },
  {
   "cell_type": "markdown",
   "metadata": {},
   "source": [
    "## K-fold cross-validation"
   ]
  },
  {
   "cell_type": "code",
   "execution_count": 15,
   "metadata": {},
   "outputs": [],
   "source": [
    "from sklearn.model_selection import KFold\n",
    "n_split = 3\n",
    "kf = KFold(n_splits=n_split, shuffle=False)\n",
    "# binary\n",
    "x_train_binary_K = []\n",
    "y_train_binary_K = []\n",
    "x_test_binary_K = []\n",
    "y_test_binary_K = []\n",
    "for train_index, test_index in kf.split(x):\n",
    "    x_train_binary_K.append(x[train_index])\n",
    "    y_train_binary_K.append(y_binary[train_index])\n",
    "    x_test_binary_K.append(x[test_index])\n",
    "    y_test_binary_K.append(y_binary[test_index])\n",
    "# 5_level\n",
    "x_train_5_level_K = []\n",
    "y_train_5_level_K = []\n",
    "x_test_5_level_K = []\n",
    "y_test_5_level_K = []\n",
    "for train_index, test_index in kf.split(x):\n",
    "    x_train_5_level_K.append(x[train_index])\n",
    "    y_train_5_level_K.append(y_5_level[train_index])\n",
    "    x_test_5_level_K.append(x[test_index])\n",
    "    y_test_5_level_K.append(y_5_level[test_index])"
   ]
  },
  {
   "cell_type": "markdown",
   "metadata": {},
   "source": [
    "# Results"
   ]
  },
  {
   "cell_type": "code",
   "execution_count": 16,
   "metadata": {},
   "outputs": [],
   "source": [
    "DT_binary_HV = DecisionTree_HV_binary.fit(x_train_binary_HV, y_train_binary_HV)\n",
    "Y_pred_DT_binary_HV = DT_binary_HV.predict(x_test_binary_HV)\n",
    "\n",
    "DT_5_level_HV = DecisionTree_HV_5_level.fit(x_train_5_level_HV, y_train_5_level_HV)\n",
    "Y_pred_DT_5_level_HV = DT_5_level_HV.predict(x_test_5_level_HV)\n",
    "\n",
    "RF_binary_HV = RandomForest_HV_binary.fit(x_train_binary_HV, y_train_binary_HV)\n",
    "Y_pred_RF_binary_HV = RF_binary_HV.predict(x_test_binary_HV)\n",
    "\n",
    "RF_5_level_HV = RandomForest_HV_5_level.fit(x_train_5_level_HV, y_train_5_level_HV)\n",
    "Y_pred_RF_5_level_HV = RF_5_level_HV.predict(x_test_5_level_HV)\n",
    "\n",
    "KNN_binary_HV = KNN_HV_binary.fit(x_train_binary_HV, y_train_binary_HV)\n",
    "Y_pred_KNN_binary_HV = KNN_binary_HV.predict(x_test_binary_HV)\n",
    "\n",
    "KNN_5_level_HV = KNN_HV_5_level.fit(x_train_5_level_HV, y_train_5_level_HV)\n",
    "Y_pred_KNN_5_level_HV = KNN_5_level_HV.predict(x_test_5_level_HV)\n",
    "\n",
    "Y_pred_DT_binary_K = []\n",
    "for i in range(n_split):\n",
    "    DT_binary_K = DecisionTree_K_binary.fit(x_train_binary_K[i], y_train_binary_K[i])\n",
    "    Y_pred_DT_binary_K.append(DT_binary_K.predict(x_test_binary_K[i]))\n",
    "\n",
    "Y_pred_DT_5_level_K = []\n",
    "for i in range(n_split):\n",
    "    DT_5_level_K = DecisionTree_K_5_level.fit(x_train_5_level_K[i], y_train_5_level_K[i])\n",
    "    Y_pred_DT_5_level_K.append(DT_5_level_K.predict(x_test_5_level_K[i]))\n",
    "\n",
    "Y_pred_RF_binary_K = []\n",
    "for i in range(n_split):\n",
    "    RF_binary_K = RandomForest_K_binary.fit(x_train_binary_K[i], y_train_binary_K[i])\n",
    "    Y_pred_RF_binary_K.append(RF_binary_K.predict(x_test_binary_K[i]))\n",
    "\n",
    "Y_pred_RF_5_level_K = []\n",
    "for i in range(n_split):\n",
    "    RF_5_level_K = RandomForest_K_5_level.fit(x_train_5_level_K[i], y_train_5_level_K[i])\n",
    "    Y_pred_RF_5_level_K.append(RF_5_level_K.predict(x_test_5_level_K[i]))\n",
    "    \n",
    "Y_pred_KNN_binary_K = []\n",
    "for i in range(n_split):\n",
    "    KNN_binary_K = KNN_K_binary.fit(x_train_binary_K[i], y_train_binary_K[i])\n",
    "    Y_pred_KNN_binary_K.append(KNN_binary_K.predict(x_test_binary_K[i]))\n",
    "\n",
    "Y_pred_KNN_5_level_K = []\n",
    "for i in range(n_split):\n",
    "    KNN_5_level_K = KNN_K_5_level.fit(x_train_5_level_K[i], y_train_5_level_K[i])\n",
    "    Y_pred_KNN_5_level_K.append(KNN_5_level_K.predict(x_test_5_level_K[i]))"
   ]
  },
  {
   "cell_type": "code",
   "execution_count": 17,
   "metadata": {},
   "outputs": [],
   "source": [
    "from sklearn.metrics import confusion_matrix\n",
    "from sklearn.metrics import accuracy_score, recall_score, precision_score\n",
    "from sklearn.metrics import precision_recall_fscore_support"
   ]
  },
  {
   "cell_type": "markdown",
   "metadata": {},
   "source": [
    "## Decision Tree, Holdout Validation, binary"
   ]
  },
  {
   "cell_type": "code",
   "execution_count": 18,
   "metadata": {},
   "outputs": [
    {
     "name": "stdout",
     "output_type": "stream",
     "text": [
      "binary label:  [1, 0]\n",
      "Confusion Matrix\n",
      "[[73  8]\n",
      " [ 7 31]]\n",
      "Accuracy: 0.8739495798319328\n",
      "Sensitivity(Recall): [0.90123457 0.81578947]\n",
      "Precision: [0.9125     0.79487179]\n"
     ]
    }
   ],
   "source": [
    "label_list_binary = [1, 0]\n",
    "print('binary label: ', label_list_binary)\n",
    "# Confusion Matrix\n",
    "print('Confusion Matrix')\n",
    "confusion_matrix_DT_binary_HV = confusion_matrix(y_test_binary_HV, Y_pred_DT_binary_HV, labels=label_list_binary)\n",
    "print(confusion_matrix_DT_binary_HV)\n",
    "# Accuracy\n",
    "accuracy_score_DT_binary_HV = accuracy_score(y_test_binary_HV, Y_pred_DT_binary_HV)\n",
    "print('Accuracy:', accuracy_score_DT_binary_HV)\n",
    "# Recall\n",
    "recall_score_DT_binary_HV = recall_score(y_test_binary_HV, Y_pred_DT_binary_HV, labels=label_list_binary, average = None)\n",
    "print('Sensitivity(Recall):', recall_score_DT_binary_HV)\n",
    "# Precision\n",
    "precision_score_DT_binary_HV = precision_score(y_test_binary_HV, Y_pred_DT_binary_HV, labels=label_list_binary, average = None)\n",
    "print('Precision:', precision_score_DT_binary_HV)"
   ]
  },
  {
   "cell_type": "markdown",
   "metadata": {},
   "source": [
    "## Decision Tree, Holdout Validation, 5-Level"
   ]
  },
  {
   "cell_type": "code",
   "execution_count": 19,
   "metadata": {},
   "outputs": [
    {
     "name": "stdout",
     "output_type": "stream",
     "text": [
      "5_level label:  ['A', 'B', 'C', 'D', 'F']\n",
      "Confusion Matrix\n",
      "[[ 7  1  0  0  0]\n",
      " [ 4 14  3  0  0]\n",
      " [ 0  3 10  7  0]\n",
      " [ 0  0  4 19  9]\n",
      " [ 0  0  0  9 29]]\n",
      "Accuracy: 0.6638655462184874\n",
      "Sensitivity(Recall): [0.875      0.66666667 0.5        0.59375    0.76315789]\n",
      "Precision: [0.63636364 0.77777778 0.58823529 0.54285714 0.76315789]\n"
     ]
    }
   ],
   "source": [
    "label_list_5_level = sorted(list(set(y_5_level)))\n",
    "print('5_level label: ', label_list_5_level)\n",
    "# Confusion Matrix\n",
    "print('Confusion Matrix')\n",
    "confusion_matrix_DT_5_level_HV = confusion_matrix(y_test_5_level_HV, Y_pred_DT_5_level_HV, labels=label_list_5_level)\n",
    "print(confusion_matrix_DT_5_level_HV)\n",
    "# Accuracy\n",
    "accuracy_score_DT_5_level_HV = accuracy_score(y_test_5_level_HV, Y_pred_DT_5_level_HV)\n",
    "print('Accuracy:', accuracy_score_DT_5_level_HV)\n",
    "# Recall\n",
    "recall_score_DT_5_level_HV = recall_score(y_test_5_level_HV, Y_pred_DT_5_level_HV, labels=label_list_5_level, average = None)\n",
    "print('Sensitivity(Recall):', recall_score_DT_5_level_HV)\n",
    "# Precision\n",
    "precision_score_DT_5_level_HV = precision_score(y_test_5_level_HV, Y_pred_DT_5_level_HV, labels=label_list_5_level, average = None)\n",
    "print('Precision:', precision_score_DT_5_level_HV)"
   ]
  },
  {
   "cell_type": "markdown",
   "metadata": {},
   "source": [
    "## Random Forest, Holdout Validation, binary"
   ]
  },
  {
   "cell_type": "code",
   "execution_count": 20,
   "metadata": {},
   "outputs": [
    {
     "name": "stdout",
     "output_type": "stream",
     "text": [
      "binary label:  [1, 0]\n",
      "Confusion Matrix\n",
      "[[72  9]\n",
      " [10 28]]\n",
      "Accuracy: 0.8403361344537815\n",
      "Sensitivity(Recall): [0.88888889 0.73684211]\n",
      "Precision: [0.87804878 0.75675676]\n"
     ]
    }
   ],
   "source": [
    "print('binary label: ', label_list_binary)\n",
    "# Confusion Matrix\n",
    "print('Confusion Matrix')\n",
    "confusion_matrix_RF_binary_HV = confusion_matrix(y_test_binary_HV, Y_pred_RF_binary_HV, labels=label_list_binary)\n",
    "print(confusion_matrix_RF_binary_HV)\n",
    "# Accuracy\n",
    "accuracy_score_RF_binary_HV = accuracy_score(y_test_binary_HV, Y_pred_RF_binary_HV)\n",
    "print('Accuracy:', accuracy_score_RF_binary_HV)\n",
    "# Recall\n",
    "recall_score_RF_binary_HV = recall_score(y_test_binary_HV, Y_pred_RF_binary_HV, labels=label_list_binary, average = None)\n",
    "print('Sensitivity(Recall):', recall_score_RF_binary_HV)\n",
    "# Precision\n",
    "precision_score_RF_binary_HV = precision_score(y_test_binary_HV, Y_pred_RF_binary_HV, labels=label_list_binary, average = None)\n",
    "print('Precision:', precision_score_RF_binary_HV)"
   ]
  },
  {
   "cell_type": "markdown",
   "metadata": {},
   "source": [
    "## Random Forest, Holdout Validation, 5-Level"
   ]
  },
  {
   "cell_type": "code",
   "execution_count": 21,
   "metadata": {},
   "outputs": [
    {
     "name": "stdout",
     "output_type": "stream",
     "text": [
      "5_level label:  ['A', 'B', 'C', 'D', 'F']\n",
      "Confusion Matrix\n",
      "[[ 7  1  0  0  0]\n",
      " [ 5 12  2  2  0]\n",
      " [ 3  7  5  4  1]\n",
      " [ 4  4  7 15  2]\n",
      " [ 3  3  4  6 22]]\n",
      "Accuracy: 0.5126050420168067\n",
      "Sensitivity(Recall): [0.875      0.57142857 0.25       0.46875    0.57894737]\n",
      "Precision: [0.31818182 0.44444444 0.27777778 0.55555556 0.88      ]\n"
     ]
    }
   ],
   "source": [
    "print('5_level label: ', label_list_5_level)\n",
    "# Confusion Matrix\n",
    "print('Confusion Matrix')\n",
    "confusion_matrix_RF_5_level_HV = confusion_matrix(y_test_5_level_HV, Y_pred_RF_5_level_HV, labels=label_list_5_level)\n",
    "print(confusion_matrix_RF_5_level_HV)\n",
    "# Accuracy\n",
    "accuracy_score_RF_5_level_HV = accuracy_score(y_test_5_level_HV, Y_pred_RF_5_level_HV)\n",
    "print('Accuracy:', accuracy_score_RF_5_level_HV)\n",
    "# Recall\n",
    "recall_score_RF_5_level_HV = recall_score(y_test_5_level_HV, Y_pred_RF_5_level_HV, labels=label_list_5_level, average = None)\n",
    "print('Sensitivity(Recall):', recall_score_RF_5_level_HV)\n",
    "# Precision\n",
    "precision_score_RF_5_level_HV = precision_score(y_test_5_level_HV, Y_pred_RF_5_level_HV, labels=label_list_5_level, average = None)\n",
    "print('Precision:', precision_score_RF_5_level_HV)"
   ]
  },
  {
   "cell_type": "markdown",
   "metadata": {},
   "source": [
    "## KNN, Holdout Validation, binary"
   ]
  },
  {
   "cell_type": "code",
   "execution_count": 22,
   "metadata": {},
   "outputs": [
    {
     "name": "stdout",
     "output_type": "stream",
     "text": [
      "binary label:  [1, 0]\n",
      "Confusion Matrix\n",
      "[[72  9]\n",
      " [ 8 30]]\n",
      "Accuracy: 0.8571428571428571\n",
      "Sensitivity(Recall): [0.88888889 0.78947368]\n",
      "Precision: [0.9        0.76923077]\n"
     ]
    }
   ],
   "source": [
    "print('binary label: ', label_list_binary)\n",
    "# Confusion Matrix\n",
    "print('Confusion Matrix')\n",
    "confusion_matrix_KNN_binary_HV = confusion_matrix(y_test_binary_HV, Y_pred_KNN_binary_HV, labels=label_list_binary)\n",
    "print(confusion_matrix_KNN_binary_HV)\n",
    "# Accuracy\n",
    "accuracy_score_KNN_binary_HV = accuracy_score(y_test_binary_HV, Y_pred_KNN_binary_HV)\n",
    "print('Accuracy:', accuracy_score_KNN_binary_HV)\n",
    "# Recall\n",
    "recall_score_KNN_binary_HV = recall_score(y_test_binary_HV, Y_pred_KNN_binary_HV, labels=label_list_binary, average = None)\n",
    "print('Sensitivity(Recall):', recall_score_KNN_binary_HV)\n",
    "# Precision\n",
    "precision_score_KNN_binary_HV = precision_score(y_test_binary_HV, Y_pred_KNN_binary_HV, labels=label_list_binary, average = None)\n",
    "print('Precision:', precision_score_KNN_binary_HV)"
   ]
  },
  {
   "cell_type": "markdown",
   "metadata": {},
   "source": [
    "## KNN, Holdout Validation, 5-Level"
   ]
  },
  {
   "cell_type": "code",
   "execution_count": 23,
   "metadata": {},
   "outputs": [
    {
     "name": "stdout",
     "output_type": "stream",
     "text": [
      "5_level label:  ['A', 'B', 'C', 'D', 'F']\n",
      "Confusion Matrix\n",
      "[[ 6  2  0  0  0]\n",
      " [ 2 15  4  0  0]\n",
      " [ 0  4  7  9  0]\n",
      " [ 0  2  8 13  9]\n",
      " [ 0  0  0  8 30]]\n",
      "Accuracy: 0.5966386554621849\n",
      "Sensitivity(Recall): [0.75       0.71428571 0.35       0.40625    0.78947368]\n",
      "Precision: [0.75       0.65217391 0.36842105 0.43333333 0.76923077]\n"
     ]
    }
   ],
   "source": [
    "print('5_level label: ', label_list_5_level)\n",
    "# Confusion Matrix\n",
    "print('Confusion Matrix')\n",
    "confusion_matrix_KNN_5_level_HV = confusion_matrix(y_test_5_level_HV, Y_pred_KNN_5_level_HV, labels=label_list_5_level)\n",
    "print(confusion_matrix_KNN_5_level_HV)\n",
    "# Accuracy\n",
    "accuracy_score_KNN_5_level_HV = accuracy_score(y_test_5_level_HV, Y_pred_KNN_5_level_HV)\n",
    "print('Accuracy:', accuracy_score_KNN_5_level_HV)\n",
    "# Recall\n",
    "recall_score_KNN_5_level_HV = recall_score(y_test_5_level_HV, Y_pred_KNN_5_level_HV, labels=label_list_5_level, average = None)\n",
    "print('Sensitivity(Recall):', recall_score_KNN_5_level_HV)\n",
    "# Precision\n",
    "precision_score_KNN_5_level_HV = precision_score(y_test_5_level_HV, Y_pred_KNN_5_level_HV, labels=label_list_5_level, average = None)\n",
    "print('Precision:', precision_score_KNN_5_level_HV)"
   ]
  },
  {
   "cell_type": "markdown",
   "metadata": {},
   "source": [
    "## Decision Tree, K-fold Cross-Validation, binary"
   ]
  },
  {
   "cell_type": "code",
   "execution_count": 24,
   "metadata": {},
   "outputs": [
    {
     "name": "stdout",
     "output_type": "stream",
     "text": [
      "binary label:  [1, 0]\n",
      "Confusion Matrix\n",
      "[[81.33333333  7.        ]\n",
      " [ 8.         35.33333333]]\n",
      "Accuracy: 0.8860359318374585\n",
      "Sensitivity(Recall): [0.92172095 0.81498196]\n",
      "Precision: [0.91030552 0.83262861]\n"
     ]
    }
   ],
   "source": [
    "print('binary label: ', label_list_binary)\n",
    "confusion_matrix_DT_binary_K = np.zeros((len(label_list_binary), len(label_list_binary)))\n",
    "accuracy_score_DT_binary_K = 0\n",
    "recall_score_DT_binary_K = np.zeros(len(label_list_binary))\n",
    "precision_score_DT_binary_K = np.zeros(len(label_list_binary))\n",
    "for i in range(n_split):\n",
    "    confusion_matrix_DT_binary_K += confusion_matrix(y_test_binary_K[i], Y_pred_DT_binary_K[i], labels=label_list_binary)\n",
    "    accuracy_score_DT_binary_K += accuracy_score(y_test_binary_K[i], Y_pred_DT_binary_K[i])\n",
    "    recall_score_DT_binary_K += recall_score(y_test_binary_K[i], Y_pred_DT_binary_K[i], labels=label_list_binary, average = None)\n",
    "    precision_score_DT_binary_K += precision_score(y_test_binary_K[i], Y_pred_DT_binary_K[i], labels=label_list_binary, average = None)\n",
    "confusion_matrix_DT_binary_K /= n_split\n",
    "accuracy_score_DT_binary_K /= n_split\n",
    "recall_score_DT_binary_K /= n_split\n",
    "precision_score_DT_binary_K /= n_split\n",
    "print('Confusion Matrix')\n",
    "print(confusion_matrix_DT_binary_K)\n",
    "print('Accuracy:', accuracy_score_DT_binary_K)\n",
    "print('Sensitivity(Recall):', recall_score_DT_binary_K)\n",
    "print('Precision:', precision_score_DT_binary_K)"
   ]
  },
  {
   "cell_type": "markdown",
   "metadata": {},
   "source": [
    "## Decision Tree, K-fold Cross-Validation, 5-Level"
   ]
  },
  {
   "cell_type": "code",
   "execution_count": 25,
   "metadata": {},
   "outputs": [
    {
     "name": "stdout",
     "output_type": "stream",
     "text": [
      "5_level label:  ['A', 'B', 'C', 'D', 'F']\n",
      "Confusion Matrix\n",
      "[[ 9.33333333  3.66666667  0.33333333  0.          0.        ]\n",
      " [ 3.66666667 13.33333333  2.          1.          0.        ]\n",
      " [ 0.33333333  3.         10.66666667  6.33333333  0.33333333]\n",
      " [ 0.          0.          5.66666667 21.66666667  7.        ]\n",
      " [ 0.          0.          0.          9.66666667 33.66666667]]\n",
      "Accuracy: 0.6734520780322306\n",
      "Sensitivity(Recall): [0.72133096 0.66666667 0.51598694 0.62265512 0.77714162]\n",
      "Precision: [0.73453997 0.66490997 0.57407407 0.55413553 0.81868752]\n"
     ]
    }
   ],
   "source": [
    "print('5_level label: ', label_list_5_level)\n",
    "confusion_matrix_DT_5_level_K = np.zeros((len(label_list_5_level), len(label_list_5_level)))\n",
    "accuracy_score_DT_5_level_K = 0\n",
    "recall_score_DT_5_level_K = np.zeros(len(label_list_5_level))\n",
    "precision_score_DT_5_level_K = np.zeros(len(label_list_5_level))\n",
    "for i in range(n_split):\n",
    "    confusion_matrix_DT_5_level_K += confusion_matrix(y_test_5_level_K[i], Y_pred_DT_5_level_K[i], labels=label_list_5_level)\n",
    "    accuracy_score_DT_5_level_K += accuracy_score(y_test_5_level_K[i], Y_pred_DT_5_level_K[i])\n",
    "    recall_score_DT_5_level_K += recall_score(y_test_5_level_K[i], Y_pred_DT_5_level_K[i], labels=label_list_5_level, average = None)\n",
    "    precision_score_DT_5_level_K += precision_score(y_test_5_level_K[i], Y_pred_DT_5_level_K[i], labels=label_list_5_level, average = None)\n",
    "confusion_matrix_DT_5_level_K /= n_split\n",
    "accuracy_score_DT_5_level_K /= n_split\n",
    "recall_score_DT_5_level_K /= n_split\n",
    "precision_score_DT_5_level_K /= n_split\n",
    "print('Confusion Matrix')\n",
    "print(confusion_matrix_DT_5_level_K)\n",
    "print('Accuracy:', accuracy_score_DT_5_level_K)\n",
    "print('Sensitivity(Recall):', recall_score_DT_5_level_K)\n",
    "print('Precision:', precision_score_DT_5_level_K)"
   ]
  },
  {
   "cell_type": "markdown",
   "metadata": {},
   "source": [
    "## Random Forest, K-fold Cross-Validation, binary"
   ]
  },
  {
   "cell_type": "code",
   "execution_count": 26,
   "metadata": {},
   "outputs": [
    {
     "name": "stdout",
     "output_type": "stream",
     "text": [
      "binary label:  [1, 0]\n",
      "Confusion Matrix\n",
      "[[79.          9.33333333]\n",
      " [13.         30.33333333]]\n",
      "Accuracy: 0.8303068856503971\n",
      "Sensitivity(Recall): [0.89455424 0.69280196]\n",
      "Precision: [0.85891002 0.76104746]\n"
     ]
    }
   ],
   "source": [
    "print('binary label: ', label_list_binary)\n",
    "confusion_matrix_RF_binary_K = np.zeros((len(label_list_binary), len(label_list_binary)))\n",
    "accuracy_score_RF_binary_K = 0\n",
    "recall_score_RF_binary_K = np.zeros(len(label_list_binary))\n",
    "precision_score_RF_binary_K = np.zeros(len(label_list_binary))\n",
    "for i in range(n_split):\n",
    "    confusion_matrix_RF_binary_K += confusion_matrix(y_test_binary_K[i], Y_pred_RF_binary_K[i], labels=label_list_binary)\n",
    "    accuracy_score_RF_binary_K += accuracy_score(y_test_binary_K[i], Y_pred_RF_binary_K[i])\n",
    "    recall_score_RF_binary_K += recall_score(y_test_binary_K[i], Y_pred_RF_binary_K[i], labels=label_list_binary, average = None)\n",
    "    precision_score_RF_binary_K += precision_score(y_test_binary_K[i], Y_pred_RF_binary_K[i], labels=label_list_binary, average = None)\n",
    "confusion_matrix_RF_binary_K /= n_split\n",
    "accuracy_score_RF_binary_K /= n_split\n",
    "recall_score_RF_binary_K /= n_split\n",
    "precision_score_RF_binary_K /= n_split\n",
    "print('Confusion Matrix')\n",
    "print(confusion_matrix_RF_binary_K)\n",
    "print('Accuracy:', accuracy_score_RF_binary_K)\n",
    "print('Sensitivity(Recall):', recall_score_RF_binary_K)\n",
    "print('Precision:', precision_score_RF_binary_K)"
   ]
  },
  {
   "cell_type": "markdown",
   "metadata": {},
   "source": [
    "## Random Forest, K-fold Cross-Validation, 5-Level"
   ]
  },
  {
   "cell_type": "code",
   "execution_count": 27,
   "metadata": {},
   "outputs": [
    {
     "name": "stdout",
     "output_type": "stream",
     "text": [
      "5_level label:  ['A', 'B', 'C', 'D', 'F']\n",
      "Confusion Matrix\n",
      "[[ 8.33333333  4.66666667  0.33333333  0.          0.        ]\n",
      " [ 4.33333333 11.33333333  2.66666667  1.          0.66666667]\n",
      " [ 1.33333333  7.          6.66666667  5.          0.66666667]\n",
      " [ 0.66666667  3.          5.33333333 16.33333333  9.        ]\n",
      " [ 0.          0.33333333  1.66666667  8.33333333 33.        ]]\n",
      "Accuracy: 0.5746202482843704\n",
      "Sensitivity(Recall): [0.6385918  0.54305556 0.32410572 0.47582973 0.75797768]\n",
      "Precision: [0.57382479 0.40893591 0.41340531 0.52274204 0.7631746 ]\n"
     ]
    }
   ],
   "source": [
    "print('5_level label: ', label_list_5_level)\n",
    "confusion_matrix_RF_5_level_K = np.zeros((len(label_list_5_level), len(label_list_5_level)))\n",
    "accuracy_score_RF_5_level_K = 0\n",
    "recall_score_RF_5_level_K = np.zeros(len(label_list_5_level))\n",
    "precision_score_RF_5_level_K = np.zeros(len(label_list_5_level))\n",
    "for i in range(n_split):\n",
    "    confusion_matrix_RF_5_level_K += confusion_matrix(y_test_5_level_K[i], Y_pred_RF_5_level_K[i], labels=label_list_5_level)\n",
    "    accuracy_score_RF_5_level_K += accuracy_score(y_test_5_level_K[i], Y_pred_RF_5_level_K[i])\n",
    "    recall_score_RF_5_level_K += recall_score(y_test_5_level_K[i], Y_pred_RF_5_level_K[i], labels=label_list_5_level, average = None)\n",
    "    precision_score_RF_5_level_K += precision_score(y_test_5_level_K[i], Y_pred_RF_5_level_K[i], labels=label_list_5_level, average = None)\n",
    "confusion_matrix_RF_5_level_K /= n_split\n",
    "accuracy_score_RF_5_level_K /= n_split\n",
    "recall_score_RF_5_level_K /= n_split\n",
    "precision_score_RF_5_level_K /= n_split\n",
    "print('Confusion Matrix')\n",
    "print(confusion_matrix_RF_5_level_K)\n",
    "print('Accuracy:', accuracy_score_RF_5_level_K)\n",
    "print('Sensitivity(Recall):', recall_score_RF_5_level_K)\n",
    "print('Precision:', precision_score_RF_5_level_K)"
   ]
  },
  {
   "cell_type": "markdown",
   "metadata": {},
   "source": [
    "## KNN, K-fold Cross-Validation, binary"
   ]
  },
  {
   "cell_type": "code",
   "execution_count": 28,
   "metadata": {},
   "outputs": [
    {
     "name": "stdout",
     "output_type": "stream",
     "text": [
      "binary label:  [1, 0]\n",
      "Confusion Matrix\n",
      "[[81.          7.33333333]\n",
      " [ 9.         34.33333333]]\n",
      "Accuracy: 0.8758963682627804\n",
      "Sensitivity(Recall): [0.91841352 0.79401372]\n",
      "Precision: [0.90046409 0.82375415]\n"
     ]
    }
   ],
   "source": [
    "print('binary label: ', label_list_binary)\n",
    "confusion_matrix_KNN_binary_K = np.zeros((len(label_list_binary), len(label_list_binary)))\n",
    "accuracy_score_KNN_binary_K = 0\n",
    "recall_score_KNN_binary_K = np.zeros(len(label_list_binary))\n",
    "precision_score_KNN_binary_K = np.zeros(len(label_list_binary))\n",
    "for i in range(n_split):\n",
    "    confusion_matrix_KNN_binary_K += confusion_matrix(y_test_binary_K[i], Y_pred_KNN_binary_K[i], labels=label_list_binary)\n",
    "    accuracy_score_KNN_binary_K += accuracy_score(y_test_binary_K[i], Y_pred_KNN_binary_K[i])\n",
    "    recall_score_KNN_binary_K += recall_score(y_test_binary_K[i], Y_pred_KNN_binary_K[i], labels=label_list_binary, average = None)\n",
    "    precision_score_KNN_binary_K += precision_score(y_test_binary_K[i], Y_pred_KNN_binary_K[i], labels=label_list_binary, average = None)\n",
    "confusion_matrix_KNN_binary_K /= n_split\n",
    "accuracy_score_KNN_binary_K /= n_split\n",
    "recall_score_KNN_binary_K /= n_split\n",
    "precision_score_KNN_binary_K /= n_split\n",
    "print('Confusion Matrix')\n",
    "print(confusion_matrix_KNN_binary_K)\n",
    "print('Accuracy:', accuracy_score_KNN_binary_K)\n",
    "print('Sensitivity(Recall):', recall_score_KNN_binary_K)\n",
    "print('Precision:', precision_score_KNN_binary_K)"
   ]
  },
  {
   "cell_type": "markdown",
   "metadata": {},
   "source": [
    "## KNN, K-fold Cross-Validation, 5-Level"
   ]
  },
  {
   "cell_type": "code",
   "execution_count": 29,
   "metadata": {},
   "outputs": [
    {
     "name": "stdout",
     "output_type": "stream",
     "text": [
      "5_level label:  ['A', 'B', 'C', 'D', 'F']\n",
      "Confusion Matrix\n",
      "[[ 7.          6.          0.33333333  0.          0.        ]\n",
      " [ 3.33333333 13.          2.33333333  1.33333333  0.        ]\n",
      " [ 0.66666667  6.          4.          9.66666667  0.33333333]\n",
      " [ 0.          2.33333333  7.         18.          7.        ]\n",
      " [ 0.          0.          1.          8.         34.33333333]]\n",
      "Accuracy: 0.5796900300717095\n",
      "Sensitivity(Recall): [0.5167855  0.64027778 0.18876737 0.51767677 0.79401372]\n",
      "Precision: [0.63014763 0.47151365 0.26205534 0.4866453  0.82375415]\n"
     ]
    }
   ],
   "source": [
    "print('5_level label: ', label_list_5_level)\n",
    "confusion_matrix_KNN_5_level_K = np.zeros((len(label_list_5_level), len(label_list_5_level)))\n",
    "accuracy_score_KNN_5_level_K = 0\n",
    "recall_score_KNN_5_level_K = np.zeros(len(label_list_5_level))\n",
    "precision_score_KNN_5_level_K = np.zeros(len(label_list_5_level))\n",
    "for i in range(n_split):\n",
    "    confusion_matrix_KNN_5_level_K += confusion_matrix(y_test_5_level_K[i], Y_pred_KNN_5_level_K[i], labels=label_list_5_level)\n",
    "    accuracy_score_KNN_5_level_K += accuracy_score(y_test_5_level_K[i], Y_pred_KNN_5_level_K[i])\n",
    "    recall_score_KNN_5_level_K += recall_score(y_test_5_level_K[i], Y_pred_KNN_5_level_K[i], labels=label_list_5_level, average = None)\n",
    "    precision_score_KNN_5_level_K += precision_score(y_test_5_level_K[i], Y_pred_KNN_5_level_K[i], labels=label_list_5_level, average = None)\n",
    "confusion_matrix_KNN_5_level_K /= n_split\n",
    "accuracy_score_KNN_5_level_K /= n_split\n",
    "recall_score_KNN_5_level_K /= n_split\n",
    "precision_score_KNN_5_level_K /= n_split\n",
    "print('Confusion Matrix')\n",
    "print(confusion_matrix_KNN_5_level_K)\n",
    "print('Accuracy:', accuracy_score_KNN_5_level_K)\n",
    "print('Sensitivity(Recall):', recall_score_KNN_5_level_K)\n",
    "print('Precision:', precision_score_KNN_5_level_K)"
   ]
  },
  {
   "cell_type": "code",
   "execution_count": 30,
   "metadata": {},
   "outputs": [
    {
     "name": "stdout",
     "output_type": "stream",
     "text": [
      "Decision Tree, Holdout Validation, binary\t\t\tDecision Tree, Holdout Validation, K-fold Cross-Validation\n",
      "binary label:  [1, 0] \t\t\t\t\t\t binary label:  [1, 0]\n",
      "\n",
      "Confusion Matrix:\t\t\t\t\t\tConfusion Matrix:\n",
      "\t [73  8] \t\t\t\t\t\t\t [81.33333333  7.        ]\n",
      "\t [ 7 31] \t\t\t\t\t\t\t [ 8.         35.33333333]\n",
      "Accuracy: 0.8739495798319328 \t\t\t\t\t Accuracy: 0.8860359318374585\n",
      "Sensitivity(Recall): [0.90123457 0.81578947] \t\t\t Sensitivity(Recall): [0.92172095 0.81498196]\n",
      "Precision: [0.9125     0.79487179] \t\t\t\t Precision: [0.91030552 0.83262861]\n",
      "\n",
      "\n",
      "Random Forest, Holdout Validation, binary\t\t\tRandom Forest, Holdout Validation, K-fold Cross-Validation\n",
      "binary label:  [1, 0] \t\t\t\t\t\t binary label:  [1, 0]\n",
      "\n",
      "Confusion Matrix:\t\t\t\t\t\tConfusion Matrix:\n",
      "\t [72  9] \t\t\t\t\t\t\t [79.          9.33333333]\n",
      "\t [10 28] \t\t\t\t\t\t\t [13.         30.33333333]\n",
      "Accuracy: 0.8403361344537815 \t\t\t\t\t Accuracy: 0.8303068856503971\n",
      "Sensitivity(Recall): [0.88888889 0.73684211] \t\t\t Sensitivity(Recall): [0.89455424 0.69280196]\n",
      "Precision: [0.87804878 0.75675676] \t\t\t\t Precision: [0.85891002 0.76104746]\n",
      "\n",
      "\n",
      "KNN, Holdout Validation, binary\t\t\t\t\tKNN, Holdout Validation, K-fold Cross-Validation\n",
      "binary label:  [1, 0] \t\t\t\t\t\t binary label:  [1, 0]\n",
      "\n",
      "Confusion Matrix:\t\t\t\t\t\tConfusion Matrix:\n",
      "\t [72  9] \t\t\t\t\t\t\t [81.          7.33333333]\n",
      "\t [ 8 30] \t\t\t\t\t\t\t [ 9.         34.33333333]\n",
      "Accuracy: 0.8571428571428571 \t\t\t\t\t Accuracy: 0.8758963682627804\n",
      "Sensitivity(Recall): [0.88888889 0.78947368] \t\t\t Sensitivity(Recall): [0.91841352 0.79401372]\n",
      "Precision: [0.9        0.76923077] \t\t\t\t Precision: [0.90046409 0.82375415]\n",
      "\n",
      "\n",
      "Decision Tree, Holdout Validation, 5_level\t\tDecision Tree, Holdout Validation, K-fold Cross-Validation\n",
      "5_level label:  ['A', 'B', 'C', 'D', 'F'] \t\t\t\t\t\t 5_level label:  ['A', 'B', 'C', 'D', 'F']\n",
      "\n",
      "Confusion Matrix:\t\t\t\t\tConfusion Matrix:\n",
      "\t [7 1 0 0 0] \t\t\t\t\t [9.33333333 3.66666667 0.33333333 0.         0.        ]\n",
      "\t [ 4 14  3  0  0] \t\t\t\t\t [ 3.66666667 13.33333333  2.          1.          0.        ]\n",
      "\t [ 0  3 10  7  0] \t\t\t\t\t [ 0.33333333  3.         10.66666667  6.33333333  0.33333333]\n",
      "\t [ 0  0  4 19  9] \t\t\t\t\t [ 0.          0.          5.66666667 21.66666667  7.        ]\n",
      "\t [ 0  0  0  9 29] \t\t\t\t\t [ 0.          0.          0.          9.66666667 33.66666667]\n",
      "Accuracy: 0.6638655462184874 \t\t\t\t Accuracy: 0.6734520780322306\n",
      "Sensitivity(Recall): [0.875      0.66666667 0.5        0.59375    0.76315789] \t\t Sensitivity(Recall): [0.72133096 0.66666667 0.51598694 0.62265512 0.77714162]\n",
      "Precision: [0.63636364 0.77777778 0.58823529 0.54285714 0.76315789] \t\t\t Precision: [0.73453997 0.66490997 0.57407407 0.55413553 0.81868752]\n",
      "\n",
      "\n",
      "Random Forest, Holdout Validation, 5_level\t\tRandom Forest, Holdout Validation, K-fold Cross-Validation\n",
      "5_level label:  ['A', 'B', 'C', 'D', 'F'] \t\t\t\t\t\t 5_level label:  ['A', 'B', 'C', 'D', 'F']\n",
      "\n",
      "Confusion Matrix:\t\t\t\t\tConfusion Matrix:\n",
      "\t [7 1 0 0 0] \t\t\t\t\t [8.33333333 4.66666667 0.33333333 0.         0.        ]\n",
      "\t [ 5 12  2  2  0] \t\t\t\t\t [ 4.33333333 11.33333333  2.66666667  1.          0.66666667]\n",
      "\t [3 7 5 4 1] \t\t\t\t\t [1.33333333 7.         6.66666667 5.         0.66666667]\n",
      "\t [ 4  4  7 15  2] \t\t\t\t\t [ 0.66666667  3.          5.33333333 16.33333333  9.        ]\n",
      "\t [ 3  3  4  6 22] \t\t\t\t\t [ 0.          0.33333333  1.66666667  8.33333333 33.        ]\n",
      "Accuracy: 0.5126050420168067 \t\t\t\t Accuracy: 0.5746202482843704\n",
      "Sensitivity(Recall): [0.875      0.57142857 0.25       0.46875    0.57894737] \t\t Sensitivity(Recall): [0.6385918  0.54305556 0.32410572 0.47582973 0.75797768]\n",
      "Precision: [0.31818182 0.44444444 0.27777778 0.55555556 0.88      ] \t\t\t Precision: [0.57382479 0.40893591 0.41340531 0.52274204 0.7631746 ]\n",
      "\n",
      "\n",
      "KNN, Holdout Validation, 5_level\t\t\t\tKNN, Holdout Validation, K-fold Cross-Validation\n",
      "5_level label:  ['A', 'B', 'C', 'D', 'F'] \t\t\t\t\t\t 5_level label:  ['A', 'B', 'C', 'D', 'F']\n",
      "\n",
      "Confusion Matrix:\t\t\t\t\tConfusion Matrix:\n",
      "\t [6 2 0 0 0] \t\t\t\t [7.         6.         0.33333333 0.         0.        ]\n",
      "\t [ 2 15  4  0  0] \t\t\t\t [ 3.33333333 13.          2.33333333  1.33333333  0.        ]\n",
      "\t [0 4 7 9 0] \t\t\t\t [0.66666667 6.         4.         9.66666667 0.33333333]\n",
      "\t [ 0  2  8 13  9] \t\t\t\t [ 0.          2.33333333  7.         18.          7.        ]\n",
      "\t [ 0  0  0  8 30] \t\t\t\t [ 0.          0.          1.          8.         34.33333333]\n",
      "Accuracy: 0.5966386554621849 \t\t\t\t Accuracy: 0.5796900300717095\n",
      "Sensitivity(Recall): [0.75       0.71428571 0.35       0.40625    0.78947368] \t\t Sensitivity(Recall): [0.5167855  0.64027778 0.18876737 0.51767677 0.79401372]\n",
      "Precision: [0.75       0.65217391 0.36842105 0.43333333 0.76923077] \t\t\t Precision: [0.63014763 0.47151365 0.26205534 0.4866453  0.82375415]\n",
      "\n",
      "\n"
     ]
    }
   ],
   "source": [
    "# Decision Tree , binary\n",
    "print('Decision Tree, Holdout Validation, binary', 'Decision Tree, Holdout Validation, K-fold Cross-Validation', sep='\\t\\t\\t')\n",
    "print('binary label: ', label_list_binary, '\\t\\t\\t\\t\\t\\t', 'binary label: ', label_list_binary)\n",
    "print()\n",
    "print('Confusion Matrix:', 'Confusion Matrix:', sep='\\t\\t\\t\\t\\t\\t')\n",
    "for i in range(len(label_list_binary)):\n",
    "    print('\\t', confusion_matrix_DT_binary_HV[i], '\\t\\t\\t\\t\\t\\t\\t', confusion_matrix_DT_binary_K[i])\n",
    "print('Accuracy:', accuracy_score_DT_binary_HV, '\\t\\t\\t\\t\\t', 'Accuracy:', accuracy_score_DT_binary_K)\n",
    "print('Sensitivity(Recall):', recall_score_DT_binary_HV, '\\t\\t\\t', 'Sensitivity(Recall):', recall_score_DT_binary_K)\n",
    "print('Precision:', precision_score_DT_binary_HV, '\\t\\t\\t\\t', 'Precision:', precision_score_DT_binary_K)\n",
    "print('\\n')\n",
    "\n",
    "# Random Forest , binary\n",
    "print('Random Forest, Holdout Validation, binary', 'Random Forest, Holdout Validation, K-fold Cross-Validation', sep='\\t\\t\\t')\n",
    "print('binary label: ', label_list_binary, '\\t\\t\\t\\t\\t\\t', 'binary label: ', label_list_binary)\n",
    "print()\n",
    "print('Confusion Matrix:', 'Confusion Matrix:', sep='\\t\\t\\t\\t\\t\\t')\n",
    "for i in range(len(label_list_binary)):\n",
    "    print('\\t', confusion_matrix_RF_binary_HV[i], '\\t\\t\\t\\t\\t\\t\\t', confusion_matrix_RF_binary_K[i])\n",
    "print('Accuracy:', accuracy_score_RF_binary_HV, '\\t\\t\\t\\t\\t', 'Accuracy:', accuracy_score_RF_binary_K)\n",
    "print('Sensitivity(Recall):', recall_score_RF_binary_HV, '\\t\\t\\t', 'Sensitivity(Recall):', recall_score_RF_binary_K)\n",
    "print('Precision:', precision_score_RF_binary_HV, '\\t\\t\\t\\t', 'Precision:', precision_score_RF_binary_K)\n",
    "print('\\n')\n",
    "\n",
    "# KNN , binary\n",
    "print('KNN, Holdout Validation, binary', 'KNN, Holdout Validation, K-fold Cross-Validation', sep='\\t\\t\\t\\t\\t')\n",
    "print('binary label: ', label_list_binary, '\\t\\t\\t\\t\\t\\t', 'binary label: ', label_list_binary)\n",
    "print()\n",
    "print('Confusion Matrix:', 'Confusion Matrix:', sep='\\t\\t\\t\\t\\t\\t')\n",
    "for i in range(len(label_list_binary)):\n",
    "    print('\\t', confusion_matrix_KNN_binary_HV[i], '\\t\\t\\t\\t\\t\\t\\t', confusion_matrix_KNN_binary_K[i])\n",
    "print('Accuracy:', accuracy_score_KNN_binary_HV, '\\t\\t\\t\\t\\t', 'Accuracy:', accuracy_score_KNN_binary_K)\n",
    "print('Sensitivity(Recall):', recall_score_KNN_binary_HV, '\\t\\t\\t', 'Sensitivity(Recall):', recall_score_KNN_binary_K)\n",
    "print('Precision:', precision_score_KNN_binary_HV, '\\t\\t\\t\\t', 'Precision:', precision_score_KNN_binary_K)\n",
    "print('\\n')\n",
    "\n",
    "# Decision Tree , 5_level\n",
    "print('Decision Tree, Holdout Validation, 5_level', 'Decision Tree, Holdout Validation, K-fold Cross-Validation', sep='\\t\\t')\n",
    "print('5_level label: ', label_list_5_level, '\\t\\t\\t\\t\\t\\t', '5_level label: ', label_list_5_level)\n",
    "print()\n",
    "print('Confusion Matrix:', 'Confusion Matrix:', sep='\\t\\t\\t\\t\\t')\n",
    "for i in range(len(label_list_5_level)):\n",
    "    print('\\t', confusion_matrix_DT_5_level_HV[i], '\\t\\t\\t\\t\\t', confusion_matrix_DT_5_level_K[i])\n",
    "print('Accuracy:', accuracy_score_DT_5_level_HV, '\\t\\t\\t\\t', 'Accuracy:', accuracy_score_DT_5_level_K)\n",
    "print('Sensitivity(Recall):', recall_score_DT_5_level_HV, '\\t\\t', 'Sensitivity(Recall):', recall_score_DT_5_level_K)\n",
    "print('Precision:', precision_score_DT_5_level_HV, '\\t\\t\\t', 'Precision:', precision_score_DT_5_level_K)\n",
    "print('\\n')\n",
    "\n",
    "# Random Forest , 5_level\n",
    "print('Random Forest, Holdout Validation, 5_level', 'Random Forest, Holdout Validation, K-fold Cross-Validation', sep='\\t\\t')\n",
    "print('5_level label: ', label_list_5_level, '\\t\\t\\t\\t\\t\\t', '5_level label: ', label_list_5_level)\n",
    "print()\n",
    "print('Confusion Matrix:', 'Confusion Matrix:', sep='\\t\\t\\t\\t\\t')\n",
    "for i in range(len(label_list_5_level)):\n",
    "    print('\\t', confusion_matrix_RF_5_level_HV[i], '\\t\\t\\t\\t\\t', confusion_matrix_RF_5_level_K[i])\n",
    "print('Accuracy:', accuracy_score_RF_5_level_HV, '\\t\\t\\t\\t', 'Accuracy:', accuracy_score_RF_5_level_K)\n",
    "print('Sensitivity(Recall):', recall_score_RF_5_level_HV, '\\t\\t', 'Sensitivity(Recall):', recall_score_RF_5_level_K)\n",
    "print('Precision:', precision_score_RF_5_level_HV, '\\t\\t\\t', 'Precision:', precision_score_RF_5_level_K)\n",
    "print('\\n')\n",
    "\n",
    "# KNN , 5_level\n",
    "print('KNN, Holdout Validation, 5_level', 'KNN, Holdout Validation, K-fold Cross-Validation', sep='\\t\\t\\t\\t')\n",
    "print('5_level label: ', label_list_5_level, '\\t\\t\\t\\t\\t\\t', '5_level label: ', label_list_5_level)\n",
    "print()\n",
    "print('Confusion Matrix:', 'Confusion Matrix:', sep='\\t\\t\\t\\t\\t')\n",
    "for i in range(len(label_list_5_level)):\n",
    "    print('\\t', confusion_matrix_KNN_5_level_HV[i], '\\t\\t\\t\\t', confusion_matrix_KNN_5_level_K[i])\n",
    "print('Accuracy:', accuracy_score_KNN_5_level_HV, '\\t\\t\\t\\t', 'Accuracy:', accuracy_score_KNN_5_level_K)\n",
    "print('Sensitivity(Recall):', recall_score_KNN_5_level_HV, '\\t\\t', 'Sensitivity(Recall):', recall_score_KNN_5_level_K)\n",
    "print('Precision:', precision_score_KNN_5_level_HV, '\\t\\t\\t', 'Precision:', precision_score_KNN_5_level_K)\n",
    "print('\\n')"
   ]
  },
  {
   "cell_type": "markdown",
   "metadata": {},
   "source": [
    "# Comparison & Conclusion"
   ]
  },
  {
   "cell_type": "markdown",
   "metadata": {},
   "source": [
    "- sklearn中 Decision Tree 使用的演算法是CART"
   ]
  },
  {
   "cell_type": "markdown",
   "metadata": {},
   "source": [
    "- 普遍上Cross-Validation的表現比Holdout Validation好"
   ]
  },
  {
   "cell_type": "code",
   "execution_count": 31,
   "metadata": {},
   "outputs": [
    {
     "name": "stdout",
     "output_type": "stream",
     "text": [
      "Accuracy: 0.46218487394957986\n",
      "Accuracy: 0.5798319327731093\n",
      "Accuracy: 0.6722689075630253\n"
     ]
    },
    {
     "data": {
      "image/png": "[encoded data removed]",
      "text/plain": [
       "<Figure size 432x288 with 1 Axes>"
      ]
     },
     "metadata": {
      "needs_background": "light"
     },
     "output_type": "display_data"
    }
   ],
   "source": [
    "n_tree_list = [3, 7, 11]\n",
    "RandomForest_3 = RandomForestClassifier(n_estimators=3)\n",
    "RF_5_level_HV = RandomForest_3.fit(x_train_5_level_HV, y_train_5_level_HV)\n",
    "Y_pred_RF_3 = RF_5_level_HV.predict(x_test_5_level_HV)\n",
    "RandomForest_7 = RandomForestClassifier(n_estimators=7)\n",
    "RF_5_level_HV = RandomForest_7.fit(x_train_5_level_HV, y_train_5_level_HV)\n",
    "Y_pred_RF_7 = RF_5_level_HV.predict(x_test_5_level_HV)\n",
    "RandomForest_11 = RandomForestClassifier(n_estimators=11)\n",
    "RF_5_level_HV = RandomForest_11.fit(x_train_5_level_HV, y_train_5_level_HV)\n",
    "Y_pred_RF_11 = RF_5_level_HV.predict(x_test_5_level_HV)\n",
    "\n",
    "# Accuracy\n",
    "accuracy_score_RF_3 = accuracy_score(y_test_5_level_HV, Y_pred_RF_3)\n",
    "print('Accuracy:', accuracy_score_RF_3)\n",
    "accuracy_score_RF_10 = accuracy_score(y_test_5_level_HV, Y_pred_RF_7)\n",
    "print('Accuracy:', accuracy_score_RF_10)\n",
    "accuracy_score_RF_15 = accuracy_score(y_test_5_level_HV, Y_pred_RF_11)\n",
    "print('Accuracy:', accuracy_score_RF_15)\n",
    "\n",
    "plt.plot([3, 10, 15], [accuracy_score_RF_3, accuracy_score_RF_10, accuracy_score_RF_15])\n",
    "plt.xlabel('The number of Trees')\n",
    "plt.ylabel('Accuracy')\n",
    "plt.show()"
   ]
  },
  {
   "cell_type": "markdown",
   "metadata": {},
   "source": [
    "- 樹的數量越多，Accuracy score會越高，所以認為樹的數量越多越好"
   ]
  },
  {
   "cell_type": "code",
   "execution_count": 32,
   "metadata": {},
   "outputs": [
    {
     "name": "stdout",
     "output_type": "stream",
     "text": [
      "Accuracy: 0.5966386554621849\n",
      "Accuracy: 0.6890756302521008\n",
      "Accuracy: 0.7310924369747899\n"
     ]
    },
    {
     "data": {
      "image/png": "[encoded data removed]",
      "text/plain": [
       "<Figure size 432x288 with 1 Axes>"
      ]
     },
     "metadata": {
      "needs_background": "light"
     },
     "output_type": "display_data"
    }
   ],
   "source": [
    "K_list = [3, 10, 15]\n",
    "KNN_3 = KNeighborsClassifier(n_neighbors=3)\n",
    "KNN_3 = KNN_3.fit(x_train_5_level_HV, y_train_5_level_HV)\n",
    "Y_pred_KNN_3 = KNN_3.predict(x_test_5_level_HV)\n",
    "KNN_10 = KNeighborsClassifier(n_neighbors=10)\n",
    "KNN_10 = KNN_10.fit(x_train_5_level_HV, y_train_5_level_HV)\n",
    "Y_pred_KNN_10 = KNN_10.predict(x_test_5_level_HV)\n",
    "KNN_15 = KNeighborsClassifier(n_neighbors=15)\n",
    "KNN_15 = KNN_15.fit(x_train_5_level_HV, y_train_5_level_HV)\n",
    "Y_pred_KNN_15 = KNN_15.predict(x_test_5_level_HV)\n",
    "\n",
    "# Accuracy\n",
    "accuracy_score_KNN_3 = accuracy_score(y_test_5_level_HV, Y_pred_KNN_3)\n",
    "print('Accuracy:', accuracy_score_KNN_3)\n",
    "accuracy_score_KNN_10 = accuracy_score(y_test_5_level_HV, Y_pred_KNN_10)\n",
    "print('Accuracy:', accuracy_score_KNN_10)\n",
    "accuracy_score_KNN_15 = accuracy_score(y_test_5_level_HV, Y_pred_KNN_15)\n",
    "print('Accuracy:', accuracy_score_KNN_15)\n",
    "\n",
    "plt.plot([3, 10, 15], [accuracy_score_KNN_3, accuracy_score_KNN_10, accuracy_score_KNN_15])\n",
    "plt.xlabel('K')\n",
    "plt.ylabel('Accuracy')\n",
    "plt.show()"
   ]
  },
  {
   "cell_type": "markdown",
   "metadata": {},
   "source": [
    "- K越大，Accuracy score會越高，所以認為K越大越好"
   ]
  },
  {
   "cell_type": "code",
   "execution_count": 33,
   "metadata": {},
   "outputs": [
    {
     "name": "stdout",
     "output_type": "stream",
     "text": [
      "Accuracy without normalization: 0.6890756302521008\n",
      "Accuracy with normalization: 0.40336134453781514\n"
     ]
    }
   ],
   "source": [
    "KNN_10_norm = KNeighborsClassifier(n_neighbors=10)\n",
    "x_train_5_level_HV_norm = (x_train_5_level_HV - np.mean(x_train_5_level_HV, axis=0)) / np.std(x_train_5_level_HV, axis=0)\n",
    "KNN_10_norm = KNN_10_norm.fit(x_train_5_level_HV_norm, y_train_5_level_HV)\n",
    "x_test_5_level_HV_norm = (x_test_5_level_HV - np.mean(x_test_5_level_HV, axis=0)) / np.std(x_test_5_level_HV, axis=0)\n",
    "Y_pred_KNN_10_norm = KNN_10_norm.predict(x_test_5_level_HV_norm)\n",
    "\n",
    "# Accuracy\n",
    "accuracy_score_KNN_10 = accuracy_score(y_test_5_level_HV, Y_pred_KNN_10)\n",
    "print('Accuracy without normalization:', accuracy_score_KNN_10)\n",
    "accuracy_score_KNN_10_norm = accuracy_score(y_test_5_level_HV, Y_pred_KNN_10_norm)\n",
    "print('Accuracy with normalization:', accuracy_score_KNN_10_norm)"
   ]
  },
  {
   "cell_type": "markdown",
   "metadata": {},
   "source": [
    "- KNN沒做normalize的Accuracy score會比較高，所以決定不做normalize"
   ]
  },
  {
   "cell_type": "markdown",
   "metadata": {},
   "source": [
    "# Questions"
   ]
  },
  {
   "cell_type": "markdown",
   "metadata": {},
   "source": [
    "## Decision Tree"
   ]
  },
  {
   "cell_type": "markdown",
   "metadata": {},
   "source": [
    "###  Show the prediction and reasoning of 1-samples in the validation set."
   ]
  },
  {
   "cell_type": "code",
   "execution_count": 34,
   "metadata": {},
   "outputs": [],
   "source": [
    "from sklearn import tree"
   ]
  },
  {
   "cell_type": "code",
   "execution_count": 35,
   "metadata": {},
   "outputs": [
    {
     "name": "stdout",
     "output_type": "stream",
     "text": [
      "sample features:\n",
      "school 0\n",
      "sex 1\n",
      "age 17\n",
      "address 0\n",
      "famsize 0\n",
      "Pstatus 1\n",
      "Medu 1\n",
      "Fedu 2\n",
      "Mjob 0\n",
      "Fjob 0\n",
      "reason 1\n",
      "guardian 1\n",
      "traveltime 1\n",
      "studytime 2\n",
      "failures 0\n",
      "schoolsup 0\n",
      "famsup 1\n",
      "paid 1\n",
      "activities 1\n",
      "nursery 0\n",
      "higher 1\n",
      "internet 0\n",
      "romantic 1\n",
      "famrel 3\n",
      "freetime 5\n",
      "goout 2\n",
      "Dalc 2\n",
      "Walc 2\n",
      "health 1\n",
      "absences 2\n",
      "G1 15\n",
      "G2 14\n",
      "predict: 1\n"
     ]
    },
    {
     "data": {
      "image/png": "[encoded data removed]",
      "text/plain": [
       "<Figure size 1440x720 with 1 Axes>"
      ]
     },
     "metadata": {
      "needs_background": "light"
     },
     "output_type": "display_data"
    }
   ],
   "source": [
    "print('sample features:')\n",
    "for idx, col_name in enumerate(dataset.columns[0:-1]):\n",
    "    print(col_name, x_test_binary_HV[4][idx])\n",
    "print('predict:', Y_pred_DT_binary_HV[4])\n",
    "plt.figure(figsize=(20, 10))\n",
    "tree.plot_tree(DT_binary_HV, feature_names=dataset.columns[0:-1], fontsize=10, filled=True, rounded=True) \n",
    "plt.show()"
   ]
  },
  {
   "cell_type": "markdown",
   "metadata": {},
   "source": [
    "- G2 = 14 -> G2 > 9.5 => 往右\n",
    "- G1 = 15 -> G1 > 10.5 => 往右\n",
    "- 到達leaf => 認為是藍色，label為1\n",
    "- predict也是1"
   ]
  },
  {
   "cell_type": "markdown",
   "metadata": {},
   "source": [
    "## Random Forest"
   ]
  },
  {
   "cell_type": "markdown",
   "metadata": {},
   "source": [
    "### Describe the difference between boosting and bagging"
   ]
  },
  {
   "cell_type": "markdown",
   "metadata": {},
   "source": [
    "- Bagging：通常是用在很強的model，抽樣的方法採用bootstrap，從訓練資料中隨機抽取(取出後放回，n<N)樣本訓練多個分類器，抽完即放回重抽所以可能同個資料出現多次。每個分類器的權重一致，最後用投票方式得到最終結果。\n",
    "- Boosting：通常是用在弱的model，將很多個弱的分類器合成變成一個強分類器，透過將舊分類器的錯誤資料權重提高，然後重新訓練新的分類器，進而降低錯誤率。"
   ]
  },
  {
   "cell_type": "markdown",
   "metadata": {},
   "source": [
    "## KNN"
   ]
  },
  {
   "cell_type": "markdown",
   "metadata": {},
   "source": [
    "### Pick 2 features, draw and describe the KNN decision boundaries, You can pick 2 features to re-train the model, or just fix every other feature values."
   ]
  },
  {
   "cell_type": "code",
   "execution_count": 36,
   "metadata": {},
   "outputs": [
    {
     "data": {
      "image/png": "[encoded data removed]",
      "text/plain": [
       "<Figure size 432x288 with 1 Axes>"
      ]
     },
     "metadata": {
      "needs_background": "light"
     },
     "output_type": "display_data"
    }
   ],
   "source": [
    "import matplotlib.pyplot as plt\n",
    "from matplotlib.colors import ListedColormap\n",
    "\n",
    "x_train = x_train_binary_HV[:, (-2, -1)]\n",
    "knn = KNN_HV_binary.fit(x_train, y_train_binary_HV)\n",
    "\n",
    "# step size in the mesh\n",
    "h = 0.02\n",
    "\n",
    "# Create color maps\n",
    "cmap_light = ListedColormap(['#FFAAAA', '#AAFFAA'])\n",
    "cmap_bold = ListedColormap(['#FF0000', '#00FF00'])\n",
    "\n",
    "x_min, x_max = x_train[:, 0].min() - 1, x_train[:, 0].max() + 1\n",
    "y_min, y_max = x_train[:, 1].min() - 1, x_train[:, 1].max() + 1\n",
    "xx, yy = np.meshgrid(np.arange(x_min, x_max, h), np.arange(y_min, y_max, h))\n",
    "Z = knn.predict(np.c_[xx.ravel(), yy.ravel()])\n",
    "\n",
    "# Put the result into a color plot\n",
    "Z = Z.reshape(xx.shape)\n",
    "plt.figure()\n",
    "plt.pcolormesh(xx, yy, Z, cmap=cmap_light)\n",
    "\n",
    "# Plot also the training points\n",
    "plt.scatter(x_train[:, 0], x_train[:, 1], c=y_train_binary_HV, cmap=cmap_bold, edgecolor='k', s=20)\n",
    "plt.xlim(xx.min(), xx.max())\n",
    "plt.xlabel(dataset.columns[-3])\n",
    "plt.ylim(yy.min(), yy.max())\n",
    "plt.ylabel(dataset.columns[-2])\n",
    "plt.title(\"2-Class classification (k = 3)\")\n",
    "\n",
    "plt.show()"
   ]
  },
  {
   "cell_type": "markdown",
   "metadata": {},
   "source": [
    "### Show the prediction and reasoning of 1-samples in the validation set"
   ]
  },
  {
   "cell_type": "code",
   "execution_count": 37,
   "metadata": {},
   "outputs": [
    {
     "name": "stdout",
     "output_type": "stream",
     "text": [
      "sample features:\n",
      "G1 20\n",
      "G2 15\n",
      "predict: 1\n"
     ]
    }
   ],
   "source": [
    "print('sample features:')\n",
    "for i in [-3, -2]:\n",
    "    print(dataset.columns[i], x_test_binary_HV[20][i])\n",
    "print('predict:', Y_pred_DT_binary_HV[20])"
   ]
  },
  {
   "cell_type": "markdown",
   "metadata": {},
   "source": [
    "- 根據上圖，(20, 15) 在綠色範圍，也就說明label是1，而predict也是1"
   ]
  }
 ],
 "metadata": {
  "kernelspec": {
   "display_name": "Python 3",
   "language": "python",
   "name": "python3"
  },
  "language_info": {
   "codemirror_mode": {
    "name": "ipython",
    "version": 3
   },
   "file_extension": ".py",
   "mimetype": "text/x-python",
   "name": "python",
   "nbconvert_exporter": "python",
   "pygments_lexer": "ipython3",
   "version": "3.7.4"
  }
 },
 "nbformat": 4,
 "nbformat_minor": 2
}
