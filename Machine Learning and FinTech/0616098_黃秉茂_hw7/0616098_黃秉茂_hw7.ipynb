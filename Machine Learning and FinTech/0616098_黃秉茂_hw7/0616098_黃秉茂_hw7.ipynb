{
 "cells": [
  {
   "cell_type": "markdown",
   "metadata": {},
   "source": [
    "# Machine Learning and Fintech HW7"
   ]
  },
  {
   "cell_type": "markdown",
   "metadata": {},
   "source": [
    "### import module"
   ]
  },
  {
   "cell_type": "code",
   "execution_count": 1,
   "metadata": {},
   "outputs": [],
   "source": [
    "import pandas as pd\n",
    "import numpy as np\n",
    "# draw graph\n",
    "import matplotlib.pyplot as plt\n",
    "import seaborn as sns\n",
    "# standardize the Data\n",
    "from sklearn.preprocessing import StandardScaler\n",
    "# PCA\n",
    "from sklearn.decomposition import PCA"
   ]
  },
  {
   "cell_type": "markdown",
   "metadata": {},
   "source": [
    "### AirQualityUCI\n",
    "##### Missing values are tagged with -200 value.\n",
    "0. Date (DD/MM/YYYY)\n",
    "1. Time (HH.MM.SS)\n",
    "2. True hourly averaged concentration CO in mg/m^3 (reference analyzer)\n",
    "3. PT08.S1 (tin oxide) hourly averaged sensor response (nominally CO targeted)\n",
    "4. True hourly averaged overall Non Metanic HydroCarbons concentration in microg/m^3 (reference analyzer)\n",
    "5. True hourly averaged Benzene concentration in microg/m^3 (reference analyzer)\n",
    "6. PT08.S2 (titania) hourly averaged sensor response (nominally NMHC targeted)\n",
    "7. True hourly averaged NOx concentration in ppb (reference analyzer)\n",
    "8. PT08.S3 (tungsten oxide) hourly averaged sensor response (nominally NOx targeted)\n",
    "9. True hourly averaged NO2 concentration in microg/m^3 (reference analyzer)\n",
    "10. PT08.S4 (tungsten oxide) hourly averaged sensor response (nominally NO2 targeted)\n",
    "11. PT08.S5 (indium oxide) hourly averaged sensor response (nominally O3 targeted)\n",
    "12. Temperature in Â°C\n",
    "13. Relative Humidity (%)\n",
    "14. AH Absolute Humidity"
   ]
  },
  {
   "cell_type": "code",
   "execution_count": 2,
   "metadata": {},
   "outputs": [],
   "source": [
    "# read csv\n",
    "dataset = pd.read_csv('AirQualityUCI.csv')"
   ]
  },
  {
   "cell_type": "markdown",
   "metadata": {},
   "source": [
    "## 1. Please do a simple EDA for the dataset."
   ]
  },
  {
   "cell_type": "code",
   "execution_count": 3,
   "metadata": {
    "scrolled": true
   },
   "outputs": [
    {
     "data": {
      "text/html": [
       "<div>\n",
       "<style scoped>\n",
       "    .dataframe tbody tr th:only-of-type {\n",
       "        vertical-align: middle;\n",
       "    }\n",
       "\n",
       "    .dataframe tbody tr th {\n",
       "        vertical-align: top;\n",
       "    }\n",
       "\n",
       "    .dataframe thead th {\n",
       "        text-align: right;\n",
       "    }\n",
       "</style>\n",
       "<table border=\"1\" class=\"dataframe\">\n",
       "  <thead>\n",
       "    <tr style=\"text-align: right;\">\n",
       "      <th></th>\n",
       "      <th>Date</th>\n",
       "      <th>Time</th>\n",
       "      <th>CO(GT)</th>\n",
       "      <th>PT08.S1(CO)</th>\n",
       "      <th>NMHC(GT)</th>\n",
       "      <th>C6H6(GT)</th>\n",
       "      <th>PT08.S2(NMHC)</th>\n",
       "      <th>NOx(GT)</th>\n",
       "      <th>PT08.S3(NOx)</th>\n",
       "      <th>NO2(GT)</th>\n",
       "      <th>PT08.S4(NO2)</th>\n",
       "      <th>PT08.S5(O3)</th>\n",
       "      <th>T</th>\n",
       "      <th>RH</th>\n",
       "      <th>AH</th>\n",
       "    </tr>\n",
       "  </thead>\n",
       "  <tbody>\n",
       "    <tr>\n",
       "      <td>0</td>\n",
       "      <td>2004/3/10</td>\n",
       "      <td>18:00:00</td>\n",
       "      <td>2.6</td>\n",
       "      <td>1360</td>\n",
       "      <td>150</td>\n",
       "      <td>11.9</td>\n",
       "      <td>1046</td>\n",
       "      <td>166</td>\n",
       "      <td>1056</td>\n",
       "      <td>113</td>\n",
       "      <td>1692</td>\n",
       "      <td>1268</td>\n",
       "      <td>13.6</td>\n",
       "      <td>48.9</td>\n",
       "      <td>0.7578</td>\n",
       "    </tr>\n",
       "    <tr>\n",
       "      <td>1</td>\n",
       "      <td>2004/3/10</td>\n",
       "      <td>19:00:00</td>\n",
       "      <td>2.0</td>\n",
       "      <td>1292</td>\n",
       "      <td>112</td>\n",
       "      <td>9.4</td>\n",
       "      <td>955</td>\n",
       "      <td>103</td>\n",
       "      <td>1174</td>\n",
       "      <td>92</td>\n",
       "      <td>1559</td>\n",
       "      <td>972</td>\n",
       "      <td>13.3</td>\n",
       "      <td>47.7</td>\n",
       "      <td>0.7255</td>\n",
       "    </tr>\n",
       "    <tr>\n",
       "      <td>2</td>\n",
       "      <td>2004/3/10</td>\n",
       "      <td>20:00:00</td>\n",
       "      <td>2.2</td>\n",
       "      <td>1402</td>\n",
       "      <td>88</td>\n",
       "      <td>9.0</td>\n",
       "      <td>939</td>\n",
       "      <td>131</td>\n",
       "      <td>1140</td>\n",
       "      <td>114</td>\n",
       "      <td>1555</td>\n",
       "      <td>1074</td>\n",
       "      <td>11.9</td>\n",
       "      <td>54.0</td>\n",
       "      <td>0.7502</td>\n",
       "    </tr>\n",
       "    <tr>\n",
       "      <td>3</td>\n",
       "      <td>2004/3/10</td>\n",
       "      <td>21:00:00</td>\n",
       "      <td>2.2</td>\n",
       "      <td>1376</td>\n",
       "      <td>80</td>\n",
       "      <td>9.2</td>\n",
       "      <td>948</td>\n",
       "      <td>172</td>\n",
       "      <td>1092</td>\n",
       "      <td>122</td>\n",
       "      <td>1584</td>\n",
       "      <td>1203</td>\n",
       "      <td>11.0</td>\n",
       "      <td>60.0</td>\n",
       "      <td>0.7867</td>\n",
       "    </tr>\n",
       "    <tr>\n",
       "      <td>4</td>\n",
       "      <td>2004/3/10</td>\n",
       "      <td>22:00:00</td>\n",
       "      <td>1.6</td>\n",
       "      <td>1272</td>\n",
       "      <td>51</td>\n",
       "      <td>6.5</td>\n",
       "      <td>836</td>\n",
       "      <td>131</td>\n",
       "      <td>1205</td>\n",
       "      <td>116</td>\n",
       "      <td>1490</td>\n",
       "      <td>1110</td>\n",
       "      <td>11.2</td>\n",
       "      <td>59.6</td>\n",
       "      <td>0.7888</td>\n",
       "    </tr>\n",
       "  </tbody>\n",
       "</table>\n",
       "</div>"
      ],
      "text/plain": [
       "        Date      Time  CO(GT)  PT08.S1(CO)  NMHC(GT)  C6H6(GT)  \\\n",
       "0  2004/3/10  18:00:00     2.6         1360       150      11.9   \n",
       "1  2004/3/10  19:00:00     2.0         1292       112       9.4   \n",
       "2  2004/3/10  20:00:00     2.2         1402        88       9.0   \n",
       "3  2004/3/10  21:00:00     2.2         1376        80       9.2   \n",
       "4  2004/3/10  22:00:00     1.6         1272        51       6.5   \n",
       "\n",
       "   PT08.S2(NMHC)  NOx(GT)  PT08.S3(NOx)  NO2(GT)  PT08.S4(NO2)  PT08.S5(O3)  \\\n",
       "0           1046      166          1056      113          1692         1268   \n",
       "1            955      103          1174       92          1559          972   \n",
       "2            939      131          1140      114          1555         1074   \n",
       "3            948      172          1092      122          1584         1203   \n",
       "4            836      131          1205      116          1490         1110   \n",
       "\n",
       "      T    RH      AH  \n",
       "0  13.6  48.9  0.7578  \n",
       "1  13.3  47.7  0.7255  \n",
       "2  11.9  54.0  0.7502  \n",
       "3  11.0  60.0  0.7867  \n",
       "4  11.2  59.6  0.7888  "
      ]
     },
     "execution_count": 3,
     "metadata": {},
     "output_type": "execute_result"
    }
   ],
   "source": [
    "# see a part of data\n",
    "dataset.head()"
   ]
  },
  {
   "cell_type": "markdown",
   "metadata": {},
   "source": [
    "### drop the data which are information not data for analysis"
   ]
  },
  {
   "cell_type": "code",
   "execution_count": 4,
   "metadata": {
    "scrolled": true
   },
   "outputs": [],
   "source": [
    "drop_col = list(set(dataset.columns) - set(dataset._get_numeric_data().columns))"
   ]
  },
  {
   "cell_type": "code",
   "execution_count": 5,
   "metadata": {},
   "outputs": [],
   "source": [
    "dataset = dataset.drop(columns=drop_col, axis=1)"
   ]
  },
  {
   "cell_type": "code",
   "execution_count": 6,
   "metadata": {},
   "outputs": [
    {
     "data": {
      "text/html": [
       "<div>\n",
       "<style scoped>\n",
       "    .dataframe tbody tr th:only-of-type {\n",
       "        vertical-align: middle;\n",
       "    }\n",
       "\n",
       "    .dataframe tbody tr th {\n",
       "        vertical-align: top;\n",
       "    }\n",
       "\n",
       "    .dataframe thead th {\n",
       "        text-align: right;\n",
       "    }\n",
       "</style>\n",
       "<table border=\"1\" class=\"dataframe\">\n",
       "  <thead>\n",
       "    <tr style=\"text-align: right;\">\n",
       "      <th></th>\n",
       "      <th>CO(GT)</th>\n",
       "      <th>PT08.S1(CO)</th>\n",
       "      <th>NMHC(GT)</th>\n",
       "      <th>C6H6(GT)</th>\n",
       "      <th>PT08.S2(NMHC)</th>\n",
       "      <th>NOx(GT)</th>\n",
       "      <th>PT08.S3(NOx)</th>\n",
       "      <th>NO2(GT)</th>\n",
       "      <th>PT08.S4(NO2)</th>\n",
       "      <th>PT08.S5(O3)</th>\n",
       "      <th>T</th>\n",
       "      <th>RH</th>\n",
       "      <th>AH</th>\n",
       "    </tr>\n",
       "  </thead>\n",
       "  <tbody>\n",
       "    <tr>\n",
       "      <td>0</td>\n",
       "      <td>2.6</td>\n",
       "      <td>1360</td>\n",
       "      <td>150</td>\n",
       "      <td>11.9</td>\n",
       "      <td>1046</td>\n",
       "      <td>166</td>\n",
       "      <td>1056</td>\n",
       "      <td>113</td>\n",
       "      <td>1692</td>\n",
       "      <td>1268</td>\n",
       "      <td>13.6</td>\n",
       "      <td>48.9</td>\n",
       "      <td>0.7578</td>\n",
       "    </tr>\n",
       "    <tr>\n",
       "      <td>1</td>\n",
       "      <td>2.0</td>\n",
       "      <td>1292</td>\n",
       "      <td>112</td>\n",
       "      <td>9.4</td>\n",
       "      <td>955</td>\n",
       "      <td>103</td>\n",
       "      <td>1174</td>\n",
       "      <td>92</td>\n",
       "      <td>1559</td>\n",
       "      <td>972</td>\n",
       "      <td>13.3</td>\n",
       "      <td>47.7</td>\n",
       "      <td>0.7255</td>\n",
       "    </tr>\n",
       "    <tr>\n",
       "      <td>2</td>\n",
       "      <td>2.2</td>\n",
       "      <td>1402</td>\n",
       "      <td>88</td>\n",
       "      <td>9.0</td>\n",
       "      <td>939</td>\n",
       "      <td>131</td>\n",
       "      <td>1140</td>\n",
       "      <td>114</td>\n",
       "      <td>1555</td>\n",
       "      <td>1074</td>\n",
       "      <td>11.9</td>\n",
       "      <td>54.0</td>\n",
       "      <td>0.7502</td>\n",
       "    </tr>\n",
       "    <tr>\n",
       "      <td>3</td>\n",
       "      <td>2.2</td>\n",
       "      <td>1376</td>\n",
       "      <td>80</td>\n",
       "      <td>9.2</td>\n",
       "      <td>948</td>\n",
       "      <td>172</td>\n",
       "      <td>1092</td>\n",
       "      <td>122</td>\n",
       "      <td>1584</td>\n",
       "      <td>1203</td>\n",
       "      <td>11.0</td>\n",
       "      <td>60.0</td>\n",
       "      <td>0.7867</td>\n",
       "    </tr>\n",
       "    <tr>\n",
       "      <td>4</td>\n",
       "      <td>1.6</td>\n",
       "      <td>1272</td>\n",
       "      <td>51</td>\n",
       "      <td>6.5</td>\n",
       "      <td>836</td>\n",
       "      <td>131</td>\n",
       "      <td>1205</td>\n",
       "      <td>116</td>\n",
       "      <td>1490</td>\n",
       "      <td>1110</td>\n",
       "      <td>11.2</td>\n",
       "      <td>59.6</td>\n",
       "      <td>0.7888</td>\n",
       "    </tr>\n",
       "  </tbody>\n",
       "</table>\n",
       "</div>"
      ],
      "text/plain": [
       "   CO(GT)  PT08.S1(CO)  NMHC(GT)  C6H6(GT)  PT08.S2(NMHC)  NOx(GT)  \\\n",
       "0     2.6         1360       150      11.9           1046      166   \n",
       "1     2.0         1292       112       9.4            955      103   \n",
       "2     2.2         1402        88       9.0            939      131   \n",
       "3     2.2         1376        80       9.2            948      172   \n",
       "4     1.6         1272        51       6.5            836      131   \n",
       "\n",
       "   PT08.S3(NOx)  NO2(GT)  PT08.S4(NO2)  PT08.S5(O3)     T    RH      AH  \n",
       "0          1056      113          1692         1268  13.6  48.9  0.7578  \n",
       "1          1174       92          1559          972  13.3  47.7  0.7255  \n",
       "2          1140      114          1555         1074  11.9  54.0  0.7502  \n",
       "3          1092      122          1584         1203  11.0  60.0  0.7867  \n",
       "4          1205      116          1490         1110  11.2  59.6  0.7888  "
      ]
     },
     "execution_count": 6,
     "metadata": {},
     "output_type": "execute_result"
    }
   ],
   "source": [
    "# see a part of data\n",
    "dataset.head()"
   ]
  },
  {
   "cell_type": "markdown",
   "metadata": {},
   "source": [
    "### process missing data (missing values are tagged with -200 value)"
   ]
  },
  {
   "cell_type": "code",
   "execution_count": 7,
   "metadata": {},
   "outputs": [
    {
     "name": "stdout",
     "output_type": "stream",
     "text": [
      "The number of the rows which include missing data: 8530\n"
     ]
    }
   ],
   "source": [
    "missing_value = -200\n",
    "n_missing_value_row = len(dataset[dataset.eq(missing_value).any(1)].index)\n",
    "print('The number of the rows which include missing data:', n_missing_value_row)"
   ]
  },
  {
   "cell_type": "markdown",
   "metadata": {},
   "source": [
    "- Since the number of the rows which include missing data is too much, and the tag of the missing data is little enough and far enough from the normal data, I decide not to process them."
   ]
  },
  {
   "cell_type": "code",
   "execution_count": 8,
   "metadata": {},
   "outputs": [
    {
     "name": "stdout",
     "output_type": "stream",
     "text": [
      "<class 'pandas.core.frame.DataFrame'>\n",
      "RangeIndex: 9357 entries, 0 to 9356\n",
      "Data columns (total 13 columns):\n",
      "CO(GT)           9357 non-null float64\n",
      "PT08.S1(CO)      9357 non-null int64\n",
      "NMHC(GT)         9357 non-null int64\n",
      "C6H6(GT)         9357 non-null float64\n",
      "PT08.S2(NMHC)    9357 non-null int64\n",
      "NOx(GT)          9357 non-null int64\n",
      "PT08.S3(NOx)     9357 non-null int64\n",
      "NO2(GT)          9357 non-null int64\n",
      "PT08.S4(NO2)     9357 non-null int64\n",
      "PT08.S5(O3)      9357 non-null int64\n",
      "T                9357 non-null float64\n",
      "RH               9357 non-null float64\n",
      "AH               9357 non-null float64\n",
      "dtypes: float64(5), int64(8)\n",
      "memory usage: 950.4 KB\n"
     ]
    }
   ],
   "source": [
    "dataset.info()"
   ]
  },
  {
   "cell_type": "code",
   "execution_count": 9,
   "metadata": {},
   "outputs": [
    {
     "name": "stdout",
     "output_type": "stream",
     "text": [
      "shape: (9357, 13)\n"
     ]
    }
   ],
   "source": [
    "print('shape:', dataset.shape)"
   ]
  },
  {
   "cell_type": "code",
   "execution_count": 10,
   "metadata": {},
   "outputs": [
    {
     "name": "stdout",
     "output_type": "stream",
     "text": [
      "null:\n",
      "CO(GT)           0\n",
      "PT08.S1(CO)      0\n",
      "NMHC(GT)         0\n",
      "C6H6(GT)         0\n",
      "PT08.S2(NMHC)    0\n",
      "NOx(GT)          0\n",
      "PT08.S3(NOx)     0\n",
      "NO2(GT)          0\n",
      "PT08.S4(NO2)     0\n",
      "PT08.S5(O3)      0\n",
      "T                0\n",
      "RH               0\n",
      "AH               0\n",
      "dtype: int64\n"
     ]
    }
   ],
   "source": [
    "print('null:')\n",
    "print(dataset.isnull().sum())"
   ]
  },
  {
   "cell_type": "code",
   "execution_count": 11,
   "metadata": {},
   "outputs": [
    {
     "data": {
      "image/png": "[encoded data removed]",
      "text/plain": [
       "<Figure size 1152x864 with 13 Axes>"
      ]
     },
     "metadata": {
      "needs_background": "light"
     },
     "output_type": "display_data"
    }
   ],
   "source": [
    "fig, ax = plt.subplots(len(dataset.columns), figsize=(16, 12))\n",
    "for i, col_val in enumerate(dataset.columns):\n",
    "    sns.distplot(dataset[col_val], hist=True, ax=ax[i])\n",
    "    ax[i].set_title('Freq dist ' + col_val, fontsize=10)\n",
    "    ax[i].set_xlabel(col_val, fontsize=8)\n",
    "    ax[i].set_ylabel('Count', fontsize=8)\n",
    "plt.show()"
   ]
  },
  {
   "cell_type": "code",
   "execution_count": 12,
   "metadata": {},
   "outputs": [
    {
     "data": {
      "image/png": "[encoded data removed]",
      "text/plain": [
       "<Figure size 720x720 with 2 Axes>"
      ]
     },
     "metadata": {
      "needs_background": "light"
     },
     "output_type": "display_data"
    }
   ],
   "source": [
    "plt.figure(figsize=(10, 10))\n",
    "sns.heatmap(dataset.corr(), annot=False, center=0.0, cmap='coolwarm'); # cmap=\"YlGnBu\",\n",
    "plt.show()"
   ]
  },
  {
   "cell_type": "code",
   "execution_count": 13,
   "metadata": {},
   "outputs": [
    {
     "name": "stdout",
     "output_type": "stream",
     "text": [
      "unique:\n",
      "CO(GT)             97\n",
      "PT08.S1(CO)      1042\n",
      "NMHC(GT)          430\n",
      "C6H6(GT)          408\n",
      "PT08.S2(NMHC)    1246\n",
      "NOx(GT)           926\n",
      "PT08.S3(NOx)     1222\n",
      "NO2(GT)           284\n",
      "PT08.S4(NO2)     1604\n",
      "PT08.S5(O3)      1744\n",
      "T                 437\n",
      "RH                754\n",
      "AH               6684\n",
      "dtype: int64\n"
     ]
    }
   ],
   "source": [
    "print('unique:')\n",
    "print(dataset.nunique())"
   ]
  },
  {
   "cell_type": "markdown",
   "metadata": {},
   "source": [
    "### Standardize the Data"
   ]
  },
  {
   "cell_type": "code",
   "execution_count": 14,
   "metadata": {
    "scrolled": true
   },
   "outputs": [
    {
     "data": {
      "text/html": [
       "<div>\n",
       "<style scoped>\n",
       "    .dataframe tbody tr th:only-of-type {\n",
       "        vertical-align: middle;\n",
       "    }\n",
       "\n",
       "    .dataframe tbody tr th {\n",
       "        vertical-align: top;\n",
       "    }\n",
       "\n",
       "    .dataframe thead th {\n",
       "        text-align: right;\n",
       "    }\n",
       "</style>\n",
       "<table border=\"1\" class=\"dataframe\">\n",
       "  <thead>\n",
       "    <tr style=\"text-align: right;\">\n",
       "      <th></th>\n",
       "      <th>CO(GT)</th>\n",
       "      <th>PT08.S1(CO)</th>\n",
       "      <th>NMHC(GT)</th>\n",
       "      <th>C6H6(GT)</th>\n",
       "      <th>PT08.S2(NMHC)</th>\n",
       "      <th>NOx(GT)</th>\n",
       "      <th>PT08.S3(NOx)</th>\n",
       "      <th>NO2(GT)</th>\n",
       "      <th>PT08.S4(NO2)</th>\n",
       "      <th>PT08.S5(O3)</th>\n",
       "      <th>T</th>\n",
       "      <th>RH</th>\n",
       "      <th>AH</th>\n",
       "    </tr>\n",
       "  </thead>\n",
       "  <tbody>\n",
       "    <tr>\n",
       "      <td>0</td>\n",
       "      <td>0.474000</td>\n",
       "      <td>0.942983</td>\n",
       "      <td>2.211236</td>\n",
       "      <td>0.242504</td>\n",
       "      <td>0.442297</td>\n",
       "      <td>-0.010166</td>\n",
       "      <td>0.810649</td>\n",
       "      <td>0.432124</td>\n",
       "      <td>0.643258</td>\n",
       "      <td>0.641101</td>\n",
       "      <td>0.088462</td>\n",
       "      <td>0.183831</td>\n",
       "      <td>0.194881</td>\n",
       "    </tr>\n",
       "    <tr>\n",
       "      <td>1</td>\n",
       "      <td>0.466273</td>\n",
       "      <td>0.736807</td>\n",
       "      <td>1.939383</td>\n",
       "      <td>0.182085</td>\n",
       "      <td>0.176459</td>\n",
       "      <td>-0.254902</td>\n",
       "      <td>1.177136</td>\n",
       "      <td>0.266684</td>\n",
       "      <td>0.358574</td>\n",
       "      <td>-0.006723</td>\n",
       "      <td>0.081518</td>\n",
       "      <td>0.160400</td>\n",
       "      <td>0.194052</td>\n",
       "    </tr>\n",
       "    <tr>\n",
       "      <td>2</td>\n",
       "      <td>0.468849</td>\n",
       "      <td>1.070327</td>\n",
       "      <td>1.767687</td>\n",
       "      <td>0.172418</td>\n",
       "      <td>0.129719</td>\n",
       "      <td>-0.146131</td>\n",
       "      <td>1.071538</td>\n",
       "      <td>0.440002</td>\n",
       "      <td>0.350012</td>\n",
       "      <td>0.216513</td>\n",
       "      <td>0.049112</td>\n",
       "      <td>0.283414</td>\n",
       "      <td>0.194686</td>\n",
       "    </tr>\n",
       "    <tr>\n",
       "      <td>3</td>\n",
       "      <td>0.468849</td>\n",
       "      <td>0.991495</td>\n",
       "      <td>1.710454</td>\n",
       "      <td>0.177252</td>\n",
       "      <td>0.156010</td>\n",
       "      <td>0.013142</td>\n",
       "      <td>0.922459</td>\n",
       "      <td>0.503027</td>\n",
       "      <td>0.412086</td>\n",
       "      <td>0.498842</td>\n",
       "      <td>0.028279</td>\n",
       "      <td>0.400571</td>\n",
       "      <td>0.195622</td>\n",
       "    </tr>\n",
       "    <tr>\n",
       "      <td>4</td>\n",
       "      <td>0.461122</td>\n",
       "      <td>0.676167</td>\n",
       "      <td>1.502988</td>\n",
       "      <td>0.112000</td>\n",
       "      <td>-0.171174</td>\n",
       "      <td>-0.146131</td>\n",
       "      <td>1.273416</td>\n",
       "      <td>0.455759</td>\n",
       "      <td>0.210881</td>\n",
       "      <td>0.295303</td>\n",
       "      <td>0.032909</td>\n",
       "      <td>0.392761</td>\n",
       "      <td>0.195676</td>\n",
       "    </tr>\n",
       "  </tbody>\n",
       "</table>\n",
       "</div>"
      ],
      "text/plain": [
       "     CO(GT)  PT08.S1(CO)  NMHC(GT)  C6H6(GT)  PT08.S2(NMHC)   NOx(GT)  \\\n",
       "0  0.474000     0.942983  2.211236  0.242504       0.442297 -0.010166   \n",
       "1  0.466273     0.736807  1.939383  0.182085       0.176459 -0.254902   \n",
       "2  0.468849     1.070327  1.767687  0.172418       0.129719 -0.146131   \n",
       "3  0.468849     0.991495  1.710454  0.177252       0.156010  0.013142   \n",
       "4  0.461122     0.676167  1.502988  0.112000      -0.171174 -0.146131   \n",
       "\n",
       "   PT08.S3(NOx)   NO2(GT)  PT08.S4(NO2)  PT08.S5(O3)         T        RH  \\\n",
       "0      0.810649  0.432124      0.643258     0.641101  0.088462  0.183831   \n",
       "1      1.177136  0.266684      0.358574    -0.006723  0.081518  0.160400   \n",
       "2      1.071538  0.440002      0.350012     0.216513  0.049112  0.283414   \n",
       "3      0.922459  0.503027      0.412086     0.498842  0.028279  0.400571   \n",
       "4      1.273416  0.455759      0.210881     0.295303  0.032909  0.392761   \n",
       "\n",
       "         AH  \n",
       "0  0.194881  \n",
       "1  0.194052  \n",
       "2  0.194686  \n",
       "3  0.195622  \n",
       "4  0.195676  "
      ]
     },
     "execution_count": 14,
     "metadata": {},
     "output_type": "execute_result"
    }
   ],
   "source": [
    "# Standardizing the features\n",
    "std_dataset = StandardScaler().fit_transform(dataset)\n",
    "std_dataset_df = pd.DataFrame(std_dataset, columns=dataset.columns )\n",
    "std_dataset_df.head()"
   ]
  },
  {
   "cell_type": "markdown",
   "metadata": {},
   "source": [
    "## 2. Do the principal components analysis with 2 components."
   ]
  },
  {
   "cell_type": "markdown",
   "metadata": {},
   "source": [
    "### PCA Projection to 2D"
   ]
  },
  {
   "cell_type": "markdown",
   "metadata": {},
   "source": [
    "- In general, we do the scree plot first  to choose the number of components in PCA.\n",
    "- To visualize the PCA , just choose 2 components in this demo, so the students can easily get the point."
   ]
  },
  {
   "cell_type": "code",
   "execution_count": 15,
   "metadata": {},
   "outputs": [
    {
     "data": {
      "text/html": [
       "<div>\n",
       "<style scoped>\n",
       "    .dataframe tbody tr th:only-of-type {\n",
       "        vertical-align: middle;\n",
       "    }\n",
       "\n",
       "    .dataframe tbody tr th {\n",
       "        vertical-align: top;\n",
       "    }\n",
       "\n",
       "    .dataframe thead th {\n",
       "        text-align: right;\n",
       "    }\n",
       "</style>\n",
       "<table border=\"1\" class=\"dataframe\">\n",
       "  <thead>\n",
       "    <tr style=\"text-align: right;\">\n",
       "      <th></th>\n",
       "      <th>principal component 1</th>\n",
       "      <th>principal component 2</th>\n",
       "    </tr>\n",
       "  </thead>\n",
       "  <tbody>\n",
       "    <tr>\n",
       "      <td>0</td>\n",
       "      <td>-1.365151</td>\n",
       "      <td>0.569067</td>\n",
       "    </tr>\n",
       "    <tr>\n",
       "      <td>1</td>\n",
       "      <td>-0.907059</td>\n",
       "      <td>-0.064023</td>\n",
       "    </tr>\n",
       "    <tr>\n",
       "      <td>2</td>\n",
       "      <td>-1.089141</td>\n",
       "      <td>0.193355</td>\n",
       "    </tr>\n",
       "    <tr>\n",
       "      <td>3</td>\n",
       "      <td>-1.193349</td>\n",
       "      <td>0.420985</td>\n",
       "    </tr>\n",
       "    <tr>\n",
       "      <td>4</td>\n",
       "      <td>-0.849168</td>\n",
       "      <td>-0.004827</td>\n",
       "    </tr>\n",
       "  </tbody>\n",
       "</table>\n",
       "</div>"
      ],
      "text/plain": [
       "   principal component 1  principal component 2\n",
       "0              -1.365151               0.569067\n",
       "1              -0.907059              -0.064023\n",
       "2              -1.089141               0.193355\n",
       "3              -1.193349               0.420985\n",
       "4              -0.849168              -0.004827"
      ]
     },
     "execution_count": 15,
     "metadata": {},
     "output_type": "execute_result"
    }
   ],
   "source": [
    "pca = PCA(n_components = 2)\n",
    "principalComponents = pca.fit_transform(std_dataset_df)\n",
    "principal_df = pd.DataFrame(data = principalComponents, columns=['principal component 1', 'principal component 2'])\n",
    "principal_df.head()"
   ]
  },
  {
   "cell_type": "markdown",
   "metadata": {},
   "source": [
    "## 3. According to the result of Q2, visualize it into 2D projection."
   ]
  },
  {
   "cell_type": "markdown",
   "metadata": {},
   "source": [
    "### Visualize 2D Projection"
   ]
  },
  {
   "cell_type": "markdown",
   "metadata": {},
   "source": [
    "- This section is just plotting 2 dimensional data. Notice on the graph below that the classes seem well separated from each other."
   ]
  },
  {
   "cell_type": "code",
   "execution_count": 16,
   "metadata": {},
   "outputs": [
    {
     "data": {
      "image/png": "[encoded data removed]",
      "text/plain": [
       "<Figure size 576x576 with 1 Axes>"
      ]
     },
     "metadata": {
      "needs_background": "light"
     },
     "output_type": "display_data"
    }
   ],
   "source": [
    "fig = plt.figure(figsize = (8, 8))\n",
    "ax = fig.add_subplot(1, 1, 1) \n",
    "ax.set_xlabel('Principal Component 1', fontsize=15)\n",
    "ax.set_ylabel('Principal Component 2', fontsize=15)\n",
    "\n",
    "ax.scatter(principal_df['principal component 1'], principal_df['principal component 2'], s=50)\n",
    "ax.grid()"
   ]
  },
  {
   "cell_type": "code",
   "execution_count": 17,
   "metadata": {},
   "outputs": [
    {
     "name": "stdout",
     "output_type": "stream",
     "text": [
      "explained_variance_ratio: [0.50652352 0.22652556]\n"
     ]
    }
   ],
   "source": [
    "print('explained_variance_ratio:', pca.explained_variance_ratio_)"
   ]
  },
  {
   "cell_type": "markdown",
   "metadata": {},
   "source": [
    "## 4. Use scree plot to choose the number of principal components, and illustrate how you choose clearly."
   ]
  },
  {
   "cell_type": "markdown",
   "metadata": {},
   "source": [
    "### Remark：Scree Plot"
   ]
  },
  {
   "cell_type": "markdown",
   "metadata": {},
   "source": [
    "#### Standardize the Dataset"
   ]
  },
  {
   "cell_type": "markdown",
   "metadata": {},
   "source": [
    "- We had do it at the top."
   ]
  },
  {
   "cell_type": "markdown",
   "metadata": {},
   "source": [
    "#### Create a Covariance Matrix"
   ]
  },
  {
   "cell_type": "code",
   "execution_count": 18,
   "metadata": {},
   "outputs": [],
   "source": [
    "covar_matrix = PCA(n_components = len(dataset.columns))"
   ]
  },
  {
   "cell_type": "markdown",
   "metadata": {},
   "source": [
    "#### Calculate Eigenvalues"
   ]
  },
  {
   "cell_type": "code",
   "execution_count": 19,
   "metadata": {},
   "outputs": [
    {
     "name": "stdout",
     "output_type": "stream",
     "text": [
      "variance ratios: [5.06523519e-01 2.26525557e-01 1.08371552e-01 7.94070000e-02\n",
      " 3.02886250e-02 1.92878210e-02 1.01207231e-02 8.12904647e-03\n",
      " 5.88489666e-03 3.06204058e-03 2.17064196e-03 2.00615164e-04\n",
      " 2.79618785e-05]\n"
     ]
    }
   ],
   "source": [
    "# calculate variance ratios\n",
    "covar_matrix.fit(std_dataset)\n",
    "variance_ratio = covar_matrix.explained_variance_ratio_\n",
    "print('variance ratios:', variance_ratio)"
   ]
  },
  {
   "cell_type": "code",
   "execution_count": 20,
   "metadata": {},
   "outputs": [
    {
     "name": "stdout",
     "output_type": "stream",
     "text": [
      "cumulative sum of variance explained with n features: [  0.    50.65  73.3   84.14  92.08  95.11  97.04  98.05  98.86  99.45\n",
      "  99.76  99.98 100.   100.  ]\n"
     ]
    }
   ],
   "source": [
    "# cumulative sum of variance explained with [n] features\n",
    "cumulative_sum_of_variance_explained = np.cumsum(np.round(covar_matrix.explained_variance_ratio_, decimals=4) * 100)\n",
    "cumulative_sum_of_variance_explained = np.insert(cumulative_sum_of_variance_explained, 0, 0)\n",
    "print('cumulative sum of variance explained with n features:', cumulative_sum_of_variance_explained)"
   ]
  },
  {
   "cell_type": "markdown",
   "metadata": {},
   "source": [
    "#### Sort & Select"
   ]
  },
  {
   "cell_type": "code",
   "execution_count": 21,
   "metadata": {
    "scrolled": true
   },
   "outputs": [
    {
     "data": {
      "text/plain": [
       "[<matplotlib.lines.Line2D at 0x2cecbe0c388>]"
      ]
     },
     "execution_count": 21,
     "metadata": {},
     "output_type": "execute_result"
    },
    {
     "data": {
      "image/png": "[encoded data removed]",
      "text/plain": [
       "<Figure size 432x288 with 1 Axes>"
      ]
     },
     "metadata": {
      "needs_background": "light"
     },
     "output_type": "display_data"
    }
   ],
   "source": [
    "plt.ylabel('% Variance Explained')\n",
    "plt.xlabel('# of Features')\n",
    "plt.title('PCA Analysis')\n",
    "plt.ylim(0, 101)\n",
    "plt.style.context('seaborn-whitegrid')\n",
    "\n",
    "plt.grid()\n",
    "plt.plot(cumulative_sum_of_variance_explained)"
   ]
  },
  {
   "cell_type": "markdown",
   "metadata": {},
   "source": [
    "### the number of principal components"
   ]
  },
  {
   "cell_type": "code",
   "execution_count": 22,
   "metadata": {
    "scrolled": true
   },
   "outputs": [
    {
     "name": "stdout",
     "output_type": "stream",
     "text": [
      "The number of principal components I choose: 3\n"
     ]
    }
   ],
   "source": [
    "n_principal_components = np.min(np.argwhere(cumulative_sum_of_variance_explained > 80))\n",
    "print('The number of principal components I choose:', n_principal_components)"
   ]
  },
  {
   "cell_type": "markdown",
   "metadata": {},
   "source": [
    "- According to the 80 - 20 rule, I choose the number of principal components to be 3 because the cumulative sum of variance explained with 3 features is the least number which is bigger than 80."
   ]
  },
  {
   "cell_type": "markdown",
   "metadata": {},
   "source": [
    "## 5. According to the Q4, rebulid the model by the principal components you choose."
   ]
  },
  {
   "cell_type": "code",
   "execution_count": 23,
   "metadata": {},
   "outputs": [
    {
     "data": {
      "text/html": [
       "<div>\n",
       "<style scoped>\n",
       "    .dataframe tbody tr th:only-of-type {\n",
       "        vertical-align: middle;\n",
       "    }\n",
       "\n",
       "    .dataframe tbody tr th {\n",
       "        vertical-align: top;\n",
       "    }\n",
       "\n",
       "    .dataframe thead th {\n",
       "        text-align: right;\n",
       "    }\n",
       "</style>\n",
       "<table border=\"1\" class=\"dataframe\">\n",
       "  <thead>\n",
       "    <tr style=\"text-align: right;\">\n",
       "      <th></th>\n",
       "      <th>principal component 1</th>\n",
       "      <th>principal component 2</th>\n",
       "      <th>principal component 3</th>\n",
       "    </tr>\n",
       "  </thead>\n",
       "  <tbody>\n",
       "    <tr>\n",
       "      <td>0</td>\n",
       "      <td>-1.365151</td>\n",
       "      <td>0.569067</td>\n",
       "      <td>-0.438904</td>\n",
       "    </tr>\n",
       "    <tr>\n",
       "      <td>1</td>\n",
       "      <td>-0.907059</td>\n",
       "      <td>-0.064023</td>\n",
       "      <td>-0.854908</td>\n",
       "    </tr>\n",
       "    <tr>\n",
       "      <td>2</td>\n",
       "      <td>-1.089141</td>\n",
       "      <td>0.193355</td>\n",
       "      <td>-0.791222</td>\n",
       "    </tr>\n",
       "    <tr>\n",
       "      <td>3</td>\n",
       "      <td>-1.193349</td>\n",
       "      <td>0.420985</td>\n",
       "      <td>-0.683499</td>\n",
       "    </tr>\n",
       "    <tr>\n",
       "      <td>4</td>\n",
       "      <td>-0.849168</td>\n",
       "      <td>-0.004827</td>\n",
       "      <td>-1.037992</td>\n",
       "    </tr>\n",
       "  </tbody>\n",
       "</table>\n",
       "</div>"
      ],
      "text/plain": [
       "   principal component 1  principal component 2  principal component 3\n",
       "0              -1.365151               0.569067              -0.438904\n",
       "1              -0.907059              -0.064023              -0.854908\n",
       "2              -1.089141               0.193355              -0.791222\n",
       "3              -1.193349               0.420985              -0.683499\n",
       "4              -0.849168              -0.004827              -1.037992"
      ]
     },
     "execution_count": 23,
     "metadata": {},
     "output_type": "execute_result"
    }
   ],
   "source": [
    "pca = PCA(n_components = n_principal_components)\n",
    "principalComponents = pca.fit_transform(std_dataset_df)\n",
    "principal_df = pd.DataFrame(data = principalComponents, columns = [f'principal component {i + 1}' for i in range(n_principal_components)])\n",
    "principal_df.head()"
   ]
  },
  {
   "cell_type": "code",
   "execution_count": 24,
   "metadata": {},
   "outputs": [
    {
     "name": "stdout",
     "output_type": "stream",
     "text": [
      "explained_variance_ratio: [0.50652352 0.22652556 0.10837155]\n"
     ]
    }
   ],
   "source": [
    "print('explained_variance_ratio:', pca.explained_variance_ratio_)"
   ]
  }
 ],
 "metadata": {
  "kernelspec": {
   "display_name": "Python 3",
   "language": "python",
   "name": "python3"
  },
  "language_info": {
   "codemirror_mode": {
    "name": "ipython",
    "version": 3
   },
   "file_extension": ".py",
   "mimetype": "text/x-python",
   "name": "python",
   "nbconvert_exporter": "python",
   "pygments_lexer": "ipython3",
   "version": "3.7.4"
  }
 },
 "nbformat": 4,
 "nbformat_minor": 2
}
