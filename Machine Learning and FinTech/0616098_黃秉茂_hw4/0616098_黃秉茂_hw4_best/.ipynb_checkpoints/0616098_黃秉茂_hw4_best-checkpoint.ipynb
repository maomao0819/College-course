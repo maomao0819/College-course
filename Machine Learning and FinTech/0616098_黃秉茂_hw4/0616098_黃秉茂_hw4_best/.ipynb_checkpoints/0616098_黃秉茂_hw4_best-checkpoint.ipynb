{
 "cells": [
  {
   "cell_type": "markdown",
   "metadata": {},
   "source": [
    "# Machine Learning and Fintech Hw 4"
   ]
  },
  {
   "cell_type": "markdown",
   "metadata": {},
   "source": [
    "### import module"
   ]
  },
  {
   "cell_type": "code",
   "execution_count": 1,
   "metadata": {},
   "outputs": [],
   "source": [
    "import pandas as pd\n",
    "import numpy as np\n",
    "import matplotlib.pyplot as plt\n",
    "import random"
   ]
  },
  {
   "cell_type": "markdown",
   "metadata": {},
   "source": [
    "### read data"
   ]
  },
  {
   "cell_type": "code",
   "execution_count": 2,
   "metadata": {},
   "outputs": [
    {
     "data": {
      "text/html": [
       "<div>\n",
       "<style scoped>\n",
       "    .dataframe tbody tr th:only-of-type {\n",
       "        vertical-align: middle;\n",
       "    }\n",
       "\n",
       "    .dataframe tbody tr th {\n",
       "        vertical-align: top;\n",
       "    }\n",
       "\n",
       "    .dataframe thead th {\n",
       "        text-align: right;\n",
       "    }\n",
       "</style>\n",
       "<table border=\"1\" class=\"dataframe\">\n",
       "  <thead>\n",
       "    <tr style=\"text-align: right;\">\n",
       "      <th></th>\n",
       "      <th>Date</th>\n",
       "      <th>FB</th>\n",
       "      <th>GOOG</th>\n",
       "      <th>NFLX</th>\n",
       "      <th>AMZN</th>\n",
       "      <th>AAPL</th>\n",
       "      <th>FB.1</th>\n",
       "      <th>GOOG.1</th>\n",
       "      <th>NFLX.1</th>\n",
       "      <th>AMZN.1</th>\n",
       "      <th>AAPL.1</th>\n",
       "    </tr>\n",
       "  </thead>\n",
       "  <tbody>\n",
       "    <tr>\n",
       "      <td>0</td>\n",
       "      <td>2018/9/24</td>\n",
       "      <td>165.410004</td>\n",
       "      <td>1173.369995</td>\n",
       "      <td>369.609985</td>\n",
       "      <td>1934.359985</td>\n",
       "      <td>220.789993</td>\n",
       "      <td>NaN</td>\n",
       "      <td>NaN</td>\n",
       "      <td>NaN</td>\n",
       "      <td>NaN</td>\n",
       "      <td>NaN</td>\n",
       "    </tr>\n",
       "    <tr>\n",
       "      <td>1</td>\n",
       "      <td>2018/9/25</td>\n",
       "      <td>164.910004</td>\n",
       "      <td>1184.650024</td>\n",
       "      <td>369.429993</td>\n",
       "      <td>1974.550049</td>\n",
       "      <td>222.190002</td>\n",
       "      <td>-0.003027</td>\n",
       "      <td>0.009567</td>\n",
       "      <td>-0.000487</td>\n",
       "      <td>0.020564</td>\n",
       "      <td>0.006321</td>\n",
       "    </tr>\n",
       "    <tr>\n",
       "      <td>2</td>\n",
       "      <td>2018/9/26</td>\n",
       "      <td>166.949997</td>\n",
       "      <td>1180.489990</td>\n",
       "      <td>377.880005</td>\n",
       "      <td>1974.849976</td>\n",
       "      <td>220.419998</td>\n",
       "      <td>0.012294</td>\n",
       "      <td>-0.003518</td>\n",
       "      <td>0.022615</td>\n",
       "      <td>0.000152</td>\n",
       "      <td>-0.007998</td>\n",
       "    </tr>\n",
       "    <tr>\n",
       "      <td>3</td>\n",
       "      <td>2018/9/27</td>\n",
       "      <td>168.839996</td>\n",
       "      <td>1194.640015</td>\n",
       "      <td>380.709991</td>\n",
       "      <td>2012.979980</td>\n",
       "      <td>224.949997</td>\n",
       "      <td>0.011257</td>\n",
       "      <td>0.011915</td>\n",
       "      <td>0.007461</td>\n",
       "      <td>0.019124</td>\n",
       "      <td>0.020343</td>\n",
       "    </tr>\n",
       "    <tr>\n",
       "      <td>4</td>\n",
       "      <td>2018/9/28</td>\n",
       "      <td>164.460007</td>\n",
       "      <td>1193.469971</td>\n",
       "      <td>374.130005</td>\n",
       "      <td>2003.000000</td>\n",
       "      <td>225.740005</td>\n",
       "      <td>-0.026284</td>\n",
       "      <td>-0.000980</td>\n",
       "      <td>-0.017435</td>\n",
       "      <td>-0.004970</td>\n",
       "      <td>0.003506</td>\n",
       "    </tr>\n",
       "  </tbody>\n",
       "</table>\n",
       "</div>"
      ],
      "text/plain": [
       "        Date          FB         GOOG        NFLX         AMZN        AAPL  \\\n",
       "0  2018/9/24  165.410004  1173.369995  369.609985  1934.359985  220.789993   \n",
       "1  2018/9/25  164.910004  1184.650024  369.429993  1974.550049  222.190002   \n",
       "2  2018/9/26  166.949997  1180.489990  377.880005  1974.849976  220.419998   \n",
       "3  2018/9/27  168.839996  1194.640015  380.709991  2012.979980  224.949997   \n",
       "4  2018/9/28  164.460007  1193.469971  374.130005  2003.000000  225.740005   \n",
       "\n",
       "       FB.1    GOOG.1    NFLX.1    AMZN.1    AAPL.1  \n",
       "0       NaN       NaN       NaN       NaN       NaN  \n",
       "1 -0.003027  0.009567 -0.000487  0.020564  0.006321  \n",
       "2  0.012294 -0.003518  0.022615  0.000152 -0.007998  \n",
       "3  0.011257  0.011915  0.007461  0.019124  0.020343  \n",
       "4 -0.026284 -0.000980 -0.017435 -0.004970  0.003506  "
      ]
     },
     "execution_count": 2,
     "metadata": {},
     "output_type": "execute_result"
    }
   ],
   "source": [
    "csv_file = \"Stocks_ClosePrice.csv\"\n",
    "data = pd.read_csv(csv_file)\n",
    "data.head()"
   ]
  },
  {
   "cell_type": "markdown",
   "metadata": {},
   "source": [
    "### data preprocess"
   ]
  },
  {
   "cell_type": "code",
   "execution_count": 3,
   "metadata": {},
   "outputs": [
    {
     "data": {
      "text/html": [
       "<div>\n",
       "<style scoped>\n",
       "    .dataframe tbody tr th:only-of-type {\n",
       "        vertical-align: middle;\n",
       "    }\n",
       "\n",
       "    .dataframe tbody tr th {\n",
       "        vertical-align: top;\n",
       "    }\n",
       "\n",
       "    .dataframe thead th {\n",
       "        text-align: right;\n",
       "    }\n",
       "</style>\n",
       "<table border=\"1\" class=\"dataframe\">\n",
       "  <thead>\n",
       "    <tr style=\"text-align: right;\">\n",
       "      <th></th>\n",
       "      <th>FB.1</th>\n",
       "      <th>GOOG.1</th>\n",
       "      <th>NFLX.1</th>\n",
       "      <th>AMZN.1</th>\n",
       "      <th>AAPL.1</th>\n",
       "    </tr>\n",
       "  </thead>\n",
       "  <tbody>\n",
       "    <tr>\n",
       "      <td>1</td>\n",
       "      <td>-0.003027</td>\n",
       "      <td>0.009567</td>\n",
       "      <td>-0.000487</td>\n",
       "      <td>0.020564</td>\n",
       "      <td>0.006321</td>\n",
       "    </tr>\n",
       "    <tr>\n",
       "      <td>2</td>\n",
       "      <td>0.012294</td>\n",
       "      <td>-0.003518</td>\n",
       "      <td>0.022615</td>\n",
       "      <td>0.000152</td>\n",
       "      <td>-0.007998</td>\n",
       "    </tr>\n",
       "    <tr>\n",
       "      <td>3</td>\n",
       "      <td>0.011257</td>\n",
       "      <td>0.011915</td>\n",
       "      <td>0.007461</td>\n",
       "      <td>0.019124</td>\n",
       "      <td>0.020343</td>\n",
       "    </tr>\n",
       "    <tr>\n",
       "      <td>4</td>\n",
       "      <td>-0.026284</td>\n",
       "      <td>-0.000980</td>\n",
       "      <td>-0.017435</td>\n",
       "      <td>-0.004970</td>\n",
       "      <td>0.003506</td>\n",
       "    </tr>\n",
       "    <tr>\n",
       "      <td>5</td>\n",
       "      <td>-0.012359</td>\n",
       "      <td>0.001541</td>\n",
       "      <td>0.019324</td>\n",
       "      <td>0.000679</td>\n",
       "      <td>0.006711</td>\n",
       "    </tr>\n",
       "  </tbody>\n",
       "</table>\n",
       "</div>"
      ],
      "text/plain": [
       "       FB.1    GOOG.1    NFLX.1    AMZN.1    AAPL.1\n",
       "1 -0.003027  0.009567 -0.000487  0.020564  0.006321\n",
       "2  0.012294 -0.003518  0.022615  0.000152 -0.007998\n",
       "3  0.011257  0.011915  0.007461  0.019124  0.020343\n",
       "4 -0.026284 -0.000980 -0.017435 -0.004970  0.003506\n",
       "5 -0.012359  0.001541  0.019324  0.000679  0.006711"
      ]
     },
     "execution_count": 3,
     "metadata": {},
     "output_type": "execute_result"
    }
   ],
   "source": [
    "return_data = data.iloc[1:, 6:11]\n",
    "return_data.head()"
   ]
  },
  {
   "cell_type": "code",
   "execution_count": 4,
   "metadata": {},
   "outputs": [
    {
     "name": "stdout",
     "output_type": "stream",
     "text": [
      "mean of returns:\n",
      "FB.1      0.000555\n",
      "GOOG.1    0.000189\n",
      "NFLX.1   -0.001250\n",
      "AMZN.1   -0.000302\n",
      "AAPL.1   -0.000056\n",
      "dtype: float64\n",
      "standard deviation of returns:\n",
      "FB.1      0.020943\n",
      "GOOG.1    0.018474\n",
      "NFLX.1    0.027119\n",
      "AMZN.1    0.022313\n",
      "AAPL.1    0.020421\n",
      "dtype: float64\n",
      "cov:\n",
      "            FB.1    GOOG.1    NFLX.1    AMZN.1    AAPL.1\n",
      "FB.1    0.000439  0.000258  0.000302  0.000319  0.000236\n",
      "GOOG.1  0.000258  0.000341  0.000308  0.000307  0.000246\n",
      "NFLX.1  0.000302  0.000308  0.000735  0.000427  0.000310\n",
      "AMZN.1  0.000319  0.000307  0.000427  0.000498  0.000316\n",
      "AAPL.1  0.000236  0.000246  0.000310  0.000316  0.000417\n",
      "corr:\n",
      "            FB.1    GOOG.1    NFLX.1    AMZN.1    AAPL.1\n",
      "FB.1    1.000000  0.666629  0.532532  0.683512  0.552880\n",
      "GOOG.1  0.666629  1.000000  0.614275  0.744121  0.652473\n",
      "NFLX.1  0.532532  0.614275  1.000000  0.705013  0.560549\n",
      "AMZN.1  0.683512  0.744121  0.705013  1.000000  0.693429\n",
      "AAPL.1  0.552880  0.652473  0.560549  0.693429  1.000000\n"
     ]
    }
   ],
   "source": [
    "mu = return_data.mean(axis=0)\n",
    "print('mean of returns:', mu, sep='\\n')\n",
    "std = return_data.std()\n",
    "print('standard deviation of returns:', std, sep='\\n')\n",
    "cov = return_data.cov()\n",
    "print('cov:', cov, sep='\\n')\n",
    "corr = return_data.corr()\n",
    "print('corr:', corr, sep='\\n')"
   ]
  },
  {
   "cell_type": "markdown",
   "metadata": {},
   "source": [
    "### plot"
   ]
  },
  {
   "cell_type": "code",
   "execution_count": 5,
   "metadata": {},
   "outputs": [
    {
     "data": {
      "image/png": "[encoded data removed]",
      "text/plain": [
       "<Figure size 864x432 with 1 Axes>"
      ]
     },
     "metadata": {
      "needs_background": "light"
     },
     "output_type": "display_data"
    }
   ],
   "source": [
    "plt.figure(figsize = (12, 6))\n",
    "plt.scatter(std, mu, color='r', marker='*')\n",
    "plt.ylabel('Expected return (Mean)')\n",
    "plt.xlabel('Risk (Std)')\n",
    "plt.axis([0.016, 0.028, -0.002, 0.002])\n",
    "plt.show()"
   ]
  },
  {
   "cell_type": "code",
   "execution_count": 6,
   "metadata": {},
   "outputs": [
    {
     "name": "stdout",
     "output_type": "stream",
     "text": [
      "nStock: 5\n"
     ]
    }
   ],
   "source": [
    "nStock = len(return_data.columns)\n",
    "print('nStock:', nStock)"
   ]
  },
  {
   "cell_type": "code",
   "execution_count": 7,
   "metadata": {},
   "outputs": [],
   "source": [
    "nMC = 1"
   ]
  },
  {
   "cell_type": "markdown",
   "metadata": {},
   "source": [
    "### generate random weights"
   ]
  },
  {
   "cell_type": "markdown",
   "metadata": {},
   "source": [
    "#### np.random.rand的return是0 ~ 1，0 ~ 1藉由(x - 0.5) * 2 -> -1 ~ 1"
   ]
  },
  {
   "cell_type": "code",
   "execution_count": 8,
   "metadata": {},
   "outputs": [
    {
     "name": "stdout",
     "output_type": "stream",
     "text": [
      "weight: [[ 0.28256838  0.92075086  0.79649792  0.44738127 -0.67629636]]\n"
     ]
    }
   ],
   "source": [
    "weight = (np.random.rand(nMC, nStock) - 0.5) * 2\n",
    "print('weight:', weight)"
   ]
  },
  {
   "cell_type": "markdown",
   "metadata": {},
   "source": [
    "### standardlize weights to sum = 1"
   ]
  },
  {
   "cell_type": "code",
   "execution_count": 9,
   "metadata": {},
   "outputs": [
    {
     "name": "stdout",
     "output_type": "stream",
     "text": [
      "rowsum: [[1.77090208]]\n",
      "weight: [[ 0.15956183  0.51993324  0.4497696   0.25262903 -0.38189371]]\n",
      "rowsum_check: [1.]\n"
     ]
    }
   ],
   "source": [
    "rowsum = np.sum(weight, axis=1, keepdims=1)\n",
    "print('rowsum:', rowsum)\n",
    "weight /= rowsum\n",
    "print('weight:', weight)\n",
    "rowsum_check = np.sum(weight, axis=1)\n",
    "print('rowsum_check:', rowsum_check)"
   ]
  },
  {
   "cell_type": "markdown",
   "metadata": {},
   "source": [
    "## PART A. Minimum variance portfolio"
   ]
  },
  {
   "cell_type": "markdown",
   "metadata": {},
   "source": [
    "### import module"
   ]
  },
  {
   "cell_type": "code",
   "execution_count": 10,
   "metadata": {},
   "outputs": [
    {
     "name": "stdout",
     "output_type": "stream",
     "text": [
      "Requirement already satisfied: cvxpy in d:\\programming\\anaconda3\\lib\\site-packages (1.1.6)\n",
      "Requirement already satisfied: ecos>=2 in d:\\programming\\anaconda3\\lib\\site-packages (from cvxpy) (2.0.7.post1)\n",
      "Requirement already satisfied: scs>=1.1.6 in d:\\programming\\anaconda3\\lib\\site-packages (from cvxpy) (2.1.2)\n",
      "Requirement already satisfied: scipy>=1.1.0 in d:\\programming\\anaconda3\\lib\\site-packages (from cvxpy) (1.4.1)\n",
      "Requirement already satisfied: osqp>=0.4.1 in d:\\programming\\anaconda3\\lib\\site-packages (from cvxpy) (0.6.1)\n",
      "Requirement already satisfied: numpy>=1.15 in d:\\programming\\anaconda3\\lib\\site-packages (from cvxpy) (1.19.1)\n",
      "Requirement already satisfied: future in d:\\programming\\anaconda3\\lib\\site-packages (from osqp>=0.4.1->cvxpy) (0.17.1)\n"
     ]
    }
   ],
   "source": [
    "!pip install cvxpy\n",
    "import cvxpy as cp"
   ]
  },
  {
   "cell_type": "code",
   "execution_count": 11,
   "metadata": {},
   "outputs": [
    {
     "name": "stdout",
     "output_type": "stream",
     "text": [
      "Requirement already satisfied: qpsolvers in d:\\programming\\anaconda3\\lib\\site-packages (1.4)\n",
      "Requirement already satisfied: quadprog in d:\\programming\\anaconda3\\lib\\site-packages (from qpsolvers) (0.1.7)\n",
      "Requirement already satisfied: Cython in d:\\programming\\anaconda3\\lib\\site-packages (from quadprog->qpsolvers) (0.29.13)\n"
     ]
    }
   ],
   "source": [
    "!pip install qpsolvers\n",
    "from qpsolvers import solve_qp"
   ]
  },
  {
   "cell_type": "code",
   "execution_count": 12,
   "metadata": {},
   "outputs": [],
   "source": [
    "import scipy.optimize\n",
    "from functools import reduce"
   ]
  },
  {
   "cell_type": "markdown",
   "metadata": {},
   "source": [
    "### function definition"
   ]
  },
  {
   "cell_type": "code",
   "execution_count": 13,
   "metadata": {},
   "outputs": [],
   "source": [
    "def get_standard_deviation(weights):\n",
    "    # return np.sqrt(np.matmul(np.matmul(weight, array_Cov), weight))\n",
    "    return np.sqrt(reduce(np.dot, [weights, cov, weights.T]))\n",
    "\n",
    "def get_return(weights):\n",
    "    return np.sum(mu * weights)\n",
    "\n",
    "def check_sum(weights):\n",
    "    #return 0 if sum of the weights is 1\n",
    "    return np.sum(weights) - 1"
   ]
  },
  {
   "cell_type": "markdown",
   "metadata": {},
   "source": [
    "## a) What is the portfolio weight of the global minimum variance portfolio using the theoretical formula (when short sale is allowed)?What is the expected return and risk of the global minimum variance portfolio?"
   ]
  },
  {
   "cell_type": "markdown",
   "metadata": {},
   "source": [
    "## short sale is allowed"
   ]
  },
  {
   "cell_type": "markdown",
   "metadata": {},
   "source": [
    "## Method1 - cvxpy"
   ]
  },
  {
   "cell_type": "code",
   "execution_count": 14,
   "metadata": {},
   "outputs": [],
   "source": [
    "np.random.seed(1)\n",
    "ONES = np.ones(nStock)\n",
    "\n",
    "# Construct the problem.\n",
    "w = cp.Variable(nStock)\n",
    "objective = cp.Minimize(cp.quad_form(w, cov))\n",
    "constraints = [-1 <= w, w <= 1, w.T @ mu >= -1, w.T @ ONES == 1]\n",
    "prob = cp.Problem(objective, constraints)\n",
    "\n",
    "# The optimal objective value is returned by `prob.solve()`.\n",
    "result = prob.solve()\n",
    "# The optimal value for x is stored in `x.value`.\n",
    "global_minimum_variance_short_sale_allowed_weight_cvxpy = w.value"
   ]
  },
  {
   "cell_type": "markdown",
   "metadata": {},
   "source": [
    "### weight"
   ]
  },
  {
   "cell_type": "code",
   "execution_count": 15,
   "metadata": {},
   "outputs": [
    {
     "name": "stdout",
     "output_type": "stream",
     "text": [
      "portfolio weight of the global minimum variance portfolio using the theoretical formula (when short sale is allowed):\n",
      "\tFB.1 佔投資組合權重 : 0.2649\n",
      "\tGOOG.1 佔投資組合權重 : 0.5200\n",
      "\tNFLX.1 佔投資組合權重 : -0.0061\n",
      "\tAMZN.1 佔投資組合權重 : -0.1075\n",
      "\tAAPL.1 佔投資組合權重 : 0.3287\n"
     ]
    }
   ],
   "source": [
    "print('portfolio weight of the global minimum variance portfolio using the theoretical formula (when short sale is allowed):')\n",
    "for i in range(nStock):\n",
    "    print('\\t' + str(return_data.columns[i]), '佔投資組合權重 :', str(format(global_minimum_variance_short_sale_allowed_weight_cvxpy[i], '.4f')))"
   ]
  },
  {
   "cell_type": "markdown",
   "metadata": {},
   "source": [
    "### expected return and risk"
   ]
  },
  {
   "cell_type": "code",
   "execution_count": 16,
   "metadata": {},
   "outputs": [
    {
     "name": "stdout",
     "output_type": "stream",
     "text": [
      "expected return of the global minimum variance portfolio: 0.00026700980704671496\n",
      "risk of the global minimum variance portfolio: 0.017083571121292888\n"
     ]
    }
   ],
   "source": [
    "mvp_return_minimize_variance_short_sale_allowed_cvxpy = sum(global_minimum_variance_short_sale_allowed_weight_cvxpy * mu)\n",
    "print('expected return of the global minimum variance portfolio:', mvp_return_minimize_variance_short_sale_allowed_cvxpy)\n",
    "mvp_risk_minimize_variance_short_sale_allowed_cvxpy = get_standard_deviation(global_minimum_variance_short_sale_allowed_weight_cvxpy)\n",
    "print('risk of the global minimum variance portfolio:', mvp_risk_minimize_variance_short_sale_allowed_cvxpy)"
   ]
  },
  {
   "cell_type": "markdown",
   "metadata": {},
   "source": [
    "## Method2 - qpsolvers"
   ]
  },
  {
   "cell_type": "code",
   "execution_count": 17,
   "metadata": {},
   "outputs": [],
   "source": [
    "efficient_frontier_return_range = np.linspace(-0.001, 0.0015, 100)\n",
    "efficient_frontier_risk_list = []\n",
    "\n",
    "global_minimum_variance = False\n",
    "for ret in efficient_frontier_return_range:\n",
    "    P = np.array(cov * 2)\n",
    "    q = np.array([1e-100] * 5).reshape((5, ))\n",
    "    if global_minimum_variance == False:\n",
    "        G = np.array([mu] * 5).reshape((-1, 5))\n",
    "        h = np.array([ret] * 5)\n",
    "    if global_minimum_variance:\n",
    "        G = np.array([-mu] * 5).reshape((-1, 5))\n",
    "        h = np.array([-ret] * 5)\n",
    "    A = np.array([1] * 5)\n",
    "    b = np.array([1])\n",
    "    lb = np.array([-1] * 5)\n",
    "    ub = np.array([1] * 5)\n",
    "    w = solve_qp(P, q, G, h, A, b, lb, ub)\n",
    "    if global_minimum_variance == False:\n",
    "        if efficient_frontier_risk_list:\n",
    "            if get_standard_deviation(w) >= efficient_frontier_risk_list[-1]:\n",
    "                global_minimum_variance = True\n",
    "                global_minimum_variance_short_sale_allowed_weight_qp = w_old\n",
    "                break\n",
    "    w_old = w\n",
    "    efficient_frontier_risk_list.append(get_standard_deviation(w))"
   ]
  },
  {
   "cell_type": "markdown",
   "metadata": {},
   "source": [
    "### weight"
   ]
  },
  {
   "cell_type": "code",
   "execution_count": 18,
   "metadata": {},
   "outputs": [
    {
     "name": "stdout",
     "output_type": "stream",
     "text": [
      "portfolio weight of the global minimum variance portfolio using the theoretical formula (when short sale is allowed):\n",
      "\tFB.1 佔投資組合權重 : 0.2649\n",
      "\tGOOG.1 佔投資組合權重 : 0.5200\n",
      "\tNFLX.1 佔投資組合權重 : -0.0061\n",
      "\tAMZN.1 佔投資組合權重 : -0.1075\n",
      "\tAAPL.1 佔投資組合權重 : 0.3287\n"
     ]
    }
   ],
   "source": [
    "print('portfolio weight of the global minimum variance portfolio using the theoretical formula (when short sale is allowed):')\n",
    "for i in range(nStock):\n",
    "    print('\\t' + str(return_data.columns[i]), '佔投資組合權重 :', str(format(global_minimum_variance_short_sale_allowed_weight_qp[i], '.4f')))"
   ]
  },
  {
   "cell_type": "markdown",
   "metadata": {},
   "source": [
    "### expected return and risk"
   ]
  },
  {
   "cell_type": "code",
   "execution_count": 19,
   "metadata": {},
   "outputs": [
    {
     "name": "stdout",
     "output_type": "stream",
     "text": [
      "expected return of the global minimum variance portfolio: 0.0002670098070746569\n",
      "risk of the global minimum variance portfolio: 0.017083571121292888\n"
     ]
    }
   ],
   "source": [
    "mvp_return_minimize_variance_short_sale_allowed_qp = sum(global_minimum_variance_short_sale_allowed_weight_qp * mu)\n",
    "print('expected return of the global minimum variance portfolio:', mvp_return_minimize_variance_short_sale_allowed_qp)\n",
    "mvp_risk_minimize_variance_short_sale_allowed_qp = get_standard_deviation(global_minimum_variance_short_sale_allowed_weight_qp)\n",
    "print('risk of the global minimum variance portfolio:', mvp_risk_minimize_variance_short_sale_allowed_qp)"
   ]
  },
  {
   "cell_type": "markdown",
   "metadata": {},
   "source": [
    "## Method3 - scipy.optimize"
   ]
  },
  {
   "cell_type": "code",
   "execution_count": 20,
   "metadata": {},
   "outputs": [],
   "source": [
    "# 每個變數(權重)的上下界\n",
    "# bounds = tuple((-1, 1) for x in range(nStock))\n",
    "bounds = ((-1, 1), ) * nStock\n",
    "\n",
    "# 希望所有的變數(權重)總和會為1\n",
    "# constraints = [{'type': 'eq', 'fun': lambda x: sum(x) - 1}]\n",
    "constraints = [{'type': 'eq', 'fun': check_sum},\n",
    "               # all elements of w to be >= 0\n",
    "               {'type': 'ineq', 'fun': lambda w: w + 1}]\n",
    "\n",
    "minimize_variance_short_sale_allowed_so = scipy.optimize.minimize(get_standard_deviation, x0=weight, constraints=constraints, bounds=bounds)"
   ]
  },
  {
   "cell_type": "markdown",
   "metadata": {},
   "source": [
    "### weight"
   ]
  },
  {
   "cell_type": "code",
   "execution_count": 21,
   "metadata": {},
   "outputs": [
    {
     "name": "stdout",
     "output_type": "stream",
     "text": [
      "portfolio weight of the global minimum variance portfolio using the theoretical formula (when short sale is allowed):\n",
      "\tFB.1 佔投資組合權重 : 0.2081\n",
      "\tGOOG.1 佔投資組合權重 : 0.5344\n",
      "\tNFLX.1 佔投資組合權重 : -0.0198\n",
      "\tAMZN.1 佔投資組合權重 : -0.0553\n",
      "\tAAPL.1 佔投資組合權重 : 0.3326\n"
     ]
    }
   ],
   "source": [
    "print('portfolio weight of the global minimum variance portfolio using the theoretical formula (when short sale is allowed):')\n",
    "for i in range(nStock):\n",
    "    print('\\t' + str(return_data.columns[i]), '佔投資組合權重 :', str(format(minimize_variance_short_sale_allowed_so.x[i], '.4f')))"
   ]
  },
  {
   "cell_type": "markdown",
   "metadata": {},
   "source": [
    "### expected return and risk"
   ]
  },
  {
   "cell_type": "code",
   "execution_count": 22,
   "metadata": {},
   "outputs": [
    {
     "name": "stdout",
     "output_type": "stream",
     "text": [
      "expected return of the global minimum variance portfolio: 0.00023932988515046135\n",
      "risk of the global minimum variance portfolio: 0.017109539366634605\n"
     ]
    }
   ],
   "source": [
    "mvp_return_minimize_variance_short_sale_allowed_so = sum(minimize_variance_short_sale_allowed_so.x * mu)\n",
    "print('expected return of the global minimum variance portfolio:', mvp_return_minimize_variance_short_sale_allowed_so)\n",
    "mvp_risk_minimize_variance_short_sale_allowed_so = minimize_variance_short_sale_allowed_so.fun\n",
    "print('risk of the global minimum variance portfolio:', mvp_risk_minimize_variance_short_sale_allowed_so)"
   ]
  },
  {
   "cell_type": "markdown",
   "metadata": {},
   "source": [
    "## b) In contrast to a), if short sales are prohibited for constructing a portfolio, find the portfolio weight for the global minimum portfolio. What is the expected return and the risk of this portfolio."
   ]
  },
  {
   "cell_type": "markdown",
   "metadata": {},
   "source": [
    "## short sale is prohibited"
   ]
  },
  {
   "cell_type": "markdown",
   "metadata": {},
   "source": [
    "## Method1 - cvxpy"
   ]
  },
  {
   "cell_type": "code",
   "execution_count": 23,
   "metadata": {},
   "outputs": [],
   "source": [
    "np.random.seed(1)\n",
    "ONES = np.ones(nStock)\n",
    "\n",
    "# Construct the problem.\n",
    "w = cp.Variable(nStock)\n",
    "objective = cp.Minimize(cp.quad_form(w, cov))\n",
    "constraints = [0 <= w, w <= 1, w.T @ mu >= -1, w.T @ ONES == 1]\n",
    "prob = cp.Problem(objective, constraints)\n",
    "\n",
    "# The optimal objective value is returned by `prob.solve()`.\n",
    "result = prob.solve()\n",
    "# The optimal value for x is stored in `x.value`.\n",
    "global_minimum_variance_short_sale_prohibited_weight_cvxpy = w.value"
   ]
  },
  {
   "cell_type": "markdown",
   "metadata": {},
   "source": [
    "### weight"
   ]
  },
  {
   "cell_type": "code",
   "execution_count": 24,
   "metadata": {},
   "outputs": [
    {
     "name": "stdout",
     "output_type": "stream",
     "text": [
      "portfolio weight of the global minimum variance portfolio using the theoretical formula (when short sale is allowed):\n",
      "\tFB.1 佔投資組合權重 : 0.2340\n",
      "\tGOOG.1 佔投資組合權重 : 0.4732\n",
      "\tNFLX.1 佔投資組合權重 : -0.0000\n",
      "\tAMZN.1 佔投資組合權重 : -0.0000\n",
      "\tAAPL.1 佔投資組合權重 : 0.2929\n"
     ]
    }
   ],
   "source": [
    "print('portfolio weight of the global minimum variance portfolio using the theoretical formula (when short sale is allowed):')\n",
    "for i in range(nStock):\n",
    "    print('\\t' + str(return_data.columns[i]), '佔投資組合權重 :', str(format(global_minimum_variance_short_sale_prohibited_weight_cvxpy[i], '.4f')))"
   ]
  },
  {
   "cell_type": "markdown",
   "metadata": {},
   "source": [
    "### expected return and risk"
   ]
  },
  {
   "cell_type": "code",
   "execution_count": 25,
   "metadata": {},
   "outputs": [
    {
     "name": "stdout",
     "output_type": "stream",
     "text": [
      "expected return of the global minimum variance portfolio: 0.00020292786177438483\n",
      "risk of the global minimum variance portfolio: 0.017143973719776887\n"
     ]
    }
   ],
   "source": [
    "mvp_return_minimize_variance_short_sale_prohibited_cvxpy = sum(global_minimum_variance_short_sale_prohibited_weight_cvxpy * mu)\n",
    "print('expected return of the global minimum variance portfolio:', mvp_return_minimize_variance_short_sale_prohibited_cvxpy)\n",
    "mvp_risk_minimize_variance_short_sale_prohibited_cvxpy = get_standard_deviation(global_minimum_variance_short_sale_prohibited_weight_cvxpy)\n",
    "print('risk of the global minimum variance portfolio:', mvp_risk_minimize_variance_short_sale_prohibited_cvxpy)"
   ]
  },
  {
   "cell_type": "markdown",
   "metadata": {},
   "source": [
    "## Method2 - scipy.optimize"
   ]
  },
  {
   "cell_type": "code",
   "execution_count": 26,
   "metadata": {},
   "outputs": [],
   "source": [
    "# 每個變數(權重)的上下界\n",
    "# bounds = tuple((0, 1) for x in range(nStock))\n",
    "bounds = ((0, 1), ) * nStock\n",
    "\n",
    "# 希望所有的變數(權重)總和會為1\n",
    "# constraints = [{'type': 'eq', 'fun': lambda x: sum(x) - 1}]\n",
    "constraints = [{'type': 'eq', 'fun': check_sum},\n",
    "               # all elements of w to be >= 0\n",
    "               {'type': 'ineq', 'fun': lambda w: w}]\n",
    "\n",
    "minimize_variance_short_sale_prohibited_so = scipy.optimize.minimize(get_standard_deviation, x0=weight, constraints=constraints, bounds=bounds)"
   ]
  },
  {
   "cell_type": "markdown",
   "metadata": {},
   "source": [
    "### weight"
   ]
  },
  {
   "cell_type": "code",
   "execution_count": 27,
   "metadata": {},
   "outputs": [
    {
     "name": "stdout",
     "output_type": "stream",
     "text": [
      "portfolio weight of the global minimum variance portfolio using the theoretical formula (when short sell is prohibited):\n",
      "\tFB.1 佔投資組合權重 : 0.2238\n",
      "\tGOOG.1 佔投資組合權重 : 0.5012\n",
      "\tNFLX.1 佔投資組合權重 : 0.0000\n",
      "\tAMZN.1 佔投資組合權重 : 0.0000\n",
      "\tAAPL.1 佔投資組合權重 : 0.2750\n"
     ]
    }
   ],
   "source": [
    "print('portfolio weight of the global minimum variance portfolio using the theoretical formula (when short sell is prohibited):')\n",
    "for i in range(nStock):\n",
    "    print('\\t' + str(return_data.columns[i]), '佔投資組合權重 :', str(format(minimize_variance_short_sale_prohibited_so.x[i], '.4f')))"
   ]
  },
  {
   "cell_type": "markdown",
   "metadata": {},
   "source": [
    "### expected return and risk"
   ]
  },
  {
   "cell_type": "code",
   "execution_count": 28,
   "metadata": {},
   "outputs": [
    {
     "name": "stdout",
     "output_type": "stream",
     "text": [
      "expected return of the global minimum variance portfolio: 0.0002035918970764715\n",
      "risk of the global minimum variance portfolio: 0.017148040166538196\n"
     ]
    }
   ],
   "source": [
    "mvp_return_minimize_variance_short_sale_prohibited_so = sum(minimize_variance_short_sale_prohibited_so.x * mu)\n",
    "print('expected return of the global minimum variance portfolio:', mvp_return_minimize_variance_short_sale_prohibited_so)\n",
    "mvp_risk_minimize_variance_short_sale_prohibited_so = minimize_variance_short_sale_prohibited_so.fun\n",
    "print('risk of the global minimum variance portfolio:', mvp_risk_minimize_variance_short_sale_prohibited_so)"
   ]
  },
  {
   "cell_type": "markdown",
   "metadata": {},
   "source": [
    "## c) Draw the efficiency frontier in the figure of b), assuming that short sales are allowed. "
   ]
  },
  {
   "cell_type": "markdown",
   "metadata": {},
   "source": [
    "## short sales are allowed."
   ]
  },
  {
   "cell_type": "markdown",
   "metadata": {},
   "source": [
    "## Method1 - cvxpy"
   ]
  },
  {
   "cell_type": "code",
   "execution_count": 29,
   "metadata": {},
   "outputs": [],
   "source": [
    "efficient_frontier_return_range = np.linspace(-0.001, 0.0015, 100)\n",
    "efficient_frontier_risk_list_short_sale_allowed_cvxpy = []\n",
    "np.random.seed(1)\n",
    "ONES = np.ones(nStock)\n",
    "for ret in efficient_frontier_return_range:\n",
    "    # Construct the problem.\n",
    "    w = cp.Variable(nStock)\n",
    "    objective = cp.Minimize(cp.quad_form(w, cov))\n",
    "    constraints = [-1 <= w, w <= 1, w.T @ mu == ret, w.T @ ONES == 1]\n",
    "    prob = cp.Problem(objective, constraints)\n",
    "\n",
    "    # The optimal objective value is returned by `prob.solve()`.\n",
    "    result = prob.solve()\n",
    "    # The optimal value for x is stored in `x.value`.\n",
    "    efficient_frontier_risk_list_short_sale_allowed_cvxpy.append(get_standard_deviation(w.value))"
   ]
  },
  {
   "cell_type": "markdown",
   "metadata": {},
   "source": [
    "### plot"
   ]
  },
  {
   "cell_type": "code",
   "execution_count": 30,
   "metadata": {},
   "outputs": [
    {
     "data": {
      "image/png": "[encoded data removed]",
      "text/plain": [
       "<Figure size 864x432 with 1 Axes>"
      ]
     },
     "metadata": {
      "needs_background": "light"
     },
     "output_type": "display_data"
    }
   ],
   "source": [
    "plt.figure(figsize = (12, 6))\n",
    "plt.title('Efficient Frontier (short sales are allowed)', fontsize=22, fontweight='bold')\n",
    "# plt.scatter(mcStd_list, mcMu_list, color='b')\n",
    "plt.scatter(std, mu, color='r', marker='*')\n",
    "plt.plot(efficient_frontier_risk_list_short_sale_allowed_cvxpy, efficient_frontier_return_range, color='g', linewidth=1, marker='o')\n",
    "plt.ylabel('Expected return (Mean)')\n",
    "plt.xlabel('Risk (Std)')\n",
    "plt.axis([0.016, 0.028, -0.002, 0.002])\n",
    "plt.show()"
   ]
  },
  {
   "cell_type": "markdown",
   "metadata": {},
   "source": [
    "## Method2 - qpsolvers"
   ]
  },
  {
   "cell_type": "code",
   "execution_count": 31,
   "metadata": {},
   "outputs": [],
   "source": [
    "efficient_frontier_return_range = np.linspace(-0.001, 0.0015, 100)\n",
    "efficient_frontier_risk_list_short_sale_allowed_qp = []\n",
    "\n",
    "global_minimum_variance = False\n",
    "for ret in efficient_frontier_return_range:\n",
    "    P = np.array(cov * 2)\n",
    "    q = np.array([1e-100] * 5).reshape((5, ))\n",
    "    if global_minimum_variance == False:\n",
    "        G = np.array([mu] * 5).reshape((-1, 5))\n",
    "        h = np.array([ret] * 5)\n",
    "    if global_minimum_variance:\n",
    "        G = np.array([-mu] * 5).reshape((-1, 5))\n",
    "        h = np.array([-ret] * 5)\n",
    "    A = np.array([1] * 5)\n",
    "    b = np.array([1])\n",
    "    lb = np.array([-1] * 5)\n",
    "    ub = np.array([1] * 5)\n",
    "    w = solve_qp(P, q, G, h, A, b, lb, ub)\n",
    "    if global_minimum_variance == False:\n",
    "        if efficient_frontier_risk_list_short_sale_allowed_qp:\n",
    "            if get_standard_deviation(w) >= efficient_frontier_risk_list_short_sale_allowed_qp[-1]:\n",
    "                global_minimum_variance = True\n",
    "                global_minimum_variance_short_sale_allowed_weight_qp = w_old\n",
    "    w_old = w\n",
    "    efficient_frontier_risk_list_short_sale_allowed_qp.append(get_standard_deviation(w))\n"
   ]
  },
  {
   "cell_type": "markdown",
   "metadata": {},
   "source": [
    "### plot"
   ]
  },
  {
   "cell_type": "code",
   "execution_count": 32,
   "metadata": {},
   "outputs": [
    {
     "data": {
      "image/png": "[encoded data removed]",
      "text/plain": [
       "<Figure size 864x432 with 1 Axes>"
      ]
     },
     "metadata": {
      "needs_background": "light"
     },
     "output_type": "display_data"
    }
   ],
   "source": [
    "plt.figure(figsize = (12, 6))\n",
    "plt.title('Efficient Frontier (short sales are allowed)', fontsize=22, fontweight='bold')\n",
    "# plt.scatter(mcStd_list, mcMu_list, color='b')\n",
    "plt.scatter(std, mu, color='r', marker='*')\n",
    "plt.plot(efficient_frontier_risk_list_short_sale_allowed_qp, efficient_frontier_return_range, color='g', linewidth=1, marker='o')\n",
    "plt.ylabel('Expected return (Mean)')\n",
    "plt.xlabel('Risk (Std)')\n",
    "plt.axis([0.016, 0.028, -0.002, 0.002])\n",
    "plt.show()"
   ]
  },
  {
   "cell_type": "markdown",
   "metadata": {},
   "source": [
    "## Method3 - scipy.optimize"
   ]
  },
  {
   "cell_type": "code",
   "execution_count": 33,
   "metadata": {},
   "outputs": [],
   "source": [
    "# 每個變數(權重)的上下界\n",
    "# bounds = tuple((-1, 1) for x in range(nStock))\n",
    "bounds = ((-1, 1), ) * nStock\n",
    "\n",
    "efficient_frontier_return_range = np.linspace(-0.001, 0.0015, 100)\n",
    "efficient_frontier_risk_list_short_sale_allowed_so = []\n",
    "\n",
    "               # 希望所有的變數(權重)總和會為1\n",
    "constraints = [# {'type': 'eq', 'fun': lambda x: sum(x) - 1},\n",
    "               {'type': 'eq', 'fun': check_sum},\n",
    "               # all elements of w to be >= 0\n",
    "               {'type': 'ineq', 'fun': lambda w: w + 1},\n",
    "               # 達成給定報酬率\n",
    "               # {'type': 'eq', 'fun': lambda w: sum(w * mu) - efficient_fronter_return}\n",
    "               {'type': 'eq', 'fun': lambda w: get_return(w) - efficient_fronter_return}]\n",
    "\n",
    "for efficient_fronter_return in efficient_frontier_return_range:\n",
    "    efficient_frontier = scipy.optimize.minimize(get_standard_deviation, x0=weight, constraints=constraints, bounds=bounds)\n",
    "    efficient_frontier_risk_list_short_sale_allowed_so.append(efficient_frontier.fun)"
   ]
  },
  {
   "cell_type": "markdown",
   "metadata": {},
   "source": [
    "### plot"
   ]
  },
  {
   "cell_type": "code",
   "execution_count": 34,
   "metadata": {},
   "outputs": [
    {
     "data": {
      "image/png": "[encoded data removed]",
      "text/plain": [
       "<Figure size 864x432 with 1 Axes>"
      ]
     },
     "metadata": {
      "needs_background": "light"
     },
     "output_type": "display_data"
    }
   ],
   "source": [
    "plt.figure(figsize = (12, 6))\n",
    "plt.title('Efficient Frontier (short sales are allowed)', fontsize=22, fontweight='bold')\n",
    "# plt.scatter(mcStd_list, mcMu_list, color='b')\n",
    "plt.scatter(std, mu, color='r', marker='*')\n",
    "plt.plot(efficient_frontier_risk_list_short_sale_allowed_so, efficient_frontier_return_range, color='g', linewidth=1, marker='o')\n",
    "plt.ylabel('Expected return (Mean)')\n",
    "plt.xlabel('Risk (Std)')\n",
    "plt.axis([0.016, 0.028, -0.002, 0.002])\n",
    "plt.show()"
   ]
  },
  {
   "cell_type": "markdown",
   "metadata": {},
   "source": [
    "## short sales are prohibited."
   ]
  },
  {
   "cell_type": "markdown",
   "metadata": {},
   "source": [
    "## Method1 - cvxpy"
   ]
  },
  {
   "cell_type": "code",
   "execution_count": 35,
   "metadata": {},
   "outputs": [],
   "source": [
    "efficient_frontier_return_range_short_sales_prohibited = np.linspace(-0.001, 0.00055, 100)\n",
    "efficient_frontier_risk_list_short_sale_prohibited_cvxpy = []\n",
    "np.random.seed(1)\n",
    "ONES = np.ones(nStock)\n",
    "for ret in efficient_frontier_return_range_short_sales_prohibited:\n",
    "    # Construct the problem.\n",
    "    w = cp.Variable(nStock)\n",
    "    objective = cp.Minimize(cp.quad_form(w, cov))\n",
    "    constraints = [0 <= w, w <= 1, w.T @ mu == ret, w.T @ ONES == 1]\n",
    "    prob = cp.Problem(objective, constraints)\n",
    "\n",
    "    # The optimal objective value is returned by `prob.solve()`.\n",
    "    result = prob.solve()\n",
    "    # The optimal value for x is stored in `x.value`.\n",
    "    efficient_frontier_risk_list_short_sale_prohibited_cvxpy.append(get_standard_deviation(w.value))"
   ]
  },
  {
   "cell_type": "markdown",
   "metadata": {},
   "source": [
    "### plot"
   ]
  },
  {
   "cell_type": "code",
   "execution_count": 36,
   "metadata": {},
   "outputs": [
    {
     "data": {
      "image/png": "[encoded data removed]",
      "text/plain": [
       "<Figure size 864x432 with 1 Axes>"
      ]
     },
     "metadata": {
      "needs_background": "light"
     },
     "output_type": "display_data"
    }
   ],
   "source": [
    "plt.figure(figsize = (12, 6))\n",
    "plt.title('Efficient Frontier (short sales are prohibited)', fontsize=22, fontweight='bold')\n",
    "# plt.scatter(mcStd_list, mcMu_list, color='b')\n",
    "plt.scatter(std, mu, color='r', marker='*')\n",
    "plt.plot(efficient_frontier_risk_list_short_sale_prohibited_cvxpy, efficient_frontier_return_range_short_sales_prohibited, color='y', linewidth=1, marker='o')\n",
    "plt.ylabel('Expected return (Mean)')\n",
    "plt.xlabel('Risk (Std)')\n",
    "plt.axis([0.016, 0.028, -0.002, 0.002])\n",
    "plt.show()"
   ]
  },
  {
   "cell_type": "markdown",
   "metadata": {},
   "source": [
    "## Method2 - scipy.optimize"
   ]
  },
  {
   "cell_type": "code",
   "execution_count": 37,
   "metadata": {},
   "outputs": [],
   "source": [
    "# 每個變數(權重)的上下界\n",
    "# bounds = tuple((0, 1) for x in range(nStock))\n",
    "bounds = ((0, 1), ) * nStock\n",
    "\n",
    "efficient_frontier_return_range_short_sales_prohibited = np.linspace(-0.001, 0.00055, 100)\n",
    "efficient_frontier_risk_list_short_sale_prohibited_so = []\n",
    "\n",
    "               # 希望所有的變數(權重)總和會為1\n",
    "constraints = [# {'type': 'eq', 'fun': lambda x: sum(x) - 1},\n",
    "               {'type': 'eq', 'fun': check_sum},\n",
    "               # all elements of w to be >= 0\n",
    "               {'type': 'ineq', 'fun': lambda w: w},\n",
    "               # 達成給定報酬率\n",
    "               # {'type': 'eq', 'fun': lambda w: sum(w * mu) - efficient_fronter_return}\n",
    "               {'type': 'eq', 'fun': lambda w: get_return(w) - efficient_fronter_return}]\n",
    "\n",
    "for efficient_fronter_return in efficient_frontier_return_range_short_sales_prohibited:\n",
    "    efficient_frontier = scipy.optimize.minimize(get_standard_deviation, x0=weight, constraints=constraints, bounds=bounds)\n",
    "    efficient_frontier_risk_list_short_sale_prohibited_so.append(efficient_frontier.fun)"
   ]
  },
  {
   "cell_type": "markdown",
   "metadata": {},
   "source": [
    "### plot"
   ]
  },
  {
   "cell_type": "code",
   "execution_count": 38,
   "metadata": {},
   "outputs": [
    {
     "data": {
      "image/png": "[encoded data removed]",
      "text/plain": [
       "<Figure size 864x432 with 1 Axes>"
      ]
     },
     "metadata": {
      "needs_background": "light"
     },
     "output_type": "display_data"
    }
   ],
   "source": [
    "plt.figure(figsize = (12, 6))\n",
    "plt.title('Efficient Frontier (short sales are prohibited)', fontsize=22, fontweight='bold')\n",
    "# plt.scatter(mcStd_list, mcMu_list, color='b')\n",
    "plt.scatter(std, mu, color='r', marker='*')\n",
    "plt.plot(efficient_frontier_risk_list_short_sale_prohibited_so, efficient_frontier_return_range_short_sales_prohibited, color='y', linewidth=1, marker='o')\n",
    "plt.ylabel('Expected return (Mean)')\n",
    "plt.xlabel('Risk (Std)')\n",
    "plt.axis([0.016, 0.028, -0.002, 0.002])\n",
    "plt.show()"
   ]
  },
  {
   "cell_type": "markdown",
   "metadata": {},
   "source": [
    "### plot"
   ]
  },
  {
   "cell_type": "code",
   "execution_count": 39,
   "metadata": {},
   "outputs": [
    {
     "data": {
      "image/png": "[encoded data removed]",
      "text/plain": [
       "<Figure size 864x432 with 1 Axes>"
      ]
     },
     "metadata": {
      "needs_background": "light"
     },
     "output_type": "display_data"
    }
   ],
   "source": [
    "plt.figure(figsize = (12, 6))\n",
    "plt.title('Efficient Frontier\\n (green: short sales are allowed, yellow: short sales are prohibited)', fontsize=22, fontweight='bold')\n",
    "# plt.scatter(mcStd_list, mcMu_list, color='b')\n",
    "plt.scatter(std, mu, color='r', marker='*')\n",
    "plt.plot(efficient_frontier_risk_list_short_sale_allowed_cvxpy, efficient_frontier_return_range, color='g', linewidth=1, marker='o')\n",
    "plt.plot(efficient_frontier_risk_list_short_sale_prohibited_cvxpy, efficient_frontier_return_range_short_sales_prohibited, color='y', linewidth=1, marker='o')\n",
    "plt.ylabel('Expected return (Mean)')\n",
    "plt.xlabel('Risk (Std)')\n",
    "plt.axis([0.016, 0.028, -0.002, 0.002])\n",
    "plt.show()"
   ]
  },
  {
   "cell_type": "markdown",
   "metadata": {},
   "source": [
    "## d) Check if the efficiency frontier in e) is the envelope line of the blue points in d) of Hw 3."
   ]
  },
  {
   "cell_type": "markdown",
   "metadata": {},
   "source": [
    "### short sales are allowed."
   ]
  },
  {
   "cell_type": "code",
   "execution_count": 40,
   "metadata": {},
   "outputs": [],
   "source": [
    "mcMu_list = []\n",
    "mcStd_list = []\n",
    "for _ in range(1000):\n",
    "    nMC = 1\n",
    "\n",
    "    weight_new = (np.random.rand(nMC, nStock) - 0.5) * 2\n",
    "\n",
    "    rowsum = np.sum(weight_new, axis=1, keepdims=1)\n",
    "    weight_new /= rowsum\n",
    "    rowsum_check = np.sum(weight, axis=1)\n",
    "\n",
    "    # matmul: 矩陣乘法\n",
    "    array_mu = mu.values\n",
    "    mcMu_new = np.matmul(weight_new, array_mu)\n",
    "    # mcMu = np.matmul(weight, mu)\n",
    "    mcMu_list.append(mcMu_new)\n",
    "\n",
    "    array_Cov = cov.values\n",
    "\n",
    "    mcCov_new = np.zeros(nMC)\n",
    "    mcStd_new = np.zeros(nMC)\n",
    "\n",
    "    for idx in range(nMC):\n",
    "        mcCov_new[idx] = np.matmul(np.matmul(weight_new[idx, :], array_Cov), weight_new[idx, :])\n",
    "        mcStd_new[idx] = np.sqrt(mcCov_new[idx])\n",
    "        mcStd_list.append(mcStd_new)"
   ]
  },
  {
   "cell_type": "markdown",
   "metadata": {},
   "source": [
    "### plot"
   ]
  },
  {
   "cell_type": "code",
   "execution_count": 41,
   "metadata": {},
   "outputs": [
    {
     "data": {
      "image/png": "[encoded data removed]",
      "text/plain": [
       "<Figure size 864x432 with 1 Axes>"
      ]
     },
     "metadata": {
      "needs_background": "light"
     },
     "output_type": "display_data"
    }
   ],
   "source": [
    "plt.figure(figsize = (12, 6))\n",
    "plt.title('Efficient Frontier\\n (green: short sales are allowed)', fontsize=22, fontweight='bold')\n",
    "plt.scatter(mcStd_list, mcMu_list, color='b')\n",
    "plt.scatter(std, mu, color='r', marker='*')\n",
    "plt.plot(efficient_frontier_risk_list_short_sale_allowed_cvxpy, efficient_frontier_return_range, color='g', linewidth=1, marker='o')\n",
    "plt.ylabel('Expected return (Mean)')\n",
    "plt.xlabel('Risk (Std)')\n",
    "plt.axis([0.016, 0.028, -0.002, 0.002])\n",
    "plt.show()"
   ]
  },
  {
   "cell_type": "markdown",
   "metadata": {},
   "source": [
    "### 可以發現一部份的點的確是在效率前緣上，而效率前緣也的確把所有點包起來"
   ]
  },
  {
   "cell_type": "markdown",
   "metadata": {},
   "source": [
    "### short sales are prohibited."
   ]
  },
  {
   "cell_type": "code",
   "execution_count": 42,
   "metadata": {},
   "outputs": [],
   "source": [
    "mcMu_list = []\n",
    "mcStd_list = []\n",
    "for _ in range(1000):\n",
    "    nMC = 1\n",
    "\n",
    "    weight_new = np.random.rand(nMC, nStock)\n",
    "\n",
    "    rowsum = np.sum(weight_new, axis=1, keepdims=1)\n",
    "    weight_new /= rowsum\n",
    "    rowsum_check = np.sum(weight, axis=1)\n",
    "\n",
    "    # matmul: 矩陣乘法\n",
    "    array_mu = mu.values\n",
    "    mcMu_new = np.matmul(weight_new, array_mu)\n",
    "    # mcMu = np.matmul(weight, mu)\n",
    "    mcMu_list.append(mcMu_new)\n",
    "\n",
    "    array_Cov = cov.values\n",
    "\n",
    "    mcCov_new = np.zeros(nMC)\n",
    "    mcStd_new = np.zeros(nMC)\n",
    "\n",
    "    for idx in range(nMC):\n",
    "        mcCov_new[idx] = np.matmul(np.matmul(weight_new[idx, :], array_Cov), weight_new[idx, :])\n",
    "        mcStd_new[idx] = np.sqrt(mcCov_new[idx])\n",
    "        mcStd_list.append(mcStd_new)"
   ]
  },
  {
   "cell_type": "code",
   "execution_count": 43,
   "metadata": {},
   "outputs": [
    {
     "data": {
      "image/png": "[encoded data removed]",
      "text/plain": [
       "<Figure size 864x432 with 1 Axes>"
      ]
     },
     "metadata": {
      "needs_background": "light"
     },
     "output_type": "display_data"
    }
   ],
   "source": [
    "plt.figure(figsize = (12, 6))\n",
    "plt.title('Efficient Frontier\\n (yellow: short sales are prohibited)', fontsize=22, fontweight='bold')\n",
    "plt.scatter(mcStd_list, mcMu_list, color='b')\n",
    "plt.scatter(std, mu, color='r', marker='*')\n",
    "plt.plot(efficient_frontier_risk_list_short_sale_prohibited_cvxpy, efficient_frontier_return_range_short_sales_prohibited, color='y', linewidth=1, marker='o')\n",
    "plt.ylabel('Expected return (Mean)')\n",
    "plt.xlabel('Risk (Std)')\n",
    "plt.axis([0.016, 0.028, -0.002, 0.002])\n",
    "plt.show()"
   ]
  },
  {
   "cell_type": "markdown",
   "metadata": {},
   "source": [
    "### 可以發現一部份的點的確是在效率前緣上，而效率前緣也的確把所有點包起來"
   ]
  },
  {
   "cell_type": "markdown",
   "metadata": {},
   "source": [
    "## PART B. Using hierarchical clustering to form a portfolio. "
   ]
  },
  {
   "cell_type": "markdown",
   "metadata": {},
   "source": [
    "### import module"
   ]
  },
  {
   "cell_type": "code",
   "execution_count": 44,
   "metadata": {},
   "outputs": [],
   "source": [
    "from sklearn.cluster import AgglomerativeClustering   # Hierarchical clustering\n",
    "from scipy.cluster.hierarchy import dendrogram, linkage"
   ]
  },
  {
   "cell_type": "markdown",
   "metadata": {},
   "source": [
    "## a) Let all historical returns be the feature for each stock. With Euclidean distance and average linkage method, use the hierarchical clustering to assign portfolio weights. What are the portfolio weights for each stock?"
   ]
  },
  {
   "cell_type": "code",
   "execution_count": 45,
   "metadata": {},
   "outputs": [],
   "source": [
    "return_data_HC = return_data.copy().T\n",
    "return_data_HC_np = return_data_HC.values"
   ]
  },
  {
   "cell_type": "code",
   "execution_count": 46,
   "metadata": {},
   "outputs": [],
   "source": [
    "hclust = AgglomerativeClustering(n_clusters=5, affinity='euclidean', linkage='average').fit(return_data_HC_np)"
   ]
  },
  {
   "cell_type": "code",
   "execution_count": 47,
   "metadata": {},
   "outputs": [],
   "source": [
    "cluster_labels_hclust = hclust.labels_"
   ]
  },
  {
   "cell_type": "code",
   "execution_count": 48,
   "metadata": {},
   "outputs": [
    {
     "data": {
      "image/png": "[encoded data removed]",
      "text/plain": [
       "<Figure size 864x432 with 1 Axes>"
      ]
     },
     "metadata": {
      "needs_background": "light"
     },
     "output_type": "display_data"
    }
   ],
   "source": [
    "linked = linkage(return_data_HC_np, method='average', metric='euclidean', optimal_ordering=True)\n",
    "plt.figure(figsize=(12, 6))\n",
    "dendrogram_dic = dendrogram(linked, orientation = 'top', labels = return_data_HC.index, show_leaf_counts=True, get_leaves=True, color_threshold=0.001)\n",
    "plt.show()"
   ]
  },
  {
   "cell_type": "code",
   "execution_count": 49,
   "metadata": {},
   "outputs": [],
   "source": [
    "weight_order_idx = dendrogram_dic['leaves']\n",
    "weight_order = dendrogram_dic['ivl']"
   ]
  },
  {
   "cell_type": "code",
   "execution_count": 50,
   "metadata": {},
   "outputs": [
    {
     "name": "stdout",
     "output_type": "stream",
     "text": [
      "FB.1 佔投資組合權重 : 0.0625\n",
      "GOOG.1 佔投資組合權重 : 0.1250\n",
      "NFLX.1 佔投資組合權重 : 0.5000\n",
      "AMZN.1 佔投資組合權重 : 0.0625\n",
      "AAPL.1 佔投資組合權重 : 0.2500\n"
     ]
    }
   ],
   "source": [
    "weight = 1\n",
    "weight_list = np.zeros(5)\n",
    "for i in range(len(weight_order_idx)):\n",
    "    if (len(weight_order_idx) - 1) - i > 0:\n",
    "        weight /= 2\n",
    "    weight_list[weight_order_idx[i]] = weight\n",
    "for i in range(nStock):\n",
    "    print(str(return_data.columns[i]), '佔投資組合權重 :', str(format(weight_list[i], '.4f')))"
   ]
  },
  {
   "cell_type": "markdown",
   "metadata": {},
   "source": [
    "## b) Using the portfolio weights obtained in (b), what are the expected return and risk?"
   ]
  },
  {
   "cell_type": "code",
   "execution_count": 51,
   "metadata": {},
   "outputs": [
    {
     "name": "stdout",
     "output_type": "stream",
     "text": [
      "expected return(mean) of the portfolio: -0.0005995736336596386\n"
     ]
    }
   ],
   "source": [
    "# matmul: 矩陣乘法\n",
    "array_mu = mu.values\n",
    "mcMu = np.matmul(weight_list, array_mu)\n",
    "# mcMu = np.matmul(weight_list, mu)\n",
    "print('expected return(mean) of the portfolio:', mcMu)"
   ]
  },
  {
   "cell_type": "code",
   "execution_count": 52,
   "metadata": {},
   "outputs": [
    {
     "name": "stdout",
     "output_type": "stream",
     "text": [
      "risk (standard deviation) of the portfolio: 0.020603919541527002\n"
     ]
    }
   ],
   "source": [
    "# print('cov:', cov, sep='\\n')\n",
    "array_Cov = cov.values\n",
    "# print('array_Cov:', array_Cov, sep='\\n')\n",
    "\n",
    "mcCov = np.matmul(np.matmul(weight_list, array_Cov), weight_list)\n",
    "mcStd = np.sqrt(mcCov)\n",
    "print('risk (standard deviation) of the portfolio:', mcStd)"
   ]
  },
  {
   "cell_type": "markdown",
   "metadata": {},
   "source": [
    "## 2. [Confusion matrix] Consider the following true and predicted labels: "
   ]
  },
  {
   "cell_type": "code",
   "execution_count": 53,
   "metadata": {},
   "outputs": [],
   "source": [
    "y_true = [0, 1, 0, 0, 0, 1, 1, 1, 1, 0, 0, 1]\n",
    "y_pred = [0, 0, 1, 0, 0, 1, 1, 1, 1, 1, 1, 0]"
   ]
  },
  {
   "cell_type": "markdown",
   "metadata": {},
   "source": [
    "## a) Use hand calculation to show the confusion matrix based on the above data, and calculate Precision, Recall, F1score."
   ]
  },
  {
   "cell_type": "markdown",
   "metadata": {},
   "source": [
    "* tp = 4\n",
    "* tn = 3\n",
    "* fp = 3\n",
    "* fn = 2\n",
    "* confusion matrix = \n",
    "*     4 3\n",
    "*     2 3\n",
    "* Precision score = 4 / (4 + 3) = 0.5714\n",
    "* Recall score = 4 / (4 + 2) = 0.6667\n",
    "* F1 score = 1 / (0.5 * (1 / 0.6667 + 1 / 0.5714)) = 0.6154"
   ]
  },
  {
   "cell_type": "code",
   "execution_count": 54,
   "metadata": {},
   "outputs": [
    {
     "name": "stdout",
     "output_type": "stream",
     "text": [
      "tp: 4\n",
      "tn: 3\n",
      "fp: 3\n",
      "fn: 2\n"
     ]
    }
   ],
   "source": [
    "tp = 0\n",
    "tn = 0\n",
    "fp = 0\n",
    "fn = 0\n",
    "for i in range(len(y_true)):\n",
    "    if y_true[i] == 1 and y_pred[i] == 1:\n",
    "        tp += 1\n",
    "    elif y_true[i] == 0 and y_pred[i] == 0:\n",
    "        tn += 1\n",
    "    elif y_true[i] == 0 and y_pred[i] == 1:\n",
    "        fp += 1\n",
    "    elif y_true[i] == 1 and y_pred[i] == 0:\n",
    "        fn += 1\n",
    "print('tp:', tp)\n",
    "print('tn:', tn)\n",
    "print('fp:', fp)\n",
    "print('fn:', fn)"
   ]
  },
  {
   "cell_type": "markdown",
   "metadata": {},
   "source": [
    "### function definition"
   ]
  },
  {
   "cell_type": "code",
   "execution_count": 55,
   "metadata": {},
   "outputs": [],
   "source": [
    "def Confusion_Matrix(tp, tn, fp, fn):\n",
    "    return np.array([[tp, fp], [fn, tn]])\n",
    "\n",
    "def Precision(tp, fp):\n",
    "    return tp / (tp + fp)\n",
    "\n",
    "def Recall(tp, fn):\n",
    "    return tp / (tp + fn)\n",
    "\n",
    "def f1(tp, fp, fn):\n",
    "    return 1 / (0.5 * (1 / Recall(tp, fn) + 1 / Precision(tp, fp)))"
   ]
  },
  {
   "cell_type": "code",
   "execution_count": 56,
   "metadata": {},
   "outputs": [
    {
     "name": "stdout",
     "output_type": "stream",
     "text": [
      "Confusion Matrix\n",
      "[[4 3]\n",
      " [2 3]]\n",
      "Precision score: 0.5714285714285714\n",
      "Recall score: 0.6666666666666666\n",
      "F1 score: 0.6153846153846154\n"
     ]
    }
   ],
   "source": [
    "confusion_matric = Confusion_Matrix(tp, tn, fp, fn)\n",
    "print('Confusion Matrix')\n",
    "print(confusion_matric)\n",
    "print('Precision score:', Precision(tp, fp))\n",
    "print('Recall score:', Recall(tp, fn))\n",
    "print('F1 score:', f1(tp, fp, fn))"
   ]
  },
  {
   "cell_type": "markdown",
   "metadata": {},
   "source": [
    "## b) Use pythons (or other programming language) to double confirm your answer in a). "
   ]
  },
  {
   "cell_type": "markdown",
   "metadata": {},
   "source": [
    "### import module"
   ]
  },
  {
   "cell_type": "code",
   "execution_count": 57,
   "metadata": {},
   "outputs": [],
   "source": [
    "from sklearn.metrics import confusion_matrix"
   ]
  },
  {
   "cell_type": "code",
   "execution_count": 58,
   "metadata": {},
   "outputs": [
    {
     "name": "stdout",
     "output_type": "stream",
     "text": [
      "Confusion Matrix\n",
      "[[4 3]\n",
      " [2 3]]\n"
     ]
    }
   ],
   "source": [
    "confusion_matric = confusion_matrix(y_true, y_pred, labels=[1, 0])\n",
    "print('Confusion Matrix')\n",
    "print(confusion_matric.T)"
   ]
  },
  {
   "cell_type": "markdown",
   "metadata": {},
   "source": [
    "### import module"
   ]
  },
  {
   "cell_type": "code",
   "execution_count": 59,
   "metadata": {},
   "outputs": [],
   "source": [
    "#importing precision_score, recall_score, f1_score\n",
    "from sklearn.metrics import precision_score, recall_score, f1_score"
   ]
  },
  {
   "cell_type": "code",
   "execution_count": 60,
   "metadata": {},
   "outputs": [
    {
     "name": "stdout",
     "output_type": "stream",
     "text": [
      "Precision score: 0.5714285714285714\n",
      "Recall score: 0.6666666666666666\n",
      "F1 score: 0.6153846153846153\n"
     ]
    }
   ],
   "source": [
    "print('Precision score:', precision_score(y_true, y_pred))\n",
    "print('Recall score:', recall_score(y_true, y_pred))\n",
    "print('F1 score:', f1_score(y_true, y_pred))"
   ]
  },
  {
   "cell_type": "markdown",
   "metadata": {},
   "source": [
    "### import module"
   ]
  },
  {
   "cell_type": "code",
   "execution_count": 61,
   "metadata": {},
   "outputs": [],
   "source": [
    "from sklearn.metrics import precision_recall_fscore_support"
   ]
  },
  {
   "cell_type": "code",
   "execution_count": 62,
   "metadata": {},
   "outputs": [
    {
     "name": "stdout",
     "output_type": "stream",
     "text": [
      "Precision score: 0.5714285714285714\n",
      "Recall score: 0.6666666666666666\n",
      "F1 score: 0.6153846153846153\n"
     ]
    }
   ],
   "source": [
    "(precision, recall, fscore, support) = precision_recall_fscore_support(y_true, y_pred)\n",
    "print('Precision score:', precision[1])\n",
    "print('Recall score:', recall[1])\n",
    "print('F1 score:', fscore[1])"
   ]
  },
  {
   "cell_type": "markdown",
   "metadata": {},
   "source": [
    "### import module"
   ]
  },
  {
   "cell_type": "code",
   "execution_count": 63,
   "metadata": {},
   "outputs": [],
   "source": [
    "from sklearn.metrics import classification_report"
   ]
  },
  {
   "cell_type": "code",
   "execution_count": 64,
   "metadata": {},
   "outputs": [
    {
     "name": "stdout",
     "output_type": "stream",
     "text": [
      "Classification Report\n",
      "\n",
      "              precision    recall  f1-score   support\n",
      "\n",
      "           0       0.60      0.50      0.55         6\n",
      "           1       0.57      0.67      0.62         6\n",
      "\n",
      "    accuracy                           0.58        12\n",
      "   macro avg       0.59      0.58      0.58        12\n",
      "weighted avg       0.59      0.58      0.58        12\n",
      "\n"
     ]
    }
   ],
   "source": [
    "print('Classification Report\\n')\n",
    "print(classification_report(y_true, y_pred))"
   ]
  }
 ],
 "metadata": {
  "kernelspec": {
   "display_name": "Python 3",
   "language": "python",
   "name": "python3"
  },
  "language_info": {
   "codemirror_mode": {
    "name": "ipython",
    "version": 3
   },
   "file_extension": ".py",
   "mimetype": "text/x-python",
   "name": "python",
   "nbconvert_exporter": "python",
   "pygments_lexer": "ipython3",
   "version": "3.7.4"
  }
 },
 "nbformat": 4,
 "nbformat_minor": 2
}
