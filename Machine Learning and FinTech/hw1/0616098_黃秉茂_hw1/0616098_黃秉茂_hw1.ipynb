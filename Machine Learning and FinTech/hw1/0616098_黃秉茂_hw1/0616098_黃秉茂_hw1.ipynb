{
 "cells": [
  {
   "cell_type": "markdown",
   "metadata": {},
   "source": [
    "# Machine learning and FinTech Hw 1.                                        0616098 黃秉茂"
   ]
  },
  {
   "cell_type": "markdown",
   "metadata": {},
   "source": [
    "#### import every module I need"
   ]
  },
  {
   "cell_type": "code",
   "execution_count": 1,
   "metadata": {},
   "outputs": [
    {
     "data": {
      "text/plain": [
       "{'divide': 'warn', 'over': 'warn', 'under': 'ignore', 'invalid': 'warn'}"
      ]
     },
     "execution_count": 1,
     "metadata": {},
     "output_type": "execute_result"
    }
   ],
   "source": [
    "import pandas as pd \n",
    "import numpy as np  \n",
    "import seaborn as sns\n",
    "import matplotlib.pyplot as plt\n",
    "import math   # This will import math module\n",
    "np.seterr(divide='ignore', invalid='ignore')"
   ]
  },
  {
   "cell_type": "markdown",
   "metadata": {},
   "source": [
    "## 1. For your individual final project, think about the following questions and write down your answers. "
   ]
  },
  {
   "cell_type": "markdown",
   "metadata": {},
   "source": [
    "### a) What is the topic about FinTech you would like to work out? Briefly explain your problem."
   ]
  },
  {
   "cell_type": "markdown",
   "metadata": {},
   "source": [
    "股票買賣<br>\n",
    "判斷應該是要買多還是賣空、預判漲跌，然後使利潤最大化"
   ]
  },
  {
   "cell_type": "markdown",
   "metadata": {},
   "source": [
    "### b) Write down your motivations and explain why this topic is important? "
   ]
  },
  {
   "cell_type": "markdown",
   "metadata": {},
   "source": [
    "* 動機：個人利益方面，當然是希望所學能幫自己賺錢。社會方面，因為AI在有些方面已經超越人類了，像是圍棋，而運用在財金方面是否能有顯著的提供協助?財金相較於其他領域是更貼近人們的生活的，因此可能對人類的生活產生巨變，而且投資要考量的變數實在很多，所以我很好奇運用AI技術的投資能否打敗人類。\n",
    "* 重要性：AI已經有發展到一定的程度了，然而運用AI的領域實在不算多，目前可能只有遊戲、視覺、跟自然語言處理有比較傑出的成果，AI勢必還需要在某些能大大改變人們生活的領域發展，更能顯的AI會如何影響人類。如果AI加上財金將會大大地改變人們的生活，而且投資並不是只有考量數學，還是一門跟人文、心理相關的學問，而AI是否能連這些都考慮到是我所好奇的。"
   ]
  },
  {
   "cell_type": "markdown",
   "metadata": {},
   "source": [
    "### c) Provide at least one related work (paper or book) about the topic."
   ]
  },
  {
   "cell_type": "markdown",
   "metadata": {},
   "source": [
    "* [\"Global stock market investment strategies based on financial network indicators using machine learning techniques.](https://www.sciencedirect.com/science/article/pii/S0957417418305761) Lee, Tae Kyun, et al. \"Global stock market investment strategies based on financial network indicators using machine learning techniques.\" Expert Systems with Applications 117 (2019): 228-242.\n",
    "* [\"Supporting Investment Management Processes with Machine Learning Techniques.\"](https://www.researchgate.net/profile/Martin_Sedlmayr/publication/221200937_Unterstutzung_medizinischer_Leitlinien_-_Von_der_zielorientierten_Modellierung_zur_proaktiven_Assistenz/links/0a85e531c2277cd61d000000.pdf#page=275) Groth, Sven S., and Jan Muntermann. \"Supporting Investment Management Processes with Machine Learning Techniques.\" Wirtschaftsinformatik (2). 2009.\n",
    "* [\"A machine learning model for stock market prediction.\"](https://arxiv.org/ftp/arxiv/papers/1402/1402.7351.pdf) Hegazy, Osman, Omar S. Soliman, and Mustafa Abdul Salam. \"A machine learning model for stock market prediction.\" arXiv preprint arXiv:1402.7351 (2014).\n",
    "* [\"Predicting stock and stock price index movement using trend deterministic data preparation and machine learning techniques.\"](https://www.sciencedirect.com/science/article/pii/S0957417414004473) Patel, Jigar, et al. \"Predicting stock and stock price index movement using trend deterministic data preparation and machine learning techniques.\" Expert systems with applications 42.1 (2015): 259-268.\n"
   ]
  },
  {
   "cell_type": "markdown",
   "metadata": {},
   "source": [
    "### d) Formulate your problem as clear as possible. "
   ]
  },
  {
   "cell_type": "markdown",
   "metadata": {},
   "source": [
    "* 起始金額為現金110,000元，希望最後能賺最多錢\n",
    "* 每天都要判斷買多還是賣多這固定的十檔股票(0050、0056、鴻海、台積電、聯發科、大立光、富邦金、國泰金、玉山金、元大金)\n",
    "* 自變數會用先前的開盤價、最高價、最低價、收盤價、成交量、5日均價、20日均價、網路聲量(如果有學會爬蟲的話)等等，而變數就是這十檔分別該買還是賣\n",
    "* 假設想買一定買得到，想脫手一定賣得掉\n",
    "* 假設股票能以前一天的收盤價買進，融券也是以前一天的收盤價為代價\n",
    "* 假設手續費為交易金額的1%\n",
    "* 先預測哪些會漲那些會跌之後，先將現金10,000元保留以備不時之需。在認為漲超過手續費的股票中，覺得投資報酬率最高的投入剩餘現有現金的50%，第二高的再投入剩餘現有現金的50%，以此類推，並將剩餘所有的現有現金投入投資報酬率最低但還是認為能漲超過手續費的，然後隔天要將所有持有的股票都賣掉。認為會跌超過手續費的也是按照買股的方式，在認為跌超過手續費的股票中，覺得賣空的投資報酬率最高的就借價值約為現有現金的50%的券，賣空的投資報酬率第二高的再借價值約為剩餘現有現金的25%的券，以此類推，並在最後借與前一個同價值但還是認為能跌超過手續費的券，然後隔天也要將所有持有的股票都賣掉。隔天都會平倉。\n",
    "* 可以全部都不買也不賣"
   ]
  },
  {
   "cell_type": "markdown",
   "metadata": {},
   "source": [
    "### e) Find the data you would like to use. Write down the source of your data, summarize the data set information and attribution information. Provide the exploratory data analysis (EDA) for your data. "
   ]
  },
  {
   "cell_type": "markdown",
   "metadata": {},
   "source": [
    "* data source: TEJ, yahoo finance, apple stock\n",
    "* 會先將.csv下載下來後，再使用pandas, numpy等進行EDA\n",
    "* stock:\n",
    "    * 0050 Yuanta Taiwan Top5:  0050 元大台灣50\n",
    "    * 0056 PTD:                 0056 元大高股息\n",
    "    * 2317 Hon Hai Precision:   2317 鴻海\n",
    "    * 2330 TSMC:                2330 台積電\n",
    "    * 2454 MediaTek:            2454 聯發科\n",
    "    * 3008 Largan:              3008 大立光\n",
    "    * 2881 Fubon FHC:           2881 富邦金\n",
    "    * 2882 Cathay Holdings:     2882 國泰金\n",
    "    * 2884 E.S.F.H:             2884 玉山金\n",
    "    * 2885 Yuanta Group:        2885 元大金\n",
    "* attribute:\n",
    "    * CO_ID:                  公司代碼 \n",
    "    * Date:                   年月日 \n",
    "    * Open(NTD):              開盤價(元) \n",
    "    * High(NTD):              最高價(元)\n",
    "    * Low(NTD):               最低價(元)\n",
    "    * Close(NTD):             收盤價(元) \n",
    "    * Volume(1000S):          成交量(千股)\n",
    "    * Amount(NTD1000):        成交值(千元)\n",
    "    * AVG CLOSE:              當日均價(元)\n",
    "    * AVG CLOSE 5D:           5日均價(元) \n",
    "    * AVG CLOSE 10D:          10日均價(元)\n",
    "    * AVG CLOSE 20D:          20日均價(元)\n",
    "    * AVG Vol 5D:             5日均量\n",
    "    * AVG Vol 10D:            10日均量\n",
    "    * AVG Vol 20D:            20日均量\n",
    "    * ROI%:                   報酬率％\n",
    "    * Shares(1000S):          流通在外股數(千股)\n",
    "    * Market Cap.(NTD MN):    市值(百萬元)\n",
    "    * P/E-TEJ:                本益比-TEJ \n",
    "    * P/B-TEJ:                股價淨值比-TEJ\n",
    "    * Dividend_Yield%:        股利殖利率\n",
    "    * Cash_Dividend%:         現金股利率\n",
    "    * Price_Change(NTD):      股價漲跌(元)\n",
    "    * High minus Low %:       高低價差%\n",
    "    * Market:                 上市別\n",
    "    * Capital:                資本\n",
    "    * No.of Employee:         員工人數"
   ]
  },
  {
   "cell_type": "code",
   "execution_count": 2,
   "metadata": {
    "scrolled": true
   },
   "outputs": [
    {
     "name": "stdout",
     "output_type": "stream",
     "text": [
      "dataset_shape =  (14020, 27)\n"
     ]
    }
   ],
   "source": [
    "stock_data = pd.read_csv('stock(eng).csv', encoding='utf-8')\n",
    "print(\"dataset_shape = \", stock_data.shape)"
   ]
  },
  {
   "cell_type": "code",
   "execution_count": 3,
   "metadata": {},
   "outputs": [
    {
     "data": {
      "text/html": [
       "<div>\n",
       "<style scoped>\n",
       "    .dataframe tbody tr th:only-of-type {\n",
       "        vertical-align: middle;\n",
       "    }\n",
       "\n",
       "    .dataframe tbody tr th {\n",
       "        vertical-align: top;\n",
       "    }\n",
       "\n",
       "    .dataframe thead th {\n",
       "        text-align: right;\n",
       "    }\n",
       "</style>\n",
       "<table border=\"1\" class=\"dataframe\">\n",
       "  <thead>\n",
       "    <tr style=\"text-align: right;\">\n",
       "      <th></th>\n",
       "      <th>CO_ID</th>\n",
       "      <th>Date</th>\n",
       "      <th>Open(NTD)</th>\n",
       "      <th>High(NTD)</th>\n",
       "      <th>Low(NTD)</th>\n",
       "      <th>Close(NTD)</th>\n",
       "      <th>Volume(1000S)</th>\n",
       "      <th>Amount(NTD1000)</th>\n",
       "      <th>AVG CLOSE</th>\n",
       "      <th>AVG CLOSE 5D</th>\n",
       "      <th>...</th>\n",
       "      <th>Market Cap.(NTD MN)</th>\n",
       "      <th>P/E-TEJ</th>\n",
       "      <th>P/B-TEJ</th>\n",
       "      <th>Dividend_Yield%</th>\n",
       "      <th>Cash_Dividend%</th>\n",
       "      <th>Price_Change(NTD)</th>\n",
       "      <th>High minus Low %</th>\n",
       "      <th>Market</th>\n",
       "      <th>Capital</th>\n",
       "      <th>No.of Employee</th>\n",
       "    </tr>\n",
       "  </thead>\n",
       "  <tbody>\n",
       "    <tr>\n",
       "      <td>0</td>\n",
       "      <td>0050 Yuanta Taiwan Top50</td>\n",
       "      <td>2015/1/5</td>\n",
       "      <td>66.4</td>\n",
       "      <td>66.75</td>\n",
       "      <td>66</td>\n",
       "      <td>66.55</td>\n",
       "      <td>6,295</td>\n",
       "      <td>417,637</td>\n",
       "      <td>66.3379</td>\n",
       "      <td>66.81</td>\n",
       "      <td>...</td>\n",
       "      <td>75,567</td>\n",
       "      <td>NaN</td>\n",
       "      <td>NaN</td>\n",
       "      <td>NaN</td>\n",
       "      <td>2.33</td>\n",
       "      <td>-0.30</td>\n",
       "      <td>1.1219</td>\n",
       "      <td>TSE</td>\n",
       "      <td>NaN</td>\n",
       "      <td>NaN</td>\n",
       "    </tr>\n",
       "    <tr>\n",
       "      <td>1</td>\n",
       "      <td>0050 Yuanta Taiwan Top50</td>\n",
       "      <td>2015/1/6</td>\n",
       "      <td>65.75</td>\n",
       "      <td>65.75</td>\n",
       "      <td>64.75</td>\n",
       "      <td>64.9</td>\n",
       "      <td>19,501</td>\n",
       "      <td>1,272,547</td>\n",
       "      <td>65.2527</td>\n",
       "      <td>66.47</td>\n",
       "      <td>...</td>\n",
       "      <td>73,693</td>\n",
       "      <td>NaN</td>\n",
       "      <td>NaN</td>\n",
       "      <td>NaN</td>\n",
       "      <td>2.39</td>\n",
       "      <td>-1.65</td>\n",
       "      <td>1.5026</td>\n",
       "      <td>TSE</td>\n",
       "      <td>NaN</td>\n",
       "      <td>NaN</td>\n",
       "    </tr>\n",
       "    <tr>\n",
       "      <td>2</td>\n",
       "      <td>0050 Yuanta Taiwan Top50</td>\n",
       "      <td>2015/1/7</td>\n",
       "      <td>64.7</td>\n",
       "      <td>65.25</td>\n",
       "      <td>64.7</td>\n",
       "      <td>65</td>\n",
       "      <td>6,991</td>\n",
       "      <td>454,539</td>\n",
       "      <td>65.0127</td>\n",
       "      <td>66.03</td>\n",
       "      <td>...</td>\n",
       "      <td>73,742</td>\n",
       "      <td>NaN</td>\n",
       "      <td>NaN</td>\n",
       "      <td>NaN</td>\n",
       "      <td>2.38</td>\n",
       "      <td>0.10</td>\n",
       "      <td>0.8475</td>\n",
       "      <td>TSE</td>\n",
       "      <td>NaN</td>\n",
       "      <td>NaN</td>\n",
       "    </tr>\n",
       "    <tr>\n",
       "      <td>3</td>\n",
       "      <td>0050 Yuanta Taiwan Top50</td>\n",
       "      <td>2015/1/8</td>\n",
       "      <td>65.5</td>\n",
       "      <td>66.6</td>\n",
       "      <td>65.5</td>\n",
       "      <td>66.5</td>\n",
       "      <td>13,153</td>\n",
       "      <td>871,151</td>\n",
       "      <td>66.2295</td>\n",
       "      <td>65.96</td>\n",
       "      <td>...</td>\n",
       "      <td>75,444</td>\n",
       "      <td>NaN</td>\n",
       "      <td>NaN</td>\n",
       "      <td>NaN</td>\n",
       "      <td>2.33</td>\n",
       "      <td>1.50</td>\n",
       "      <td>1.6923</td>\n",
       "      <td>TSE</td>\n",
       "      <td>NaN</td>\n",
       "      <td>NaN</td>\n",
       "    </tr>\n",
       "    <tr>\n",
       "      <td>4</td>\n",
       "      <td>0050 Yuanta Taiwan Top50</td>\n",
       "      <td>2015/1/9</td>\n",
       "      <td>66.9</td>\n",
       "      <td>66.95</td>\n",
       "      <td>66.05</td>\n",
       "      <td>66.15</td>\n",
       "      <td>5,891</td>\n",
       "      <td>391,342</td>\n",
       "      <td>66.4195</td>\n",
       "      <td>65.82</td>\n",
       "      <td>...</td>\n",
       "      <td>75,047</td>\n",
       "      <td>NaN</td>\n",
       "      <td>NaN</td>\n",
       "      <td>NaN</td>\n",
       "      <td>2.34</td>\n",
       "      <td>-0.35</td>\n",
       "      <td>1.3534</td>\n",
       "      <td>TSE</td>\n",
       "      <td>NaN</td>\n",
       "      <td>NaN</td>\n",
       "    </tr>\n",
       "  </tbody>\n",
       "</table>\n",
       "<p>5 rows × 27 columns</p>\n",
       "</div>"
      ],
      "text/plain": [
       "                      CO_ID      Date Open(NTD) High(NTD) Low(NTD) Close(NTD)  \\\n",
       "0  0050 Yuanta Taiwan Top50  2015/1/5      66.4     66.75       66      66.55   \n",
       "1  0050 Yuanta Taiwan Top50  2015/1/6     65.75     65.75    64.75       64.9   \n",
       "2  0050 Yuanta Taiwan Top50  2015/1/7      64.7     65.25     64.7         65   \n",
       "3  0050 Yuanta Taiwan Top50  2015/1/8      65.5      66.6     65.5       66.5   \n",
       "4  0050 Yuanta Taiwan Top50  2015/1/9      66.9     66.95    66.05      66.15   \n",
       "\n",
       "  Volume(1000S) Amount(NTD1000) AVG CLOSE AVG CLOSE 5D  ...  \\\n",
       "0         6,295         417,637   66.3379        66.81  ...   \n",
       "1        19,501       1,272,547   65.2527        66.47  ...   \n",
       "2         6,991         454,539   65.0127        66.03  ...   \n",
       "3        13,153         871,151   66.2295        65.96  ...   \n",
       "4         5,891         391,342   66.4195        65.82  ...   \n",
       "\n",
       "  Market Cap.(NTD MN) P/E-TEJ P/B-TEJ Dividend_Yield% Cash_Dividend%  \\\n",
       "0              75,567     NaN     NaN             NaN           2.33   \n",
       "1              73,693     NaN     NaN             NaN           2.39   \n",
       "2              73,742     NaN     NaN             NaN           2.38   \n",
       "3              75,444     NaN     NaN             NaN           2.33   \n",
       "4              75,047     NaN     NaN             NaN           2.34   \n",
       "\n",
       "   Price_Change(NTD) High minus Low % Market  Capital  No.of Employee  \n",
       "0              -0.30           1.1219    TSE      NaN             NaN  \n",
       "1              -1.65           1.5026    TSE      NaN             NaN  \n",
       "2               0.10           0.8475    TSE      NaN             NaN  \n",
       "3               1.50           1.6923    TSE      NaN             NaN  \n",
       "4              -0.35           1.3534    TSE      NaN             NaN  \n",
       "\n",
       "[5 rows x 27 columns]"
      ]
     },
     "execution_count": 3,
     "metadata": {},
     "output_type": "execute_result"
    }
   ],
   "source": [
    "stock_data.head()"
   ]
  },
  {
   "cell_type": "code",
   "execution_count": 4,
   "metadata": {},
   "outputs": [
    {
     "name": "stdout",
     "output_type": "stream",
     "text": [
      "is_any_null  True\n"
     ]
    }
   ],
   "source": [
    "print(\"is_any_null \", stock_data.isnull().values.any())"
   ]
  },
  {
   "cell_type": "markdown",
   "metadata": {},
   "source": [
    "#### data preprocess for dropping column with lots of NaN or replacing NaN with mean"
   ]
  },
  {
   "cell_type": "code",
   "execution_count": 5,
   "metadata": {},
   "outputs": [],
   "source": [
    "stock_data = stock_data.dropna(thresh=len(stock_data.index) * 0.8, axis=1)\n",
    "stock_data = stock_data.fillna(stock_data.mean())"
   ]
  },
  {
   "cell_type": "code",
   "execution_count": 6,
   "metadata": {},
   "outputs": [
    {
     "data": {
      "text/html": [
       "<div>\n",
       "<style scoped>\n",
       "    .dataframe tbody tr th:only-of-type {\n",
       "        vertical-align: middle;\n",
       "    }\n",
       "\n",
       "    .dataframe tbody tr th {\n",
       "        vertical-align: top;\n",
       "    }\n",
       "\n",
       "    .dataframe thead th {\n",
       "        text-align: right;\n",
       "    }\n",
       "</style>\n",
       "<table border=\"1\" class=\"dataframe\">\n",
       "  <thead>\n",
       "    <tr style=\"text-align: right;\">\n",
       "      <th></th>\n",
       "      <th>CO_ID</th>\n",
       "      <th>Date</th>\n",
       "      <th>Open(NTD)</th>\n",
       "      <th>High(NTD)</th>\n",
       "      <th>Low(NTD)</th>\n",
       "      <th>Close(NTD)</th>\n",
       "      <th>Volume(1000S)</th>\n",
       "      <th>Amount(NTD1000)</th>\n",
       "      <th>AVG CLOSE</th>\n",
       "      <th>AVG CLOSE 5D</th>\n",
       "      <th>...</th>\n",
       "      <th>Market Cap.(NTD MN)</th>\n",
       "      <th>P/E-TEJ</th>\n",
       "      <th>P/B-TEJ</th>\n",
       "      <th>Dividend_Yield%</th>\n",
       "      <th>Cash_Dividend%</th>\n",
       "      <th>Price_Change(NTD)</th>\n",
       "      <th>High minus Low %</th>\n",
       "      <th>Market</th>\n",
       "      <th>Capital</th>\n",
       "      <th>No.of Employee</th>\n",
       "    </tr>\n",
       "  </thead>\n",
       "  <tbody>\n",
       "    <tr>\n",
       "      <td>0</td>\n",
       "      <td>0050 Yuanta Taiwan Top50</td>\n",
       "      <td>2015/1/5</td>\n",
       "      <td>66.4</td>\n",
       "      <td>66.75</td>\n",
       "      <td>66</td>\n",
       "      <td>66.55</td>\n",
       "      <td>6,295</td>\n",
       "      <td>417,637</td>\n",
       "      <td>66.3379</td>\n",
       "      <td>66.81</td>\n",
       "      <td>...</td>\n",
       "      <td>75,567</td>\n",
       "      <td>15.044964</td>\n",
       "      <td>2.296988</td>\n",
       "      <td>4.227955</td>\n",
       "      <td>2.33</td>\n",
       "      <td>-0.30</td>\n",
       "      <td>1.1219</td>\n",
       "      <td>TSE</td>\n",
       "      <td>NaN</td>\n",
       "      <td>NaN</td>\n",
       "    </tr>\n",
       "    <tr>\n",
       "      <td>1</td>\n",
       "      <td>0050 Yuanta Taiwan Top50</td>\n",
       "      <td>2015/1/6</td>\n",
       "      <td>65.75</td>\n",
       "      <td>65.75</td>\n",
       "      <td>64.75</td>\n",
       "      <td>64.9</td>\n",
       "      <td>19,501</td>\n",
       "      <td>1,272,547</td>\n",
       "      <td>65.2527</td>\n",
       "      <td>66.47</td>\n",
       "      <td>...</td>\n",
       "      <td>73,693</td>\n",
       "      <td>15.044964</td>\n",
       "      <td>2.296988</td>\n",
       "      <td>4.227955</td>\n",
       "      <td>2.39</td>\n",
       "      <td>-1.65</td>\n",
       "      <td>1.5026</td>\n",
       "      <td>TSE</td>\n",
       "      <td>NaN</td>\n",
       "      <td>NaN</td>\n",
       "    </tr>\n",
       "    <tr>\n",
       "      <td>2</td>\n",
       "      <td>0050 Yuanta Taiwan Top50</td>\n",
       "      <td>2015/1/7</td>\n",
       "      <td>64.7</td>\n",
       "      <td>65.25</td>\n",
       "      <td>64.7</td>\n",
       "      <td>65</td>\n",
       "      <td>6,991</td>\n",
       "      <td>454,539</td>\n",
       "      <td>65.0127</td>\n",
       "      <td>66.03</td>\n",
       "      <td>...</td>\n",
       "      <td>73,742</td>\n",
       "      <td>15.044964</td>\n",
       "      <td>2.296988</td>\n",
       "      <td>4.227955</td>\n",
       "      <td>2.38</td>\n",
       "      <td>0.10</td>\n",
       "      <td>0.8475</td>\n",
       "      <td>TSE</td>\n",
       "      <td>NaN</td>\n",
       "      <td>NaN</td>\n",
       "    </tr>\n",
       "    <tr>\n",
       "      <td>3</td>\n",
       "      <td>0050 Yuanta Taiwan Top50</td>\n",
       "      <td>2015/1/8</td>\n",
       "      <td>65.5</td>\n",
       "      <td>66.6</td>\n",
       "      <td>65.5</td>\n",
       "      <td>66.5</td>\n",
       "      <td>13,153</td>\n",
       "      <td>871,151</td>\n",
       "      <td>66.2295</td>\n",
       "      <td>65.96</td>\n",
       "      <td>...</td>\n",
       "      <td>75,444</td>\n",
       "      <td>15.044964</td>\n",
       "      <td>2.296988</td>\n",
       "      <td>4.227955</td>\n",
       "      <td>2.33</td>\n",
       "      <td>1.50</td>\n",
       "      <td>1.6923</td>\n",
       "      <td>TSE</td>\n",
       "      <td>NaN</td>\n",
       "      <td>NaN</td>\n",
       "    </tr>\n",
       "    <tr>\n",
       "      <td>4</td>\n",
       "      <td>0050 Yuanta Taiwan Top50</td>\n",
       "      <td>2015/1/9</td>\n",
       "      <td>66.9</td>\n",
       "      <td>66.95</td>\n",
       "      <td>66.05</td>\n",
       "      <td>66.15</td>\n",
       "      <td>5,891</td>\n",
       "      <td>391,342</td>\n",
       "      <td>66.4195</td>\n",
       "      <td>65.82</td>\n",
       "      <td>...</td>\n",
       "      <td>75,047</td>\n",
       "      <td>15.044964</td>\n",
       "      <td>2.296988</td>\n",
       "      <td>4.227955</td>\n",
       "      <td>2.34</td>\n",
       "      <td>-0.35</td>\n",
       "      <td>1.3534</td>\n",
       "      <td>TSE</td>\n",
       "      <td>NaN</td>\n",
       "      <td>NaN</td>\n",
       "    </tr>\n",
       "  </tbody>\n",
       "</table>\n",
       "<p>5 rows × 27 columns</p>\n",
       "</div>"
      ],
      "text/plain": [
       "                      CO_ID      Date Open(NTD) High(NTD) Low(NTD) Close(NTD)  \\\n",
       "0  0050 Yuanta Taiwan Top50  2015/1/5      66.4     66.75       66      66.55   \n",
       "1  0050 Yuanta Taiwan Top50  2015/1/6     65.75     65.75    64.75       64.9   \n",
       "2  0050 Yuanta Taiwan Top50  2015/1/7      64.7     65.25     64.7         65   \n",
       "3  0050 Yuanta Taiwan Top50  2015/1/8      65.5      66.6     65.5       66.5   \n",
       "4  0050 Yuanta Taiwan Top50  2015/1/9      66.9     66.95    66.05      66.15   \n",
       "\n",
       "  Volume(1000S) Amount(NTD1000) AVG CLOSE AVG CLOSE 5D  ...  \\\n",
       "0         6,295         417,637   66.3379        66.81  ...   \n",
       "1        19,501       1,272,547   65.2527        66.47  ...   \n",
       "2         6,991         454,539   65.0127        66.03  ...   \n",
       "3        13,153         871,151   66.2295        65.96  ...   \n",
       "4         5,891         391,342   66.4195        65.82  ...   \n",
       "\n",
       "  Market Cap.(NTD MN)    P/E-TEJ   P/B-TEJ Dividend_Yield% Cash_Dividend%  \\\n",
       "0              75,567  15.044964  2.296988        4.227955           2.33   \n",
       "1              73,693  15.044964  2.296988        4.227955           2.39   \n",
       "2              73,742  15.044964  2.296988        4.227955           2.38   \n",
       "3              75,444  15.044964  2.296988        4.227955           2.33   \n",
       "4              75,047  15.044964  2.296988        4.227955           2.34   \n",
       "\n",
       "   Price_Change(NTD) High minus Low % Market  Capital  No.of Employee  \n",
       "0              -0.30           1.1219    TSE      NaN             NaN  \n",
       "1              -1.65           1.5026    TSE      NaN             NaN  \n",
       "2               0.10           0.8475    TSE      NaN             NaN  \n",
       "3               1.50           1.6923    TSE      NaN             NaN  \n",
       "4              -0.35           1.3534    TSE      NaN             NaN  \n",
       "\n",
       "[5 rows x 27 columns]"
      ]
     },
     "execution_count": 6,
     "metadata": {},
     "output_type": "execute_result"
    }
   ],
   "source": [
    "stock_data.head()"
   ]
  },
  {
   "cell_type": "code",
   "execution_count": 7,
   "metadata": {},
   "outputs": [
    {
     "data": {
      "text/html": [
       "<div>\n",
       "<style scoped>\n",
       "    .dataframe tbody tr th:only-of-type {\n",
       "        vertical-align: middle;\n",
       "    }\n",
       "\n",
       "    .dataframe tbody tr th {\n",
       "        vertical-align: top;\n",
       "    }\n",
       "\n",
       "    .dataframe thead th {\n",
       "        text-align: right;\n",
       "    }\n",
       "</style>\n",
       "<table border=\"1\" class=\"dataframe\">\n",
       "  <thead>\n",
       "    <tr style=\"text-align: right;\">\n",
       "      <th></th>\n",
       "      <th>CO_ID</th>\n",
       "      <th>Date</th>\n",
       "      <th>Open(NTD)</th>\n",
       "      <th>High(NTD)</th>\n",
       "      <th>Low(NTD)</th>\n",
       "      <th>Close(NTD)</th>\n",
       "      <th>Volume(1000S)</th>\n",
       "      <th>Amount(NTD1000)</th>\n",
       "      <th>AVG CLOSE</th>\n",
       "      <th>AVG CLOSE 5D</th>\n",
       "      <th>...</th>\n",
       "      <th>Market Cap.(NTD MN)</th>\n",
       "      <th>P/E-TEJ</th>\n",
       "      <th>P/B-TEJ</th>\n",
       "      <th>Dividend_Yield%</th>\n",
       "      <th>Cash_Dividend%</th>\n",
       "      <th>Price_Change(NTD)</th>\n",
       "      <th>High minus Low %</th>\n",
       "      <th>Market</th>\n",
       "      <th>Capital</th>\n",
       "      <th>No.of Employee</th>\n",
       "    </tr>\n",
       "  </thead>\n",
       "  <tbody>\n",
       "    <tr>\n",
       "      <td>14015</td>\n",
       "      <td>2885 Yuanta Group</td>\n",
       "      <td>2020/9/21</td>\n",
       "      <td>18.2</td>\n",
       "      <td>18.25</td>\n",
       "      <td>18</td>\n",
       "      <td>18</td>\n",
       "      <td>26,320</td>\n",
       "      <td>476,759</td>\n",
       "      <td>18.1137</td>\n",
       "      <td>18.24</td>\n",
       "      <td>...</td>\n",
       "      <td>218,473</td>\n",
       "      <td>11.4330</td>\n",
       "      <td>0.9541</td>\n",
       "      <td>5.83</td>\n",
       "      <td>3.4722</td>\n",
       "      <td>-0.30</td>\n",
       "      <td>1.3661</td>\n",
       "      <td>TSE</td>\n",
       "      <td>121,374,359,140</td>\n",
       "      <td>14,223</td>\n",
       "    </tr>\n",
       "    <tr>\n",
       "      <td>14016</td>\n",
       "      <td>2885 Yuanta Group</td>\n",
       "      <td>2020/9/22</td>\n",
       "      <td>17.95</td>\n",
       "      <td>18</td>\n",
       "      <td>17.7</td>\n",
       "      <td>17.75</td>\n",
       "      <td>30,579</td>\n",
       "      <td>544,932</td>\n",
       "      <td>17.8202</td>\n",
       "      <td>18.14</td>\n",
       "      <td>...</td>\n",
       "      <td>215,439</td>\n",
       "      <td>11.2742</td>\n",
       "      <td>0.9408</td>\n",
       "      <td>5.92</td>\n",
       "      <td>3.5211</td>\n",
       "      <td>-0.25</td>\n",
       "      <td>1.6667</td>\n",
       "      <td>TSE</td>\n",
       "      <td>121,374,359,140</td>\n",
       "      <td>14,223</td>\n",
       "    </tr>\n",
       "    <tr>\n",
       "      <td>14017</td>\n",
       "      <td>2885 Yuanta Group</td>\n",
       "      <td>2020/9/23</td>\n",
       "      <td>17.75</td>\n",
       "      <td>17.85</td>\n",
       "      <td>17.65</td>\n",
       "      <td>17.7</td>\n",
       "      <td>19,604</td>\n",
       "      <td>347,381</td>\n",
       "      <td>17.7191</td>\n",
       "      <td>18.01</td>\n",
       "      <td>...</td>\n",
       "      <td>214,832</td>\n",
       "      <td>11.2425</td>\n",
       "      <td>0.9382</td>\n",
       "      <td>5.93</td>\n",
       "      <td>3.5311</td>\n",
       "      <td>-0.05</td>\n",
       "      <td>1.1268</td>\n",
       "      <td>TSE</td>\n",
       "      <td>121,374,359,140</td>\n",
       "      <td>14,223</td>\n",
       "    </tr>\n",
       "    <tr>\n",
       "      <td>14018</td>\n",
       "      <td>2885 Yuanta Group</td>\n",
       "      <td>2020/9/24</td>\n",
       "      <td>17.55</td>\n",
       "      <td>17.55</td>\n",
       "      <td>17.15</td>\n",
       "      <td>17.15</td>\n",
       "      <td>44,211</td>\n",
       "      <td>763,162</td>\n",
       "      <td>17.2618</td>\n",
       "      <td>17.78</td>\n",
       "      <td>...</td>\n",
       "      <td>208,157</td>\n",
       "      <td>10.8931</td>\n",
       "      <td>0.9090</td>\n",
       "      <td>6.12</td>\n",
       "      <td>3.6443</td>\n",
       "      <td>-0.55</td>\n",
       "      <td>2.2599</td>\n",
       "      <td>TSE</td>\n",
       "      <td>121,374,359,140</td>\n",
       "      <td>14,223</td>\n",
       "    </tr>\n",
       "    <tr>\n",
       "      <td>14019</td>\n",
       "      <td>2885 Yuanta Group</td>\n",
       "      <td>2020/9/25</td>\n",
       "      <td>17.25</td>\n",
       "      <td>17.6</td>\n",
       "      <td>17.2</td>\n",
       "      <td>17.3</td>\n",
       "      <td>26,052</td>\n",
       "      <td>451,970</td>\n",
       "      <td>17.3485</td>\n",
       "      <td>17.58</td>\n",
       "      <td>...</td>\n",
       "      <td>209,977</td>\n",
       "      <td>10.9884</td>\n",
       "      <td>0.9170</td>\n",
       "      <td>6.07</td>\n",
       "      <td>3.6127</td>\n",
       "      <td>0.15</td>\n",
       "      <td>2.3324</td>\n",
       "      <td>TSE</td>\n",
       "      <td>121,374,359,140</td>\n",
       "      <td>14,223</td>\n",
       "    </tr>\n",
       "  </tbody>\n",
       "</table>\n",
       "<p>5 rows × 27 columns</p>\n",
       "</div>"
      ],
      "text/plain": [
       "                   CO_ID       Date Open(NTD) High(NTD) Low(NTD) Close(NTD)  \\\n",
       "14015  2885 Yuanta Group  2020/9/21      18.2     18.25       18         18   \n",
       "14016  2885 Yuanta Group  2020/9/22     17.95        18     17.7      17.75   \n",
       "14017  2885 Yuanta Group  2020/9/23     17.75     17.85    17.65       17.7   \n",
       "14018  2885 Yuanta Group  2020/9/24     17.55     17.55    17.15      17.15   \n",
       "14019  2885 Yuanta Group  2020/9/25     17.25      17.6     17.2       17.3   \n",
       "\n",
       "      Volume(1000S) Amount(NTD1000) AVG CLOSE AVG CLOSE 5D  ...  \\\n",
       "14015        26,320         476,759   18.1137        18.24  ...   \n",
       "14016        30,579         544,932   17.8202        18.14  ...   \n",
       "14017        19,604         347,381   17.7191        18.01  ...   \n",
       "14018        44,211         763,162   17.2618        17.78  ...   \n",
       "14019        26,052         451,970   17.3485        17.58  ...   \n",
       "\n",
       "      Market Cap.(NTD MN)  P/E-TEJ P/B-TEJ Dividend_Yield% Cash_Dividend%  \\\n",
       "14015             218,473  11.4330  0.9541            5.83         3.4722   \n",
       "14016             215,439  11.2742  0.9408            5.92         3.5211   \n",
       "14017             214,832  11.2425  0.9382            5.93         3.5311   \n",
       "14018             208,157  10.8931  0.9090            6.12         3.6443   \n",
       "14019             209,977  10.9884  0.9170            6.07         3.6127   \n",
       "\n",
       "       Price_Change(NTD) High minus Low % Market          Capital  \\\n",
       "14015              -0.30           1.3661    TSE  121,374,359,140   \n",
       "14016              -0.25           1.6667    TSE  121,374,359,140   \n",
       "14017              -0.05           1.1268    TSE  121,374,359,140   \n",
       "14018              -0.55           2.2599    TSE  121,374,359,140   \n",
       "14019               0.15           2.3324    TSE  121,374,359,140   \n",
       "\n",
       "       No.of Employee  \n",
       "14015          14,223  \n",
       "14016          14,223  \n",
       "14017          14,223  \n",
       "14018          14,223  \n",
       "14019          14,223  \n",
       "\n",
       "[5 rows x 27 columns]"
      ]
     },
     "execution_count": 7,
     "metadata": {},
     "output_type": "execute_result"
    }
   ],
   "source": [
    "stock_data.tail()"
   ]
  },
  {
   "cell_type": "code",
   "execution_count": 8,
   "metadata": {},
   "outputs": [
    {
     "name": "stdout",
     "output_type": "stream",
     "text": [
      "<class 'pandas.core.frame.DataFrame'>\n",
      "RangeIndex: 14020 entries, 0 to 14019\n",
      "Data columns (total 27 columns):\n",
      "CO_ID                  14020 non-null object\n",
      "Date                   14020 non-null object\n",
      "Open(NTD)              14020 non-null object\n",
      "High(NTD)              14020 non-null object\n",
      "Low(NTD)               14020 non-null object\n",
      "Close(NTD)             14020 non-null object\n",
      "Volume(1000S)          14020 non-null object\n",
      "Amount(NTD1000)        14020 non-null object\n",
      "AVG CLOSE              14012 non-null object\n",
      "AVG CLOSE 5D           14020 non-null object\n",
      "AVG CLOSE 10D          14020 non-null object\n",
      "AVG CLOSE 20D          14020 non-null object\n",
      "AVG Vol 5D             14020 non-null object\n",
      "AVG Vol 10D            14020 non-null object\n",
      "AVG Vol 20D            14020 non-null object\n",
      "ROI%                   14020 non-null float64\n",
      "Shares(1000S)          14020 non-null object\n",
      "Market Cap.(NTD MN)    14020 non-null object\n",
      "P/E-TEJ                14020 non-null float64\n",
      "P/B-TEJ                14020 non-null float64\n",
      "Dividend_Yield%        14020 non-null float64\n",
      "Cash_Dividend%         14020 non-null float64\n",
      "Price_Change(NTD)      14020 non-null float64\n",
      "High minus Low %       14020 non-null float64\n",
      "Market                 14020 non-null object\n",
      "Capital                11216 non-null object\n",
      "No.of Employee         11216 non-null object\n",
      "dtypes: float64(7), object(20)\n",
      "memory usage: 2.9+ MB\n"
     ]
    }
   ],
   "source": [
    "stock_data.info()"
   ]
  },
  {
   "cell_type": "code",
   "execution_count": 9,
   "metadata": {},
   "outputs": [
    {
     "data": {
      "text/html": [
       "<div>\n",
       "<style scoped>\n",
       "    .dataframe tbody tr th:only-of-type {\n",
       "        vertical-align: middle;\n",
       "    }\n",
       "\n",
       "    .dataframe tbody tr th {\n",
       "        vertical-align: top;\n",
       "    }\n",
       "\n",
       "    .dataframe thead th {\n",
       "        text-align: right;\n",
       "    }\n",
       "</style>\n",
       "<table border=\"1\" class=\"dataframe\">\n",
       "  <thead>\n",
       "    <tr style=\"text-align: right;\">\n",
       "      <th></th>\n",
       "      <th>ROI%</th>\n",
       "      <th>P/E-TEJ</th>\n",
       "      <th>P/B-TEJ</th>\n",
       "      <th>Dividend_Yield%</th>\n",
       "      <th>Cash_Dividend%</th>\n",
       "      <th>Price_Change(NTD)</th>\n",
       "      <th>High minus Low %</th>\n",
       "    </tr>\n",
       "  </thead>\n",
       "  <tbody>\n",
       "    <tr>\n",
       "      <td>count</td>\n",
       "      <td>14020.000000</td>\n",
       "      <td>14020.000000</td>\n",
       "      <td>14020.000000</td>\n",
       "      <td>14020.000000</td>\n",
       "      <td>14020.000000</td>\n",
       "      <td>14020.000000</td>\n",
       "      <td>14020.000000</td>\n",
       "    </tr>\n",
       "    <tr>\n",
       "      <td>mean</td>\n",
       "      <td>0.046360</td>\n",
       "      <td>15.044964</td>\n",
       "      <td>2.296988</td>\n",
       "      <td>4.227955</td>\n",
       "      <td>3.663234</td>\n",
       "      <td>0.139675</td>\n",
       "      <td>1.391597</td>\n",
       "    </tr>\n",
       "    <tr>\n",
       "      <td>std</td>\n",
       "      <td>1.617399</td>\n",
       "      <td>6.357659</td>\n",
       "      <td>1.845026</td>\n",
       "      <td>1.513258</td>\n",
       "      <td>1.391331</td>\n",
       "      <td>32.966458</td>\n",
       "      <td>1.234087</td>\n",
       "    </tr>\n",
       "    <tr>\n",
       "      <td>min</td>\n",
       "      <td>-10.000000</td>\n",
       "      <td>5.530000</td>\n",
       "      <td>0.590000</td>\n",
       "      <td>0.890000</td>\n",
       "      <td>0.000000</td>\n",
       "      <td>-465.000000</td>\n",
       "      <td>0.000000</td>\n",
       "    </tr>\n",
       "    <tr>\n",
       "      <td>25%</td>\n",
       "      <td>-0.662300</td>\n",
       "      <td>10.760000</td>\n",
       "      <td>1.110000</td>\n",
       "      <td>3.320000</td>\n",
       "      <td>2.654900</td>\n",
       "      <td>-0.350000</td>\n",
       "      <td>0.659900</td>\n",
       "    </tr>\n",
       "    <tr>\n",
       "      <td>50%</td>\n",
       "      <td>0.000000</td>\n",
       "      <td>14.820000</td>\n",
       "      <td>1.660000</td>\n",
       "      <td>4.227955</td>\n",
       "      <td>3.590000</td>\n",
       "      <td>0.000000</td>\n",
       "      <td>1.183400</td>\n",
       "    </tr>\n",
       "    <tr>\n",
       "      <td>75%</td>\n",
       "      <td>0.732825</td>\n",
       "      <td>16.240000</td>\n",
       "      <td>2.296988</td>\n",
       "      <td>5.020000</td>\n",
       "      <td>4.540000</td>\n",
       "      <td>0.400000</td>\n",
       "      <td>1.800150</td>\n",
       "    </tr>\n",
       "    <tr>\n",
       "      <td>max</td>\n",
       "      <td>10.000000</td>\n",
       "      <td>47.550000</td>\n",
       "      <td>12.200000</td>\n",
       "      <td>11.000000</td>\n",
       "      <td>11.000000</td>\n",
       "      <td>390.000000</td>\n",
       "      <td>12.797600</td>\n",
       "    </tr>\n",
       "  </tbody>\n",
       "</table>\n",
       "</div>"
      ],
      "text/plain": [
       "               ROI%       P/E-TEJ       P/B-TEJ  Dividend_Yield%  \\\n",
       "count  14020.000000  14020.000000  14020.000000     14020.000000   \n",
       "mean       0.046360     15.044964      2.296988         4.227955   \n",
       "std        1.617399      6.357659      1.845026         1.513258   \n",
       "min      -10.000000      5.530000      0.590000         0.890000   \n",
       "25%       -0.662300     10.760000      1.110000         3.320000   \n",
       "50%        0.000000     14.820000      1.660000         4.227955   \n",
       "75%        0.732825     16.240000      2.296988         5.020000   \n",
       "max       10.000000     47.550000     12.200000        11.000000   \n",
       "\n",
       "       Cash_Dividend%  Price_Change(NTD)  High minus Low %  \n",
       "count    14020.000000       14020.000000      14020.000000  \n",
       "mean         3.663234           0.139675          1.391597  \n",
       "std          1.391331          32.966458          1.234087  \n",
       "min          0.000000        -465.000000          0.000000  \n",
       "25%          2.654900          -0.350000          0.659900  \n",
       "50%          3.590000           0.000000          1.183400  \n",
       "75%          4.540000           0.400000          1.800150  \n",
       "max         11.000000         390.000000         12.797600  "
      ]
     },
     "execution_count": 9,
     "metadata": {},
     "output_type": "execute_result"
    }
   ],
   "source": [
    "stock_data.describe()"
   ]
  },
  {
   "cell_type": "code",
   "execution_count": 10,
   "metadata": {},
   "outputs": [
    {
     "name": "stdout",
     "output_type": "stream",
     "text": [
      "CO_ID                     10\n",
      "Date                    1402\n",
      "Open(NTD)               3224\n",
      "High(NTD)               3246\n",
      "Low(NTD)                3280\n",
      "Close(NTD)              3289\n",
      "Volume(1000S)          11507\n",
      "Amount(NTD1000)        13970\n",
      "AVG CLOSE              13927\n",
      "AVG CLOSE 5D            7686\n",
      "AVG CLOSE 10D           9088\n",
      "AVG CLOSE 20D           9956\n",
      "AVG Vol 5D             13999\n",
      "AVG Vol 10D            13997\n",
      "AVG Vol 20D            14002\n",
      "ROI%                    8062\n",
      "Shares(1000S)           1198\n",
      "Market Cap.(NTD MN)     6911\n",
      "P/E-TEJ                 3977\n",
      "P/B-TEJ                 2794\n",
      "Dividend_Yield%          787\n",
      "Cash_Dividend%          3323\n",
      "Price_Change(NTD)        476\n",
      "High minus Low %        6099\n",
      "Market                     1\n",
      "Capital                    8\n",
      "No.of Employee             8\n",
      "dtype: int64\n"
     ]
    }
   ],
   "source": [
    "print(stock_data.nunique())"
   ]
  },
  {
   "cell_type": "code",
   "execution_count": 11,
   "metadata": {},
   "outputs": [
    {
     "name": "stdout",
     "output_type": "stream",
     "text": [
      "stock_data_continuous_variables:  ['Cash_Dividend%', 'P/E-TEJ', 'High minus Low %', 'ROI%', 'P/B-TEJ', 'Dividend_Yield%', 'Price_Change(NTD)']\n",
      "stock_data_categorical_variables: ['CO_ID', 'AVG Vol 5D', 'AVG CLOSE', 'Open(NTD)', 'Volume(1000S)', 'AVG Vol 20D', 'AVG CLOSE 10D', 'Capital', 'Low(NTD)', 'Market', 'Market Cap.(NTD MN)', 'Date', 'AVG CLOSE 20D', 'AVG CLOSE 5D', 'High(NTD)', 'Shares(1000S)', 'No.of Employee', 'AVG Vol 10D', 'Amount(NTD1000)', 'Close(NTD)']\n"
     ]
    }
   ],
   "source": [
    "stock_data_cols = stock_data.columns\n",
    "stock_data_cols_set = set(stock_data_cols)\n",
    "stock_data_cols_list = list(stock_data_cols_set)\n",
    "stock_data_continuous_variables_cols = stock_data._get_numeric_data().columns\n",
    "stock_data_continuous_variables_cols_set = set(stock_data_continuous_variables_cols)\n",
    "stock_data_continuous_variables_cols_list = list(stock_data_continuous_variables_cols_set)\n",
    "print(\"stock_data_continuous_variables: \", stock_data_continuous_variables_cols_list)\n",
    "stock_data_categorical_variables_cols_set = stock_data_cols_set - stock_data_continuous_variables_cols_set\n",
    "stock_data_categorical_variables_cols_list = list(stock_data_categorical_variables_cols_set)\n",
    "print(\"stock_data_categorical_variables:\", stock_data_categorical_variables_cols_list)"
   ]
  },
  {
   "cell_type": "markdown",
   "metadata": {},
   "source": [
    "#### frequency tables"
   ]
  },
  {
   "cell_type": "code",
   "execution_count": 12,
   "metadata": {},
   "outputs": [
    {
     "name": "stdout",
     "output_type": "stream",
     "text": [
      "categorical variable: CO_ID\n",
      "2317 Hon Hai Precision      1402\n",
      "3008 Largan                 1402\n",
      "0050 Yuanta Taiwan Top50    1402\n",
      "0056 PTD                    1402\n",
      "2885 Yuanta Group           1402\n",
      "2330 TSMC                   1402\n",
      "2454 MediaTek               1402\n",
      "2882 Cathay Holdings        1402\n",
      "2881 Fubon FHC              1402\n",
      "2884 E.S.F.H                1402\n",
      "Name: CO_ID, dtype: int64\n",
      "\n",
      "categorical variable: AVG Vol 5D\n",
      "3,353.52     2\n",
      "2,351.09     2\n",
      "8,149.17     2\n",
      "12,761.60    2\n",
      "463.24       2\n",
      "            ..\n",
      "27,065.85    1\n",
      "31,751.59    1\n",
      "640.952      1\n",
      "654.338      1\n",
      "36,969.93    1\n",
      "Name: AVG Vol 5D, Length: 13999, dtype: int64\n",
      "\n",
      "categorical variable: AVG CLOSE\n",
      "45.1193     2\n",
      "11.2927     2\n",
      "17.2171     2\n",
      "25.1519     2\n",
      "249.235     2\n",
      "           ..\n",
      "20.2573     1\n",
      "18.9903     1\n",
      "184.4342    1\n",
      "26.6368     1\n",
      "49.3471     1\n",
      "Name: AVG CLOSE, Length: 13927, dtype: int64\n",
      "\n",
      "categorical variable: Open(NTD)\n",
      "18.4     42\n",
      "18.3     41\n",
      "18.25    39\n",
      "18.5     34\n",
      "13       32\n",
      "         ..\n",
      "3,240     1\n",
      "26.81     1\n",
      "342       1\n",
      "93.1      1\n",
      "4,960     1\n",
      "Name: Open(NTD), Length: 3224, dtype: int64\n",
      "\n",
      "categorical variable: Volume(1000S)\n",
      "0         8\n",
      "513       8\n",
      "773       7\n",
      "713       7\n",
      "700       7\n",
      "         ..\n",
      "31,620    1\n",
      "18,094    1\n",
      "28,129    1\n",
      "11,946    1\n",
      "13,247    1\n",
      "Name: Volume(1000S), Length: 11507, dtype: int64\n",
      "\n",
      "categorical variable: AVG Vol 20D\n",
      "1,040.58     2\n",
      "832.916      2\n",
      "503.815      2\n",
      "16,501.42    2\n",
      "10,883.96    2\n",
      "            ..\n",
      "48,937.39    1\n",
      "1,523.61     1\n",
      "21,649.61    1\n",
      "26,321.93    1\n",
      "14,891.47    1\n",
      "Name: AVG Vol 20D, Length: 14002, dtype: int64\n",
      "\n",
      "categorical variable: AVG CLOSE 10D\n",
      "25.03     11\n",
      "25.08     11\n",
      "13.11     11\n",
      "12.93     10\n",
      "19.87      9\n",
      "          ..\n",
      "12.62      1\n",
      "3,652      1\n",
      "28.735     1\n",
      "24.196     1\n",
      "88.78      1\n",
      "Name: AVG CLOSE 10D, Length: 9088, dtype: int64\n",
      "\n",
      "categorical variable: Capital\n",
      "147,025,101,280    1402\n",
      "259,303,804,580    1402\n",
      "138,629,906,090    1402\n",
      "125,671,000,000    1402\n",
      "115,002,639,950    1402\n",
      "15,897,347,730     1402\n",
      "121,374,359,140    1402\n",
      "1,341,401,970      1402\n",
      "Name: Capital, dtype: int64\n",
      "\n",
      "categorical variable: Low(NTD)\n",
      "18.3      39\n",
      "18.2      37\n",
      "12.8      36\n",
      "18.25     35\n",
      "18.4      33\n",
      "          ..\n",
      "2,100      1\n",
      "3,215      1\n",
      "2,960      1\n",
      "102.55     1\n",
      "24.54      1\n",
      "Name: Low(NTD), Length: 3280, dtype: int64\n",
      "\n",
      "categorical variable: Market\n",
      "TSE    14020\n",
      "Name: Market, dtype: int64\n",
      "\n",
      "categorical variable: Market Cap.(NTD MN)\n",
      "155,982      26\n",
      "514,750      22\n",
      "154,782      21\n",
      "513,726      20\n",
      "521,913      20\n",
      "             ..\n",
      "295,087       1\n",
      "17,856        1\n",
      "17,153        1\n",
      "1,280,775     1\n",
      "186,468       1\n",
      "Name: Market Cap.(NTD MN), Length: 6911, dtype: int64\n",
      "\n",
      "categorical variable: Date\n",
      "2016/3/2      10\n",
      "2017/2/22     10\n",
      "2016/5/16     10\n",
      "2020/7/10     10\n",
      "2016/10/6     10\n",
      "              ..\n",
      "2017/8/1      10\n",
      "2015/9/24     10\n",
      "2016/12/21    10\n",
      "2020/4/16     10\n",
      "2015/9/18     10\n",
      "Name: Date, Length: 1402, dtype: int64\n",
      "\n",
      "categorical variable: AVG CLOSE 20D\n",
      "15.31       13\n",
      "12.85       11\n",
      "11.59       11\n",
      "13.02       10\n",
      "13.07       10\n",
      "            ..\n",
      "3,776.25     1\n",
      "4,780        1\n",
      "4,305.25     1\n",
      "234.43       1\n",
      "137.525      1\n",
      "Name: AVG CLOSE 20D, Length: 9956, dtype: int64\n",
      "\n",
      "categorical variable: AVG CLOSE 5D\n",
      "18.38    13\n",
      "18.27    13\n",
      "18.29    11\n",
      "19.52    10\n",
      "18.69    10\n",
      "         ..\n",
      "416.9     1\n",
      "21.63     1\n",
      "572       1\n",
      "2,101     1\n",
      "422.3     1\n",
      "Name: AVG CLOSE 5D, Length: 7686, dtype: int64\n",
      "\n",
      "categorical variable: High(NTD)\n",
      "18.3     41\n",
      "18.4     41\n",
      "18.7     40\n",
      "18.45    39\n",
      "51       34\n",
      "         ..\n",
      "202.5     1\n",
      "460.5     1\n",
      "5,990     1\n",
      "26.11     1\n",
      "4,960     1\n",
      "Name: High(NTD), Length: 3246, dtype: int64\n",
      "\n",
      "categorical variable: Shares(1000S)\n",
      "134,140       1402\n",
      "10,233,603    1402\n",
      "25,930,380    1328\n",
      "12,563,210    1166\n",
      "17,328,738     528\n",
      "              ... \n",
      "2,247,034        1\n",
      "410,034          1\n",
      "1,066,000        1\n",
      "1,513,500        1\n",
      "661,500          1\n",
      "Name: Shares(1000S), Length: 1198, dtype: int64\n",
      "\n",
      "categorical variable: No.of Employee\n",
      "9,239      1402\n",
      "757,404    1402\n",
      "51,297     1402\n",
      "44,465     1402\n",
      "56,474     1402\n",
      "17,449     1402\n",
      "7,719      1402\n",
      "14,223     1402\n",
      "Name: No.of Employee, dtype: int64\n",
      "\n",
      "categorical variable: AVG Vol 10D\n",
      "5,198.80     2\n",
      "14,439.43    2\n",
      "11,603.41    2\n",
      "4,388.99     2\n",
      "3,263.77     2\n",
      "            ..\n",
      "33,462.64    1\n",
      "11,990.91    1\n",
      "2,160.37     1\n",
      "8,915.59     1\n",
      "14,145.07    1\n",
      "Name: AVG Vol 10D, Length: 13997, dtype: int64\n",
      "\n",
      "categorical variable: Amount(NTD1000)\n",
      "0            8\n",
      "291,955      2\n",
      "546,394      2\n",
      "395,994      2\n",
      "371,598      2\n",
      "            ..\n",
      "1,432,788    1\n",
      "191,075      1\n",
      "4,146,288    1\n",
      "3,496,720    1\n",
      "307,884      1\n",
      "Name: Amount(NTD1000), Length: 13970, dtype: int64\n",
      "\n",
      "categorical variable: Close(NTD)\n",
      "18.3     45\n",
      "18.4     36\n",
      "13       34\n",
      "18.25    33\n",
      "18.7     32\n",
      "         ..\n",
      "25.21     1\n",
      "24.42     1\n",
      "77.75     1\n",
      "89.7      1\n",
      "416.5     1\n",
      "Name: Close(NTD), Length: 3289, dtype: int64\n",
      "\n"
     ]
    },
    {
     "data": {
      "text/plain": [
       "[None,\n",
       " None,\n",
       " None,\n",
       " None,\n",
       " None,\n",
       " None,\n",
       " None,\n",
       " None,\n",
       " None,\n",
       " None,\n",
       " None,\n",
       " None,\n",
       " None,\n",
       " None,\n",
       " None,\n",
       " None,\n",
       " None,\n",
       " None,\n",
       " None,\n",
       " None]"
      ]
     },
     "execution_count": 12,
     "metadata": {},
     "output_type": "execute_result"
    }
   ],
   "source": [
    "[print(f'categorical variable: {i}\\n{stock_data[i].value_counts()}\\n') for i in stock_data_categorical_variables_cols_list]"
   ]
  },
  {
   "cell_type": "markdown",
   "metadata": {},
   "source": [
    "#### relative frequency tables"
   ]
  },
  {
   "cell_type": "code",
   "execution_count": 13,
   "metadata": {},
   "outputs": [
    {
     "name": "stdout",
     "output_type": "stream",
     "text": [
      "categorical variable: CO_ID\n",
      "2317 Hon Hai Precision      0.1\n",
      "3008 Largan                 0.1\n",
      "0050 Yuanta Taiwan Top50    0.1\n",
      "0056 PTD                    0.1\n",
      "2885 Yuanta Group           0.1\n",
      "2330 TSMC                   0.1\n",
      "2454 MediaTek               0.1\n",
      "2882 Cathay Holdings        0.1\n",
      "2881 Fubon FHC              0.1\n",
      "2884 E.S.F.H                0.1\n",
      "Name: CO_ID, dtype: float64\n",
      "\n",
      "categorical variable: AVG Vol 5D\n",
      "3,353.52     0.000143\n",
      "2,351.09     0.000143\n",
      "8,149.17     0.000143\n",
      "12,761.60    0.000143\n",
      "463.24       0.000143\n",
      "               ...   \n",
      "27,065.85    0.000071\n",
      "31,751.59    0.000071\n",
      "640.952      0.000071\n",
      "654.338      0.000071\n",
      "36,969.93    0.000071\n",
      "Name: AVG Vol 5D, Length: 13999, dtype: float64\n",
      "\n",
      "categorical variable: AVG CLOSE\n",
      "45.1193     0.000143\n",
      "11.2927     0.000143\n",
      "17.2171     0.000143\n",
      "25.1519     0.000143\n",
      "249.235     0.000143\n",
      "              ...   \n",
      "20.2573     0.000071\n",
      "18.9903     0.000071\n",
      "184.4342    0.000071\n",
      "26.6368     0.000071\n",
      "49.3471     0.000071\n",
      "Name: AVG CLOSE, Length: 13927, dtype: float64\n",
      "\n",
      "categorical variable: Open(NTD)\n",
      "18.4     0.002996\n",
      "18.3     0.002924\n",
      "18.25    0.002782\n",
      "18.5     0.002425\n",
      "13       0.002282\n",
      "           ...   \n",
      "3,240    0.000071\n",
      "26.81    0.000071\n",
      "342      0.000071\n",
      "93.1     0.000071\n",
      "4,960    0.000071\n",
      "Name: Open(NTD), Length: 3224, dtype: float64\n",
      "\n",
      "categorical variable: Volume(1000S)\n",
      "0         0.000571\n",
      "513       0.000571\n",
      "773       0.000499\n",
      "713       0.000499\n",
      "700       0.000499\n",
      "            ...   \n",
      "31,620    0.000071\n",
      "18,094    0.000071\n",
      "28,129    0.000071\n",
      "11,946    0.000071\n",
      "13,247    0.000071\n",
      "Name: Volume(1000S), Length: 11507, dtype: float64\n",
      "\n",
      "categorical variable: AVG Vol 20D\n",
      "1,040.58     0.000143\n",
      "832.916      0.000143\n",
      "503.815      0.000143\n",
      "16,501.42    0.000143\n",
      "10,883.96    0.000143\n",
      "               ...   \n",
      "48,937.39    0.000071\n",
      "1,523.61     0.000071\n",
      "21,649.61    0.000071\n",
      "26,321.93    0.000071\n",
      "14,891.47    0.000071\n",
      "Name: AVG Vol 20D, Length: 14002, dtype: float64\n",
      "\n",
      "categorical variable: AVG CLOSE 10D\n",
      "25.03     0.000785\n",
      "25.08     0.000785\n",
      "13.11     0.000785\n",
      "12.93     0.000713\n",
      "19.87     0.000642\n",
      "            ...   \n",
      "12.62     0.000071\n",
      "3,652     0.000071\n",
      "28.735    0.000071\n",
      "24.196    0.000071\n",
      "88.78     0.000071\n",
      "Name: AVG CLOSE 10D, Length: 9088, dtype: float64\n",
      "\n",
      "categorical variable: Capital\n",
      "147,025,101,280    0.125\n",
      "259,303,804,580    0.125\n",
      "138,629,906,090    0.125\n",
      "125,671,000,000    0.125\n",
      "115,002,639,950    0.125\n",
      "15,897,347,730     0.125\n",
      "121,374,359,140    0.125\n",
      "1,341,401,970      0.125\n",
      "Name: Capital, dtype: float64\n",
      "\n",
      "categorical variable: Low(NTD)\n",
      "18.3      0.002782\n",
      "18.2      0.002639\n",
      "12.8      0.002568\n",
      "18.25     0.002496\n",
      "18.4      0.002354\n",
      "            ...   \n",
      "2,100     0.000071\n",
      "3,215     0.000071\n",
      "2,960     0.000071\n",
      "102.55    0.000071\n",
      "24.54     0.000071\n",
      "Name: Low(NTD), Length: 3280, dtype: float64\n",
      "\n",
      "categorical variable: Market\n",
      "TSE    1.0\n",
      "Name: Market, dtype: float64\n",
      "\n",
      "categorical variable: Market Cap.(NTD MN)\n",
      "155,982      0.001854\n",
      "514,750      0.001569\n",
      "154,782      0.001498\n",
      "513,726      0.001427\n",
      "521,913      0.001427\n",
      "               ...   \n",
      "295,087      0.000071\n",
      "17,856       0.000071\n",
      "17,153       0.000071\n",
      "1,280,775    0.000071\n",
      "186,468      0.000071\n",
      "Name: Market Cap.(NTD MN), Length: 6911, dtype: float64\n",
      "\n",
      "categorical variable: Date\n",
      "2016/3/2      0.000713\n",
      "2017/2/22     0.000713\n",
      "2016/5/16     0.000713\n",
      "2020/7/10     0.000713\n",
      "2016/10/6     0.000713\n",
      "                ...   \n",
      "2017/8/1      0.000713\n",
      "2015/9/24     0.000713\n",
      "2016/12/21    0.000713\n",
      "2020/4/16     0.000713\n",
      "2015/9/18     0.000713\n",
      "Name: Date, Length: 1402, dtype: float64\n",
      "\n",
      "categorical variable: AVG CLOSE 20D\n",
      "15.31       0.000927\n",
      "12.85       0.000785\n",
      "11.59       0.000785\n",
      "13.02       0.000713\n",
      "13.07       0.000713\n",
      "              ...   \n",
      "3,776.25    0.000071\n",
      "4,780       0.000071\n",
      "4,305.25    0.000071\n",
      "234.43      0.000071\n",
      "137.525     0.000071\n",
      "Name: AVG CLOSE 20D, Length: 9956, dtype: float64\n",
      "\n",
      "categorical variable: AVG CLOSE 5D\n",
      "18.38    0.000927\n",
      "18.27    0.000927\n",
      "18.29    0.000785\n",
      "19.52    0.000713\n",
      "18.69    0.000713\n",
      "           ...   \n",
      "416.9    0.000071\n",
      "21.63    0.000071\n",
      "572      0.000071\n",
      "2,101    0.000071\n",
      "422.3    0.000071\n",
      "Name: AVG CLOSE 5D, Length: 7686, dtype: float64\n",
      "\n",
      "categorical variable: High(NTD)\n",
      "18.3     0.002924\n",
      "18.4     0.002924\n",
      "18.7     0.002853\n",
      "18.45    0.002782\n",
      "51       0.002425\n",
      "           ...   \n",
      "202.5    0.000071\n",
      "460.5    0.000071\n",
      "5,990    0.000071\n",
      "26.11    0.000071\n",
      "4,960    0.000071\n",
      "Name: High(NTD), Length: 3246, dtype: float64\n",
      "\n",
      "categorical variable: Shares(1000S)\n",
      "134,140       0.100000\n",
      "10,233,603    0.100000\n",
      "25,930,380    0.094722\n",
      "12,563,210    0.083167\n",
      "17,328,738    0.037660\n",
      "                ...   \n",
      "2,247,034     0.000071\n",
      "410,034       0.000071\n",
      "1,066,000     0.000071\n",
      "1,513,500     0.000071\n",
      "661,500       0.000071\n",
      "Name: Shares(1000S), Length: 1198, dtype: float64\n",
      "\n",
      "categorical variable: No.of Employee\n",
      "9,239      0.125\n",
      "757,404    0.125\n",
      "51,297     0.125\n",
      "44,465     0.125\n",
      "56,474     0.125\n",
      "17,449     0.125\n",
      "7,719      0.125\n",
      "14,223     0.125\n",
      "Name: No.of Employee, dtype: float64\n",
      "\n",
      "categorical variable: AVG Vol 10D\n",
      "5,198.80     0.000143\n",
      "14,439.43    0.000143\n",
      "11,603.41    0.000143\n",
      "4,388.99     0.000143\n",
      "3,263.77     0.000143\n",
      "               ...   \n",
      "33,462.64    0.000071\n",
      "11,990.91    0.000071\n",
      "2,160.37     0.000071\n",
      "8,915.59     0.000071\n",
      "14,145.07    0.000071\n",
      "Name: AVG Vol 10D, Length: 13997, dtype: float64\n",
      "\n",
      "categorical variable: Amount(NTD1000)\n",
      "0            0.000571\n",
      "291,955      0.000143\n",
      "546,394      0.000143\n",
      "395,994      0.000143\n",
      "371,598      0.000143\n",
      "               ...   \n",
      "1,432,788    0.000071\n",
      "191,075      0.000071\n",
      "4,146,288    0.000071\n",
      "3,496,720    0.000071\n",
      "307,884      0.000071\n",
      "Name: Amount(NTD1000), Length: 13970, dtype: float64\n",
      "\n",
      "categorical variable: Close(NTD)\n",
      "18.3     0.003210\n",
      "18.4     0.002568\n",
      "13       0.002425\n",
      "18.25    0.002354\n",
      "18.7     0.002282\n",
      "           ...   \n",
      "25.21    0.000071\n",
      "24.42    0.000071\n",
      "77.75    0.000071\n",
      "89.7     0.000071\n",
      "416.5    0.000071\n",
      "Name: Close(NTD), Length: 3289, dtype: float64\n",
      "\n"
     ]
    },
    {
     "data": {
      "text/plain": [
       "[None,\n",
       " None,\n",
       " None,\n",
       " None,\n",
       " None,\n",
       " None,\n",
       " None,\n",
       " None,\n",
       " None,\n",
       " None,\n",
       " None,\n",
       " None,\n",
       " None,\n",
       " None,\n",
       " None,\n",
       " None,\n",
       " None,\n",
       " None,\n",
       " None,\n",
       " None]"
      ]
     },
     "execution_count": 13,
     "metadata": {},
     "output_type": "execute_result"
    }
   ],
   "source": [
    "[print(f'categorical variable: {i}\\n{stock_data[i].value_counts(normalize=True, sort=True)}\\n') for i in stock_data_categorical_variables_cols_list]"
   ]
  },
  {
   "cell_type": "markdown",
   "metadata": {},
   "source": [
    "#### bar plots"
   ]
  },
  {
   "cell_type": "code",
   "execution_count": null,
   "metadata": {},
   "outputs": [
    {
     "data": {
      "image/png": "[encoded data removed]",
      "text/plain": [
       "<Figure size 432x288 with 1 Axes>"
      ]
     },
     "metadata": {
      "needs_background": "light"
     },
     "output_type": "display_data"
    },
    {
     "data": {
      "image/png": "[encoded data removed]",
      "text/plain": [
       "<Figure size 432x288 with 1 Axes>"
      ]
     },
     "metadata": {
      "needs_background": "light"
     },
     "output_type": "display_data"
    },
    {
     "data": {
      "image/png": "[encoded data removed]",
      "text/plain": [
       "<Figure size 432x288 with 1 Axes>"
      ]
     },
     "metadata": {
      "needs_background": "light"
     },
     "output_type": "display_data"
    },
    {
     "data": {
      "image/png": "[encoded data removed]",
      "text/plain": [
       "<Figure size 432x288 with 1 Axes>"
      ]
     },
     "metadata": {
      "needs_background": "light"
     },
     "output_type": "display_data"
    },
    {
     "data": {
      "image/png": "[encoded data removed]",
      "text/plain": [
       "<Figure size 432x288 with 1 Axes>"
      ]
     },
     "metadata": {
      "needs_background": "light"
     },
     "output_type": "display_data"
    },
    {
     "data": {
      "image/png": "[encoded data removed]",
      "text/plain": [
       "<Figure size 432x288 with 1 Axes>"
      ]
     },
     "metadata": {
      "needs_background": "light"
     },
     "output_type": "display_data"
    },
    {
     "data": {
      "image/png": "[encoded data removed]",
      "text/plain": [
       "<Figure size 432x288 with 1 Axes>"
      ]
     },
     "metadata": {
      "needs_background": "light"
     },
     "output_type": "display_data"
    },
    {
     "data": {
      "image/png": "[encoded data removed]",
      "text/plain": [
       "<Figure size 432x288 with 1 Axes>"
      ]
     },
     "metadata": {
      "needs_background": "light"
     },
     "output_type": "display_data"
    },
    {
     "data": {
      "image/png": "[encoded data removed]",
      "text/plain": [
       "<Figure size 432x288 with 1 Axes>"
      ]
     },
     "metadata": {
      "needs_background": "light"
     },
     "output_type": "display_data"
    },
    {
     "data": {
      "image/png": "[encoded data removed]",
      "text/plain": [
       "<Figure size 432x288 with 1 Axes>"
      ]
     },
     "metadata": {
      "needs_background": "light"
     },
     "output_type": "display_data"
    },
    {
     "data": {
      "image/png": "[encoded data removed]",
      "text/plain": [
       "<Figure size 432x288 with 1 Axes>"
      ]
     },
     "metadata": {
      "needs_background": "light"
     },
     "output_type": "display_data"
    },
    {
     "data": {
      "image/png": "[encoded data removed]",
      "text/plain": [
       "<Figure size 432x288 with 1 Axes>"
      ]
     },
     "metadata": {
      "needs_background": "light"
     },
     "output_type": "display_data"
    }
   ],
   "source": [
    "# [stock_data[i].value_counts().plot.bar(title=f'Freq dist of {i}') for i in stock_data_categorical_variables_cols_list]\n",
    "for stock_data_categorical_variables_col in stock_data_categorical_variables_cols_list:\n",
    "    stock_data[stock_data_categorical_variables_col].value_counts().plot.bar()\n",
    "    plt.title(f'Freq dist of {stock_data_categorical_variables_col}')\n",
    "    # plt.savefig(f'bar{stock_data_categorical_variables_col}.png')\n",
    "    plt.show()"
   ]
  },
  {
   "cell_type": "markdown",
   "metadata": {},
   "source": [
    "#### histograms"
   ]
  },
  {
   "cell_type": "code",
   "execution_count": null,
   "metadata": {},
   "outputs": [],
   "source": [
    "for stock_data_continuous_variables_col in stock_data_continuous_variables_cols_list: \n",
    "    stock_data[stock_data_continuous_variables_col].hist(figsize= (8, 8), bins= 100)\n",
    "    plt.title(stock_data_continuous_variables_col)\n",
    "    # plt.savefig(f'hist{stock_data_continuous_variables_col}.png')\n",
    "    plt.show()"
   ]
  },
  {
   "cell_type": "markdown",
   "metadata": {},
   "source": [
    "#### distribution plots"
   ]
  },
  {
   "cell_type": "code",
   "execution_count": null,
   "metadata": {},
   "outputs": [],
   "source": [
    "fig, ax = plt.subplots(len(stock_data_continuous_variables_cols_list), figsize=(16, 30))\n",
    "for stock_data_idx, stock_data_continuous_variables_col in enumerate(stock_data_continuous_variables_cols_list):\n",
    "    sns.distplot(stock_data[stock_data_continuous_variables_col], hist=True, ax=ax[stock_data_idx])\n",
    "    ax[stock_data_idx].set_title('Freq dist '+ stock_data_continuous_variables_col, fontsize=20)\n",
    "    ax[stock_data_idx].set_xlabel(stock_data_continuous_variables_col, fontsize=10)\n",
    "    ax[stock_data_idx].set_ylabel('Count', fontsize=10)\n",
    "plt.show()"
   ]
  },
  {
   "cell_type": "markdown",
   "metadata": {},
   "source": [
    "#### pairwise scatterplots"
   ]
  },
  {
   "cell_type": "code",
   "execution_count": null,
   "metadata": {},
   "outputs": [],
   "source": [
    "sns.pairplot(stock_data[stock_data_continuous_variables_cols_list])\n",
    "plt.show()"
   ]
  },
  {
   "cell_type": "markdown",
   "metadata": {},
   "source": [
    "#### heatmap"
   ]
  },
  {
   "cell_type": "code",
   "execution_count": null,
   "metadata": {},
   "outputs": [],
   "source": [
    "plt.figure(figsize=(10, 10))\n",
    "sns.heatmap(stock_data.corr(), annot=False, center=0.0, cmap='coolwarm'); # cmap=\"YlGnBu\",\n",
    "#plt.savefig('heatmap.png')\n",
    "plt.show()"
   ]
  },
  {
   "cell_type": "markdown",
   "metadata": {},
   "source": [
    "## 2. Please download the adult dataset and practice how to conduct exploratory data analysis. "
   ]
  },
  {
   "cell_type": "markdown",
   "metadata": {},
   "source": [
    "#### read csv in jupyter notebook"
   ]
  },
  {
   "cell_type": "code",
   "execution_count": null,
   "metadata": {},
   "outputs": [],
   "source": [
    "dataset = pd.read_csv('adult.csv')"
   ]
  },
  {
   "cell_type": "markdown",
   "metadata": {},
   "source": [
    "#### Viewing/inspecting data"
   ]
  },
  {
   "cell_type": "code",
   "execution_count": null,
   "metadata": {},
   "outputs": [],
   "source": [
    "print(\"dataset_shape = \", dataset.shape)"
   ]
  },
  {
   "cell_type": "code",
   "execution_count": null,
   "metadata": {},
   "outputs": [],
   "source": [
    "dataset.head()"
   ]
  },
  {
   "cell_type": "code",
   "execution_count": null,
   "metadata": {},
   "outputs": [],
   "source": [
    "dataset.tail()"
   ]
  },
  {
   "cell_type": "code",
   "execution_count": null,
   "metadata": {},
   "outputs": [],
   "source": [
    "dataset.info()"
   ]
  },
  {
   "cell_type": "markdown",
   "metadata": {},
   "source": [
    "#### data preprocess, add column names"
   ]
  },
  {
   "cell_type": "code",
   "execution_count": null,
   "metadata": {},
   "outputs": [],
   "source": [
    "attribute_name = ['age', 'workclass', 'fnlwgt', 'education', 'education-num', 'marital-status', 'occupation', 'relationship', 'race', 'sex', 'capital-gain', 'capital-loss', 'hours-per-week', 'native-country', 'annual-income']"
   ]
  },
  {
   "cell_type": "code",
   "execution_count": null,
   "metadata": {},
   "outputs": [],
   "source": [
    "dataset = pd.read_csv('adult.csv', header=None, names=attribute_name)"
   ]
  },
  {
   "cell_type": "code",
   "execution_count": null,
   "metadata": {},
   "outputs": [],
   "source": [
    "print(\"dataset_shape = \", dataset.shape)"
   ]
  },
  {
   "cell_type": "code",
   "execution_count": null,
   "metadata": {},
   "outputs": [],
   "source": [
    "dataset.head()"
   ]
  },
  {
   "cell_type": "code",
   "execution_count": null,
   "metadata": {},
   "outputs": [],
   "source": [
    "dataset.tail()"
   ]
  },
  {
   "cell_type": "code",
   "execution_count": null,
   "metadata": {},
   "outputs": [],
   "source": [
    "dataset.info()"
   ]
  },
  {
   "cell_type": "markdown",
   "metadata": {},
   "source": [
    "### 1. Show the summary statistics of all numerical variables. "
   ]
  },
  {
   "cell_type": "code",
   "execution_count": null,
   "metadata": {},
   "outputs": [],
   "source": [
    "dataset.describe()"
   ]
  },
  {
   "cell_type": "code",
   "execution_count": null,
   "metadata": {},
   "outputs": [],
   "source": [
    "print(dataset.nunique())"
   ]
  },
  {
   "cell_type": "markdown",
   "metadata": {},
   "source": [
    "### 2. Identify categorical and continuous variables. "
   ]
  },
  {
   "cell_type": "code",
   "execution_count": null,
   "metadata": {},
   "outputs": [],
   "source": [
    "cols = dataset.columns\n",
    "continuous_variables_cols = dataset._get_numeric_data().columns"
   ]
  },
  {
   "cell_type": "markdown",
   "metadata": {},
   "source": [
    "#### continuous variables"
   ]
  },
  {
   "cell_type": "code",
   "execution_count": null,
   "metadata": {},
   "outputs": [],
   "source": [
    "continuous_variables_cols_set = set(continuous_variables_cols)"
   ]
  },
  {
   "cell_type": "code",
   "execution_count": null,
   "metadata": {},
   "outputs": [],
   "source": [
    "continuous_variables_cols_list = list(continuous_variables_cols_set)\n",
    "print(\"continuous_variables:\", continuous_variables_cols_list)"
   ]
  },
  {
   "cell_type": "markdown",
   "metadata": {},
   "source": [
    "#### categorical variables"
   ]
  },
  {
   "cell_type": "code",
   "execution_count": null,
   "metadata": {},
   "outputs": [],
   "source": [
    "categorical_variables_cols_set = set(cols) - set(continuous_variables_cols)"
   ]
  },
  {
   "cell_type": "code",
   "execution_count": null,
   "metadata": {},
   "outputs": [],
   "source": [
    "categorical_variables_cols_list = list(categorical_variables_cols_set)\n",
    "print(\"categorical_variables:\", categorical_variables_cols_list)"
   ]
  },
  {
   "cell_type": "markdown",
   "metadata": {},
   "source": [
    "### 3. For each categorical variable, print frequency and relative frequency tables. "
   ]
  },
  {
   "cell_type": "markdown",
   "metadata": {},
   "source": [
    "#### frequency tables"
   ]
  },
  {
   "cell_type": "code",
   "execution_count": null,
   "metadata": {},
   "outputs": [],
   "source": [
    "[print(f'categorical variable: {i}\\n{dataset[i].value_counts()}\\n') for i in categorical_variables_cols_list]"
   ]
  },
  {
   "cell_type": "markdown",
   "metadata": {},
   "source": [
    "#### relative frequency tables"
   ]
  },
  {
   "cell_type": "code",
   "execution_count": null,
   "metadata": {},
   "outputs": [],
   "source": [
    "[print(f'categorical variable: {i}\\n{dataset[i].value_counts(normalize=True, sort=True)}\\n') for i in categorical_variables_cols_list]"
   ]
  },
  {
   "cell_type": "markdown",
   "metadata": {},
   "source": [
    "### 4. Draw bar plots for each categorical variable. "
   ]
  },
  {
   "cell_type": "code",
   "execution_count": null,
   "metadata": {},
   "outputs": [],
   "source": [
    "# [dataset[i].value_counts().plot.bar(title=f'Freq dist of {i}') for i in categorical_variables_cols_list]\n",
    "for categorical_variables_col in categorical_variables_cols_list:\n",
    "    dataset[categorical_variables_col].value_counts().plot.bar()\n",
    "    plt.title(f'Freq dist of {categorical_variables_col}')\n",
    "    # plt.savefig(f'bar{categorical_variables_col}.png')\n",
    "    plt.show()"
   ]
  },
  {
   "cell_type": "markdown",
   "metadata": {},
   "source": [
    "### 5. For each continuous variable, draw histograms and distribution plots. "
   ]
  },
  {
   "cell_type": "markdown",
   "metadata": {},
   "source": [
    "#### histograms"
   ]
  },
  {
   "cell_type": "code",
   "execution_count": null,
   "metadata": {},
   "outputs": [],
   "source": [
    "# method1\n",
    "for continuous_variables_col in continuous_variables_cols_list: \n",
    "    dataset[continuous_variables_col].hist(figsize= (8, 8), bins= 100)\n",
    "    plt.title(continuous_variables_col)\n",
    "    # plt.savefig(f'hist{continuous_variables_col}.png')\n",
    "    plt.show()"
   ]
  },
  {
   "cell_type": "code",
   "execution_count": null,
   "metadata": {},
   "outputs": [],
   "source": [
    "# method2\n",
    "dataset.hist()"
   ]
  },
  {
   "cell_type": "markdown",
   "metadata": {},
   "source": [
    "#### distribution plots"
   ]
  },
  {
   "cell_type": "code",
   "execution_count": null,
   "metadata": {},
   "outputs": [],
   "source": [
    "fig, ax = plt.subplots(len(continuous_variables_cols_list), figsize=(16, 30))\n",
    "for idx, continuous_variables_col in enumerate(continuous_variables_cols_list):\n",
    "    sns.distplot(dataset[continuous_variables_col], hist=True, ax=ax[idx])\n",
    "    ax[idx].set_title('Freq dist '+ continuous_variables_col, fontsize=20)\n",
    "    ax[idx].set_xlabel(continuous_variables_col, fontsize=10)\n",
    "    ax[idx].set_ylabel('Count', fontsize=10)\n",
    "plt.show()"
   ]
  },
  {
   "cell_type": "markdown",
   "metadata": {},
   "source": [
    "### 6. Draw pairwise scatterplots for continuous variables. Explain any discernable patterns? "
   ]
  },
  {
   "cell_type": "code",
   "execution_count": null,
   "metadata": {},
   "outputs": [],
   "source": [
    "# method1\n",
    "sns.pairplot(dataset[continuous_variables_cols_list])\n",
    "plt.show()"
   ]
  },
  {
   "cell_type": "code",
   "execution_count": null,
   "metadata": {},
   "outputs": [],
   "source": [
    "# method2\n",
    "for continuous_variables_col2 in continuous_variables_cols_list:\n",
    "    for continuous_variables_col1 in continuous_variables_cols_list: \n",
    "        plt.scatter(dataset[continuous_variables_col1], dataset[continuous_variables_col2])       \n",
    "        plt.xlabel(f'{continuous_variables_col1}')\n",
    "        plt.ylabel(f'{continuous_variables_col2}')\n",
    "        plt.show()"
   ]
  },
  {
   "cell_type": "markdown",
   "metadata": {},
   "source": [
    "* capital-gain和capital-loss呈現L型，因為兩者一至少有一個為0(因兩者有互斥性質)\n",
    "* capital-gain當一軸時，中間通常是空掉的\n",
    "* 有些的分布情形是佈滿圖，而有些是點大部分接近於兩軸"
   ]
  },
  {
   "cell_type": "markdown",
   "metadata": {},
   "source": [
    "### 7. Draw a heatmap for the correlations among all variables. What do you observe? "
   ]
  },
  {
   "cell_type": "code",
   "execution_count": null,
   "metadata": {},
   "outputs": [],
   "source": [
    "plt.figure(figsize=(10, 10))\n",
    "sns.heatmap(dataset.corr(), annot=False, center=0.0, cmap='coolwarm'); # cmap=\"YlGnBu\",\n",
    "#plt.savefig('heatmap.png')\n",
    "plt.show()"
   ]
  },
  {
   "cell_type": "markdown",
   "metadata": {},
   "source": [
    "* correlation是pairwise\n",
    "* only continuous variables, no categorical variables\n",
    "* 自己和自己的block一定是紅色(因為correlation = 1)\n",
    "* fnlwgt和大部分都無相關\n",
    "* education-num算是和大部分的其他變數最相關的\n",
    "* capital-gain和capital-loss幾乎為0，因為兩者一至少有一個為0(因兩者有互斥性質)"
   ]
  }
 ],
 "metadata": {
  "kernelspec": {
   "display_name": "Python 3",
   "language": "python",
   "name": "python3"
  },
  "language_info": {
   "codemirror_mode": {
    "name": "ipython",
    "version": 3
   },
   "file_extension": ".py",
   "mimetype": "text/x-python",
   "name": "python",
   "nbconvert_exporter": "python",
   "pygments_lexer": "ipython3",
   "version": "3.7.4"
  }
 },
 "nbformat": 4,
 "nbformat_minor": 2
}
